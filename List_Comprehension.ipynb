{
 "cells": [
  {
   "cell_type": "code",
   "execution_count": 1,
   "id": "e5ff55b0",
   "metadata": {},
   "outputs": [],
   "source": [
    "##create list"
   ]
  },
  {
   "cell_type": "code",
   "execution_count": 2,
   "id": "b949fc3e",
   "metadata": {},
   "outputs": [],
   "source": [
    "a =[1,2,3,4,5,6]"
   ]
  },
  {
   "cell_type": "code",
   "execution_count": 3,
   "id": "449e8888",
   "metadata": {},
   "outputs": [],
   "source": [
    "#by taking user input"
   ]
  },
  {
   "cell_type": "code",
   "execution_count": 6,
   "id": "185b7351",
   "metadata": {},
   "outputs": [
    {
     "name": "stdout",
     "output_type": "stream",
     "text": [
      "Enter size : 6\n",
      "Enter value: 6\n",
      "Enter value: 5\n",
      "Enter value: 4\n",
      "Enter value: 3\n",
      "Enter value: 2\n",
      "Enter value: 1\n",
      "[6, 5, 4, 3, 2, 1]\n"
     ]
    }
   ],
   "source": [
    "a=[]\n",
    "size =int(input('Enter size : '))\n",
    "for i in range(size):\n",
    "    val = int(input('Enter value: '))\n",
    "    a.append(val)\n",
    "print(a)"
   ]
  },
  {
   "cell_type": "code",
   "execution_count": 7,
   "id": "d034cb9e",
   "metadata": {},
   "outputs": [],
   "source": [
    "##another way\n",
    "# for i in range(5):\n",
    "#a[i]=i*i"
   ]
  },
  {
   "cell_type": "code",
   "execution_count": 13,
   "id": "177c877a",
   "metadata": {},
   "outputs": [],
   "source": [
    "#list comprehension\n",
    "a=[i*i for i in range(5)] # list name =[ element to enter codition] "
   ]
  },
  {
   "cell_type": "code",
   "execution_count": 14,
   "id": "188e10b9",
   "metadata": {},
   "outputs": [
    {
     "data": {
      "text/plain": [
       "[0, 1, 4, 9, 16]"
      ]
     },
     "execution_count": 14,
     "metadata": {},
     "output_type": "execute_result"
    }
   ],
   "source": [
    "a"
   ]
  },
  {
   "cell_type": "code",
   "execution_count": 17,
   "id": "7ea2e317",
   "metadata": {},
   "outputs": [],
   "source": [
    "##another example\n",
    "a =[]\n",
    "for i in range(1,6):\n",
    "    a.append(i*2)"
   ]
  },
  {
   "cell_type": "code",
   "execution_count": 18,
   "id": "bc28f425",
   "metadata": {},
   "outputs": [
    {
     "data": {
      "text/plain": [
       "[2, 4, 6, 8, 10]"
      ]
     },
     "execution_count": 18,
     "metadata": {},
     "output_type": "execute_result"
    }
   ],
   "source": [
    "a"
   ]
  },
  {
   "cell_type": "code",
   "execution_count": 19,
   "id": "e00e8bcc",
   "metadata": {},
   "outputs": [],
   "source": [
    "#list comprehension of above function\n",
    "a=[ i*2 for i in range(1,6)]"
   ]
  },
  {
   "cell_type": "code",
   "execution_count": 20,
   "id": "40bc3f34",
   "metadata": {},
   "outputs": [
    {
     "data": {
      "text/plain": [
       "[2, 4, 6, 8, 10]"
      ]
     },
     "execution_count": 20,
     "metadata": {},
     "output_type": "execute_result"
    }
   ],
   "source": [
    "a"
   ]
  },
  {
   "cell_type": "code",
   "execution_count": 21,
   "id": "5103e0e7",
   "metadata": {},
   "outputs": [],
   "source": [
    "##Example 3"
   ]
  },
  {
   "cell_type": "code",
   "execution_count": 26,
   "id": "d56926c0",
   "metadata": {},
   "outputs": [],
   "source": [
    "a=[]\n",
    "for i in range(1,50):\n",
    "    if i%7==0:\n",
    "        a.append(i)"
   ]
  },
  {
   "cell_type": "code",
   "execution_count": 27,
   "id": "ca43218e",
   "metadata": {},
   "outputs": [
    {
     "data": {
      "text/plain": [
       "[7, 14, 21, 28, 35, 42, 49]"
      ]
     },
     "execution_count": 27,
     "metadata": {},
     "output_type": "execute_result"
    }
   ],
   "source": [
    "a"
   ]
  },
  {
   "cell_type": "code",
   "execution_count": 32,
   "id": "900d1a89",
   "metadata": {},
   "outputs": [],
   "source": [
    "a=[i for i in range(1,50) if i%7==0] ##apend elemnt, loop, append condition"
   ]
  },
  {
   "cell_type": "code",
   "execution_count": 33,
   "id": "e1c86e63",
   "metadata": {},
   "outputs": [
    {
     "data": {
      "text/plain": [
       "[7, 14, 21, 28, 35, 42, 49]"
      ]
     },
     "execution_count": 33,
     "metadata": {},
     "output_type": "execute_result"
    }
   ],
   "source": [
    "a"
   ]
  },
  {
   "cell_type": "code",
   "execution_count": 35,
   "id": "22b08745",
   "metadata": {},
   "outputs": [],
   "source": [
    "##another example\n",
    "b =[i  if i<5 else i*2 for i in range(2,9)]"
   ]
  },
  {
   "cell_type": "code",
   "execution_count": 36,
   "id": "0a1d905f",
   "metadata": {},
   "outputs": [
    {
     "data": {
      "text/plain": [
       "[2, 3, 4, 10, 12, 14, 16]"
      ]
     },
     "execution_count": 36,
     "metadata": {},
     "output_type": "execute_result"
    }
   ],
   "source": [
    "b"
   ]
  },
  {
   "cell_type": "code",
   "execution_count": 40,
   "id": "11a57d86",
   "metadata": {},
   "outputs": [],
   "source": [
    "##example- create a list from val list which are divisible by 3\n",
    "vals = [31,15,42,12,5,39,21,61,25]\n",
    "b = [i  for i in vals if i%3==0]"
   ]
  },
  {
   "cell_type": "code",
   "execution_count": 41,
   "id": "2964ca31",
   "metadata": {},
   "outputs": [
    {
     "data": {
      "text/plain": [
       "[15, 42, 12, 39, 21]"
      ]
     },
     "execution_count": 41,
     "metadata": {},
     "output_type": "execute_result"
    }
   ],
   "source": [
    "b"
   ]
  },
  {
   "cell_type": "code",
   "execution_count": 45,
   "id": "614c0c98",
   "metadata": {},
   "outputs": [],
   "source": [
    "##example\n",
    "lst = [('a',11), (\"b\",12),(\"c\",13)]\n",
    "nl =[n*3 for (x,n) in  lst if x=='b' or x=='c']"
   ]
  },
  {
   "cell_type": "code",
   "execution_count": 46,
   "id": "1f8e6442",
   "metadata": {},
   "outputs": [
    {
     "data": {
      "text/plain": [
       "[36, 39]"
      ]
     },
     "execution_count": 46,
     "metadata": {},
     "output_type": "execute_result"
    }
   ],
   "source": [
    "nl"
   ]
  },
  {
   "cell_type": "code",
   "execution_count": null,
   "id": "a9c5bf3d",
   "metadata": {},
   "outputs": [],
   "source": []
  }
 ],
 "metadata": {
  "kernelspec": {
   "display_name": "Python 3 (ipykernel)",
   "language": "python",
   "name": "python3"
  },
  "language_info": {
   "codemirror_mode": {
    "name": "ipython",
    "version": 3
   },
   "file_extension": ".py",
   "mimetype": "text/x-python",
   "name": "python",
   "nbconvert_exporter": "python",
   "pygments_lexer": "ipython3",
   "version": "3.9.13"
  }
 },
 "nbformat": 4,
 "nbformat_minor": 5
}
