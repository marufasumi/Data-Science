{
 "cells": [
  {
   "cell_type": "code",
   "execution_count": 3,
   "id": "9dcd87a1",
   "metadata": {},
   "outputs": [
    {
     "name": "stdout",
     "output_type": "stream",
     "text": [
      "llo Wo\n"
     ]
    }
   ],
   "source": [
    "##String slicing\n",
    "# string[start:end:step value] by default step value is 1\n",
    "# whatever last value prvided it will print before the last value if last value is n it will print till n-1\n",
    "str1 = 'Hello World'\n",
    "print (str1[2:-3])"
   ]
  },
  {
   "cell_type": "code",
   "execution_count": 4,
   "id": "2cb1f55b",
   "metadata": {},
   "outputs": [
    {
     "name": "stdout",
     "output_type": "stream",
     "text": [
      "World Hello \n"
     ]
    }
   ],
   "source": [
    "print(str1[6:],str1[:6])"
   ]
  },
  {
   "cell_type": "code",
   "execution_count": 5,
   "id": "e7cb9013",
   "metadata": {},
   "outputs": [
    {
     "name": "stdout",
     "output_type": "stream",
     "text": [
      "Worl\n"
     ]
    }
   ],
   "source": [
    "print(str1[6:10])"
   ]
  },
  {
   "cell_type": "code",
   "execution_count": 6,
   "id": "e80fafb1",
   "metadata": {},
   "outputs": [
    {
     "name": "stdout",
     "output_type": "stream",
     "text": [
      "World\n"
     ]
    }
   ],
   "source": [
    "print(str1[6:])"
   ]
  },
  {
   "cell_type": "code",
   "execution_count": 7,
   "id": "9e5a2f03",
   "metadata": {},
   "outputs": [
    {
     "name": "stdout",
     "output_type": "stream",
     "text": [
      "lo Wor\n"
     ]
    }
   ],
   "source": [
    "print(str1[3:-2])"
   ]
  },
  {
   "cell_type": "code",
   "execution_count": 8,
   "id": "820bd086",
   "metadata": {},
   "outputs": [
    {
     "name": "stdout",
     "output_type": "stream",
     "text": [
      "Hello\n"
     ]
    }
   ],
   "source": [
    "print(str1[:5])"
   ]
  },
  {
   "cell_type": "raw",
   "id": "7b5e8a00",
   "metadata": {},
   "source": [
    "## string in build function\n",
    "\n",
    "len() : this function return the length of the string\n",
    "capitalize() : capitalize the first letter of the string\n"
   ]
  },
  {
   "cell_type": "code",
   "execution_count": 9,
   "id": "49547d01",
   "metadata": {},
   "outputs": [],
   "source": [
    "#Python program to reverse a string using for loop"
   ]
  },
  {
   "cell_type": "code",
   "execution_count": 13,
   "id": "7fd0d614",
   "metadata": {},
   "outputs": [
    {
     "name": "stdout",
     "output_type": "stream",
     "text": [
      "dcba\n"
     ]
    }
   ],
   "source": [
    "a = 'abcd'\n",
    "print( a[-1::-1]) # -1 step value we did not use end value\n"
   ]
  },
  {
   "cell_type": "code",
   "execution_count": 16,
   "id": "01084d36",
   "metadata": {},
   "outputs": [
    {
     "name": "stdout",
     "output_type": "stream",
     "text": [
      "Enter string sumi\n",
      "imus"
     ]
    }
   ],
   "source": [
    "a = input(\"Enter string \")\n",
    "for i in range(len(a)-1 ,-1,-1): # first value len-1 beacue index start from 0\n",
    "    print(a[i],end='')                                 # end value 0 - 0 will be excluded if we dont use -1\n",
    "                                 # step -1\n"
   ]
  },
  {
   "cell_type": "code",
   "execution_count": 35,
   "id": "343e79ba",
   "metadata": {},
   "outputs": [
    {
     "ename": "IndentationError",
     "evalue": "unindent does not match any outer indentation level (<tokenize>, line 12)",
     "output_type": "error",
     "traceback": [
      "\u001b[1;36m  File \u001b[1;32m\"<tokenize>\"\u001b[1;36m, line \u001b[1;32m12\u001b[0m\n\u001b[1;33m    else:\u001b[0m\n\u001b[1;37m    ^\u001b[0m\n\u001b[1;31mIndentationError\u001b[0m\u001b[1;31m:\u001b[0m unindent does not match any outer indentation level\n"
     ]
    }
   ],
   "source": [
    "## program to count vowel and consonant in a string\n",
    "\n",
    "def count_v_c(a):\n",
    "    v = 0\n",
    "    c = 0\n",
    "    for i in range(0,len(a)): # if last value is 11  for loop will go till 10\n",
    "        if (a[i]!='': # space does not belongs to vowel or consonat thats why first check it\n",
    "            if a[i]=='a' or a[i]=='e' or a[i]=='i' or a[i] =='o' or a[i] =='u'\n",
    "            \n",
    "             or a[i]=='A' or a[i]=='E' or a[i]=='I' or a[i] =='O' or a[i] =='U):\n",
    "                v=v+1\n",
    "            else:\n",
    "            c =c+1\n",
    "     print(\"Total vowel = \", v)\n",
    "     print(\"Total Consonat = \",c)\n",
    "        "
   ]
  },
  {
   "cell_type": "code",
   "execution_count": 44,
   "id": "77587242",
   "metadata": {},
   "outputs": [],
   "source": [
    "def count_vowel_consonant(x):\n",
    "    vowel = 0\n",
    "    consonant = 0\n",
    "    for i in range (0, len(x)):\n",
    "        if x[i] !='':\n",
    "            if (x[i]=='a' or x[i]=='e' or x[i]=='i' or x[i] =='o' or x[i] =='u'\n",
    "                or x[i]=='A' or x[i]=='E' or x[i]=='I'or x[i] =='O'or x[i] =='U'):\n",
    "                vowel = vowel+1\n",
    "            else:\n",
    "                consonant = consonant+1\n",
    "    print(\"vowel =\",vowel)\n",
    "    print(\"consonant = \" ,consonant)\n",
    "                "
   ]
  },
  {
   "cell_type": "code",
   "execution_count": 45,
   "id": "e7fd90e5",
   "metadata": {},
   "outputs": [
    {
     "name": "stdout",
     "output_type": "stream",
     "text": [
      "vowel = 5\n",
      "consonant =  6\n"
     ]
    }
   ],
   "source": [
    "count_vowel_consonant('marufa sumi')"
   ]
  },
  {
   "cell_type": "raw",
   "id": "4343d3fc",
   "metadata": {},
   "source": [
    "## string in build function\n",
    "len(): define the length of the string\n",
    "capitalize (): capitalize the first charecter\n",
    "str.capitalize()\n",
    "find(): return index\n",
    "isalnum() : return True if the charecters are alphanumeric - at least one charecter if blank it will return False\n",
    "isdigit(): True if all charecters are digit\n",
    "isspace():This  return true when there are only white spaces in the string and there is atleast one charecter\n"
   ]
  },
  {
   "cell_type": "code",
   "execution_count": 47,
   "id": "c00b323a",
   "metadata": {},
   "outputs": [
    {
     "data": {
      "text/plain": [
       "7"
      ]
     },
     "execution_count": 47,
     "metadata": {},
     "output_type": "execute_result"
    }
   ],
   "source": [
    "# use of find function\n",
    "a = \"I love Bangladesh more\"\n",
    "b = \"Bangladesh\"\n",
    "a.find(b,0,len(a))"
   ]
  },
  {
   "cell_type": "code",
   "execution_count": null,
   "id": "9b748ee4",
   "metadata": {},
   "outputs": [],
   "source": [
    "##palindrome"
   ]
  }
 ],
 "metadata": {
  "kernelspec": {
   "display_name": "Python 3 (ipykernel)",
   "language": "python",
   "name": "python3"
  },
  "language_info": {
   "codemirror_mode": {
    "name": "ipython",
    "version": 3
   },
   "file_extension": ".py",
   "mimetype": "text/x-python",
   "name": "python",
   "nbconvert_exporter": "python",
   "pygments_lexer": "ipython3",
   "version": "3.9.13"
  }
 },
 "nbformat": 4,
 "nbformat_minor": 5
}
