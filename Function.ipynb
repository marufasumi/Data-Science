{
 "cells": [
  {
   "cell_type": "code",
   "execution_count": 3,
   "id": "a74562bc",
   "metadata": {},
   "outputs": [],
   "source": [
    "##write a function for the addition of two numbers\n",
    "##with argument\n",
    "def add_two(x,y):\n",
    "    z = x+y\n",
    "    return z"
   ]
  },
  {
   "cell_type": "code",
   "execution_count": 4,
   "id": "47eb89b9",
   "metadata": {},
   "outputs": [
    {
     "data": {
      "text/plain": [
       "46"
      ]
     },
     "execution_count": 4,
     "metadata": {},
     "output_type": "execute_result"
    }
   ],
   "source": [
    "add_two(12,34)"
   ]
  },
  {
   "cell_type": "code",
   "execution_count": 6,
   "id": "402d25dd",
   "metadata": {},
   "outputs": [],
   "source": [
    "#without argument\n",
    "def addition():\n",
    "    a = int(input(\"Enter 1st numner\"))\n",
    "    b = int(input(\"Enter 1st numner\"))\n",
    "    c = a+b\n",
    "    return c"
   ]
  },
  {
   "cell_type": "code",
   "execution_count": 8,
   "id": "58c7f722",
   "metadata": {},
   "outputs": [
    {
     "name": "stdout",
     "output_type": "stream",
     "text": [
      "Enter 1st numner12\n",
      "Enter 1st numner34\n"
     ]
    },
    {
     "data": {
      "text/plain": [
       "46"
      ]
     },
     "execution_count": 8,
     "metadata": {},
     "output_type": "execute_result"
    }
   ],
   "source": [
    "addition()"
   ]
  },
  {
   "cell_type": "code",
   "execution_count": 9,
   "id": "1e3a2c71",
   "metadata": {},
   "outputs": [],
   "source": [
    "## Function for odd and even \n",
    "def odd_even(x):\n",
    "    if x%2==0:\n",
    "        print(\"Even\")\n",
    "    else:\n",
    "        print(\"odd\")"
   ]
  },
  {
   "cell_type": "code",
   "execution_count": 10,
   "id": "0397b214",
   "metadata": {},
   "outputs": [
    {
     "name": "stdout",
     "output_type": "stream",
     "text": [
      "Even\n"
     ]
    }
   ],
   "source": [
    "odd_even(12)"
   ]
  },
  {
   "cell_type": "raw",
   "id": "ca0eb4ba",
   "metadata": {},
   "source": [
    "way to create Function\n",
    "1) no argument no return\n",
    "2.with argument no return\n",
    "3.No argument with return\n",
    "4.No argument with return"
   ]
  },
  {
   "cell_type": "code",
   "execution_count": 11,
   "id": "22c41f19",
   "metadata": {},
   "outputs": [],
   "source": [
    "#Defalt argument in Function \n",
    "def add(a,b, c=5):\n",
    "    z = a+b+c\n",
    "    return z"
   ]
  },
  {
   "cell_type": "code",
   "execution_count": 12,
   "id": "12e902f8",
   "metadata": {},
   "outputs": [
    {
     "data": {
      "text/plain": [
       "16"
      ]
     },
     "execution_count": 12,
     "metadata": {},
     "output_type": "execute_result"
    }
   ],
   "source": [
    "add(6,5) # 5 will go autimatically"
   ]
  },
  {
   "cell_type": "code",
   "execution_count": 14,
   "id": "d6ea6061",
   "metadata": {},
   "outputs": [
    {
     "data": {
      "text/plain": [
       "9"
      ]
     },
     "execution_count": 14,
     "metadata": {},
     "output_type": "execute_result"
    }
   ],
   "source": [
    "add(5,1,3)"
   ]
  },
  {
   "cell_type": "code",
   "execution_count": null,
   "id": "27824b81",
   "metadata": {},
   "outputs": [],
   "source": []
  }
 ],
 "metadata": {
  "kernelspec": {
   "display_name": "Python 3 (ipykernel)",
   "language": "python",
   "name": "python3"
  },
  "language_info": {
   "codemirror_mode": {
    "name": "ipython",
    "version": 3
   },
   "file_extension": ".py",
   "mimetype": "text/x-python",
   "name": "python",
   "nbconvert_exporter": "python",
   "pygments_lexer": "ipython3",
   "version": "3.9.13"
  }
 },
 "nbformat": 4,
 "nbformat_minor": 5
}
