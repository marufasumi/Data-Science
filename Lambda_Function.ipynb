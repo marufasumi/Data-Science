{
 "cells": [
  {
   "cell_type": "raw",
   "id": "61d7ca02",
   "metadata": {},
   "source": [
    "Lambda function can take any number of arguments but can only have one expression\n",
    "\n",
    "syntax :\n",
    "variable = lambda arguments: expression\n",
    "\n",
    "The expression is executed and the result is returned"
   ]
  },
  {
   "cell_type": "code",
   "execution_count": 2,
   "id": "85954617",
   "metadata": {},
   "outputs": [],
   "source": [
    "def add(x):\n",
    "    x = x+10\n",
    "    return x"
   ]
  },
  {
   "cell_type": "code",
   "execution_count": 3,
   "id": "73e4ab26",
   "metadata": {},
   "outputs": [
    {
     "data": {
      "text/plain": [
       "15"
      ]
     },
     "execution_count": 3,
     "metadata": {},
     "output_type": "execute_result"
    }
   ],
   "source": [
    "add(5)"
   ]
  },
  {
   "cell_type": "code",
   "execution_count": 4,
   "id": "4f1919c0",
   "metadata": {},
   "outputs": [
    {
     "name": "stdout",
     "output_type": "stream",
     "text": [
      "15\n"
     ]
    }
   ],
   "source": [
    "##Lamda expression\n",
    "a = lambda x : x+10\n",
    "print(a(5))"
   ]
  },
  {
   "cell_type": "code",
   "execution_count": 5,
   "id": "ad006d05",
   "metadata": {},
   "outputs": [
    {
     "name": "stdout",
     "output_type": "stream",
     "text": [
      "5\n"
     ]
    }
   ],
   "source": [
    "a = lambda x,y : x+y\n",
    "print(a(2,3))"
   ]
  },
  {
   "cell_type": "code",
   "execution_count": 7,
   "id": "9c5954a7",
   "metadata": {},
   "outputs": [
    {
     "name": "stdout",
     "output_type": "stream",
     "text": [
      "9\n"
     ]
    }
   ],
   "source": [
    "a = lambda x,y,z: x+y+z\n",
    "print(a(2,3,4))"
   ]
  },
  {
   "cell_type": "raw",
   "id": "a5f73c50",
   "metadata": {},
   "source": [
    "## Filter function with lambda function\n",
    "The filter function returns an iterator where the items are filtered through a function of test if the item is accepted or not"
   ]
  }
 ],
 "metadata": {
  "kernelspec": {
   "display_name": "Python 3 (ipykernel)",
   "language": "python",
   "name": "python3"
  },
  "language_info": {
   "codemirror_mode": {
    "name": "ipython",
    "version": 3
   },
   "file_extension": ".py",
   "mimetype": "text/x-python",
   "name": "python",
   "nbconvert_exporter": "python",
   "pygments_lexer": "ipython3",
   "version": "3.9.13"
  }
 },
 "nbformat": 4,
 "nbformat_minor": 5
}
