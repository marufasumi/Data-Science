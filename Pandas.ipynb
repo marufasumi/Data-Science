{
 "cells": [
  {
   "cell_type": "markdown",
   "id": "7a1c8643",
   "metadata": {},
   "source": [
    "### Introduction\n",
    "PANDAS - Panel Data System\n",
    "\n",
    "- panda is use for data analysis\n",
    "\n",
    "- its a library of python\n",
    "\n",
    "we analyse two types of data with pandas:\n",
    "\n",
    "1.series\n",
    "\n",
    "2.DataFrame"
   ]
  },
  {
   "cell_type": "code",
   "execution_count": 2,
   "id": "a8512c0a",
   "metadata": {},
   "outputs": [],
   "source": [
    "import pandas as pd"
   ]
  },
  {
   "cell_type": "markdown",
   "id": "450db496",
   "metadata": {},
   "source": [
    "### PANDAS Data Structure\n",
    "\n",
    "Data Structure : It's a way of \n",
    "- to store data \n",
    "- to retrieve data\n",
    "- to manipulate data\n",
    "#### Python Data Structure:\n",
    "\n",
    "- Series : one dimensional array , homogeneous(same data type),value mutable (can be changed), size can not be changed\n",
    "\n",
    "- dataframe : two dimensional array, heterogenious(multiple data types), size mutable"
   ]
  },
  {
   "cell_type": "markdown",
   "id": "04f902b4",
   "metadata": {},
   "source": [
    "#### Series Data Structure"
   ]
  },
  {
   "cell_type": "code",
   "execution_count": 3,
   "id": "38fd8e5f",
   "metadata": {},
   "outputs": [],
   "source": [
    "#one dimensional array\n",
    "# it has two components - data and index"
   ]
  },
  {
   "cell_type": "markdown",
   "id": "c710013b",
   "metadata": {},
   "source": [
    "#### How to create series objects"
   ]
  },
  {
   "cell_type": "code",
   "execution_count": 5,
   "id": "f5387385",
   "metadata": {},
   "outputs": [
    {
     "name": "stderr",
     "output_type": "stream",
     "text": [
      "C:\\Users\\13612\\AppData\\Local\\Temp\\ipykernel_12276\\3337454502.py:3: FutureWarning: The default dtype for empty Series will be 'object' instead of 'float64' in a future version. Specify a dtype explicitly to silence this warning.\n",
      "  obj = pd.Series()\n"
     ]
    }
   ],
   "source": [
    "# 1. Creating empty series\n",
    "import pandas as pd\n",
    "obj = pd.Series()"
   ]
  },
  {
   "cell_type": "code",
   "execution_count": 10,
   "id": "e626bdd1",
   "metadata": {},
   "outputs": [],
   "source": [
    "#2. non empty series value can be list,tuples,dictionary,string\n",
    "obj2 = pd.Series([5,10,15,20])"
   ]
  },
  {
   "cell_type": "code",
   "execution_count": 11,
   "id": "0f418812",
   "metadata": {},
   "outputs": [
    {
     "data": {
      "text/plain": [
       "0     5\n",
       "1    10\n",
       "2    15\n",
       "3    20\n",
       "dtype: int64"
      ]
     },
     "execution_count": 11,
     "metadata": {},
     "output_type": "execute_result"
    }
   ],
   "source": [
    "obj2"
   ]
  },
  {
   "cell_type": "code",
   "execution_count": 12,
   "id": "05d33139",
   "metadata": {},
   "outputs": [],
   "source": [
    "obj3 = pd.Series(range(5))"
   ]
  },
  {
   "cell_type": "code",
   "execution_count": 13,
   "id": "8af82cef",
   "metadata": {},
   "outputs": [
    {
     "data": {
      "text/plain": [
       "0    0\n",
       "1    1\n",
       "2    2\n",
       "3    3\n",
       "4    4\n",
       "dtype: int64"
      ]
     },
     "execution_count": 13,
     "metadata": {},
     "output_type": "execute_result"
    }
   ],
   "source": [
    "obj3"
   ]
  },
  {
   "cell_type": "markdown",
   "id": "72e73517",
   "metadata": {},
   "source": [
    "### Example:1 write a code to create a series object using the python sequence[4,6,8,10]\n"
   ]
  },
  {
   "cell_type": "code",
   "execution_count": 1,
   "id": "d6bda69a",
   "metadata": {},
   "outputs": [],
   "source": [
    "import pandas as pd"
   ]
  },
  {
   "cell_type": "code",
   "execution_count": 2,
   "id": "d724eda5",
   "metadata": {},
   "outputs": [],
   "source": [
    "obj = pd.Series([4,6,8,10])"
   ]
  },
  {
   "cell_type": "code",
   "execution_count": 3,
   "id": "e7e6bba5",
   "metadata": {},
   "outputs": [
    {
     "data": {
      "text/plain": [
       "0     4\n",
       "1     6\n",
       "2     8\n",
       "3    10\n",
       "dtype: int64"
      ]
     },
     "execution_count": 3,
     "metadata": {},
     "output_type": "execute_result"
    }
   ],
   "source": [
    "obj"
   ]
  },
  {
   "cell_type": "markdown",
   "id": "cd768328",
   "metadata": {},
   "source": [
    "###  Example:2 write a code to create a series object using the python sequence(4,6,8,10)"
   ]
  },
  {
   "cell_type": "code",
   "execution_count": 4,
   "id": "cd54b559",
   "metadata": {},
   "outputs": [],
   "source": [
    "obj1 = pd.Series((4,6,8,10))"
   ]
  },
  {
   "cell_type": "code",
   "execution_count": 5,
   "id": "5b2a74eb",
   "metadata": {},
   "outputs": [
    {
     "data": {
      "text/plain": [
       "0     4\n",
       "1     6\n",
       "2     8\n",
       "3    10\n",
       "dtype: int64"
      ]
     },
     "execution_count": 5,
     "metadata": {},
     "output_type": "execute_result"
    }
   ],
   "source": [
    "obj1"
   ]
  },
  {
   "cell_type": "markdown",
   "id": "40d2358e",
   "metadata": {},
   "source": [
    "###  Example:2 write a code to create a series object using the individual value o,h,o"
   ]
  },
  {
   "cell_type": "code",
   "execution_count": 6,
   "id": "e2f7ea2e",
   "metadata": {},
   "outputs": [],
   "source": [
    "obj2 = pd.Series(['o','h','o'])"
   ]
  },
  {
   "cell_type": "code",
   "execution_count": 7,
   "id": "0824ae76",
   "metadata": {},
   "outputs": [
    {
     "data": {
      "text/plain": [
       "0    o\n",
       "1    h\n",
       "2    o\n",
       "dtype: object"
      ]
     },
     "execution_count": 7,
     "metadata": {},
     "output_type": "execute_result"
    }
   ],
   "source": [
    "obj2"
   ]
  },
  {
   "cell_type": "markdown",
   "id": "e9e77883",
   "metadata": {},
   "source": [
    "#### Example4: write a program to create a Series obj using string So Funny"
   ]
  },
  {
   "cell_type": "code",
   "execution_count": 11,
   "id": "70b195a0",
   "metadata": {},
   "outputs": [],
   "source": [
    "obj3 = pd.Series('So Funny')"
   ]
  },
  {
   "cell_type": "code",
   "execution_count": 12,
   "id": "e3a7028d",
   "metadata": {},
   "outputs": [
    {
     "data": {
      "text/plain": [
       "0    So Funny\n",
       "dtype: object"
      ]
     },
     "execution_count": 12,
     "metadata": {},
     "output_type": "execute_result"
    }
   ],
   "source": [
    "obj3"
   ]
  },
  {
   "cell_type": "markdown",
   "id": "8da522da",
   "metadata": {},
   "source": [
    "#### Example 5: write a program to create a series object using three diffrent words I am laughing"
   ]
  },
  {
   "cell_type": "code",
   "execution_count": 14,
   "id": "dc8d3d27",
   "metadata": {},
   "outputs": [],
   "source": [
    "obj4 = pd.Series(['I','am','laughing'])"
   ]
  },
  {
   "cell_type": "code",
   "execution_count": 15,
   "id": "b4e68503",
   "metadata": {},
   "outputs": [
    {
     "data": {
      "text/plain": [
       "0           I\n",
       "1          am\n",
       "2    laughing\n",
       "dtype: object"
      ]
     },
     "execution_count": 15,
     "metadata": {},
     "output_type": "execute_result"
    }
   ],
   "source": [
    "obj4"
   ]
  },
  {
   "cell_type": "markdown",
   "id": "5e08234b",
   "metadata": {},
   "source": [
    "## Create Series using numpy array"
   ]
  },
  {
   "cell_type": "code",
   "execution_count": 17,
   "id": "bdf06679",
   "metadata": {},
   "outputs": [],
   "source": [
    "import numpy as np\n",
    "import pandas as pd"
   ]
  },
  {
   "cell_type": "code",
   "execution_count": 20,
   "id": "82a4311d",
   "metadata": {},
   "outputs": [],
   "source": [
    "nda = np.arange(3,13,3) # start , end, step value"
   ]
  },
  {
   "cell_type": "code",
   "execution_count": 21,
   "id": "2a00cf5f",
   "metadata": {},
   "outputs": [
    {
     "data": {
      "text/plain": [
       "array([ 3,  6,  9, 12])"
      ]
     },
     "execution_count": 21,
     "metadata": {},
     "output_type": "execute_result"
    }
   ],
   "source": [
    "nda"
   ]
  },
  {
   "cell_type": "code",
   "execution_count": 22,
   "id": "b0cd67ed",
   "metadata": {},
   "outputs": [],
   "source": [
    "obj5 = pd.Series(nda)"
   ]
  },
  {
   "cell_type": "code",
   "execution_count": 23,
   "id": "e75b7b52",
   "metadata": {},
   "outputs": [
    {
     "data": {
      "text/plain": [
       "0     3\n",
       "1     6\n",
       "2     9\n",
       "3    12\n",
       "dtype: int32"
      ]
     },
     "execution_count": 23,
     "metadata": {},
     "output_type": "execute_result"
    }
   ],
   "source": [
    "obj5"
   ]
  },
  {
   "cell_type": "code",
   "execution_count": 24,
   "id": "3a4fab06",
   "metadata": {},
   "outputs": [],
   "source": [
    "obj = pd.Series(np.arange(3,13,3.5))"
   ]
  },
  {
   "cell_type": "code",
   "execution_count": 25,
   "id": "82d2c40b",
   "metadata": {},
   "outputs": [
    {
     "data": {
      "text/plain": [
       "0     3.0\n",
       "1     6.5\n",
       "2    10.0\n",
       "dtype: float64"
      ]
     },
     "execution_count": 25,
     "metadata": {},
     "output_type": "execute_result"
    }
   ],
   "source": [
    "obj"
   ]
  },
  {
   "cell_type": "markdown",
   "id": "b909acfb",
   "metadata": {},
   "source": [
    "#### Example6:Write a program to create an nd array that has 5 elements in the range 24 to 64"
   ]
  },
  {
   "cell_type": "code",
   "execution_count": 26,
   "id": "4aa4a2ef",
   "metadata": {},
   "outputs": [],
   "source": [
    "import pandas as pd\n",
    "import numpy as np"
   ]
  },
  {
   "cell_type": "code",
   "execution_count": 27,
   "id": "edf8756f",
   "metadata": {},
   "outputs": [],
   "source": [
    "obj1 = pd.Series(np.linspace(24,64,5))    ## start,end,no of elements start ,end value included in linspace function \n",
    "                                           ##in arnage function end value is excluded"
   ]
  },
  {
   "cell_type": "code",
   "execution_count": 28,
   "id": "3207f51e",
   "metadata": {},
   "outputs": [
    {
     "data": {
      "text/plain": [
       "0    24.0\n",
       "1    34.0\n",
       "2    44.0\n",
       "3    54.0\n",
       "4    64.0\n",
       "dtype: float64"
      ]
     },
     "execution_count": 28,
     "metadata": {},
     "output_type": "execute_result"
    }
   ],
   "source": [
    "obj1"
   ]
  },
  {
   "cell_type": "markdown",
   "id": "feaeaa4f",
   "metadata": {},
   "source": [
    "#### Example7: Write a program to create an nd array that is tiling a list of 3,5 \n",
    "\n",
    "tile means - how many times we can repeat"
   ]
  },
  {
   "cell_type": "code",
   "execution_count": 32,
   "id": "ad912d99",
   "metadata": {},
   "outputs": [],
   "source": [
    "obj2 = pd.Series(np.tile([3,5],2))  ## repeat 2 times "
   ]
  },
  {
   "cell_type": "code",
   "execution_count": 33,
   "id": "d3c29a19",
   "metadata": {},
   "outputs": [
    {
     "data": {
      "text/plain": [
       "0    3\n",
       "1    5\n",
       "2    3\n",
       "3    5\n",
       "dtype: int32"
      ]
     },
     "execution_count": 33,
     "metadata": {},
     "output_type": "execute_result"
    }
   ],
   "source": [
    "obj2"
   ]
  },
  {
   "cell_type": "markdown",
   "id": "1ce96515",
   "metadata": {},
   "source": [
    "## Making Series object using dictionary"
   ]
  },
  {
   "cell_type": "code",
   "execution_count": 34,
   "id": "216816bb",
   "metadata": {},
   "outputs": [],
   "source": [
    "obj1 = pd.Series({'Jan':31,'Feb':28,'Mar':31})"
   ]
  },
  {
   "cell_type": "code",
   "execution_count": 35,
   "id": "5723301c",
   "metadata": {},
   "outputs": [
    {
     "data": {
      "text/plain": [
       "Jan    31\n",
       "Feb    28\n",
       "Mar    31\n",
       "dtype: int64"
      ]
     },
     "execution_count": 35,
     "metadata": {},
     "output_type": "execute_result"
    }
   ],
   "source": [
    "obj1  ## keys wil convert to index"
   ]
  },
  {
   "cell_type": "markdown",
   "id": "02ea859c",
   "metadata": {},
   "source": [
    "Example8: Write a program to create a Series object using a dictionary that stores the number of stutednts in each section  of class 12 in your school"
   ]
  },
  {
   "cell_type": "code",
   "execution_count": 36,
   "id": "d580dcfc",
   "metadata": {},
   "outputs": [],
   "source": [
    "obj2 = pd.Series({'A':50,'B':50,'C':52})"
   ]
  },
  {
   "cell_type": "code",
   "execution_count": 37,
   "id": "2975da84",
   "metadata": {},
   "outputs": [
    {
     "data": {
      "text/plain": [
       "A    50\n",
       "B    50\n",
       "C    52\n",
       "dtype: int64"
      ]
     },
     "execution_count": 37,
     "metadata": {},
     "output_type": "execute_result"
    }
   ],
   "source": [
    "obj2"
   ]
  },
  {
   "cell_type": "markdown",
   "id": "c81e162b",
   "metadata": {},
   "source": [
    "## Specify Data as a Scaler value\n"
   ]
  },
  {
   "cell_type": "code",
   "execution_count": 38,
   "id": "510e89a3",
   "metadata": {},
   "outputs": [],
   "source": [
    "## specify the index\n",
    "obj = pd.Series(10,index=range(0,1))"
   ]
  },
  {
   "cell_type": "code",
   "execution_count": 39,
   "id": "bcac0af8",
   "metadata": {},
   "outputs": [
    {
     "data": {
      "text/plain": [
       "0    10\n",
       "dtype: int64"
      ]
     },
     "execution_count": 39,
     "metadata": {},
     "output_type": "execute_result"
    }
   ],
   "source": [
    "obj"
   ]
  },
  {
   "cell_type": "code",
   "execution_count": 40,
   "id": "7f50d8a8",
   "metadata": {},
   "outputs": [],
   "source": [
    "obj1 = pd.Series(15,index=range(1,6,2))"
   ]
  },
  {
   "cell_type": "code",
   "execution_count": 41,
   "id": "56418577",
   "metadata": {},
   "outputs": [
    {
     "data": {
      "text/plain": [
       "1    15\n",
       "3    15\n",
       "5    15\n",
       "dtype: int64"
      ]
     },
     "execution_count": 41,
     "metadata": {},
     "output_type": "execute_result"
    }
   ],
   "source": [
    "obj1"
   ]
  },
  {
   "cell_type": "code",
   "execution_count": 42,
   "id": "b4c2f784",
   "metadata": {},
   "outputs": [],
   "source": [
    "obj2 = pd.Series('yet to start', index =['ND','BD'])"
   ]
  },
  {
   "cell_type": "code",
   "execution_count": 43,
   "id": "925413a5",
   "metadata": {},
   "outputs": [
    {
     "data": {
      "text/plain": [
       "ND    yet to start\n",
       "BD    yet to start\n",
       "dtype: object"
      ]
     },
     "execution_count": 43,
     "metadata": {},
     "output_type": "execute_result"
    }
   ],
   "source": [
    "obj2"
   ]
  },
  {
   "cell_type": "markdown",
   "id": "b02f81bc",
   "metadata": {},
   "source": [
    "Example 9: write a program to create a series object that tools the initial budget allocation of the 50000 each \n",
    "for the four quarters Q,Q2,Q3,Q4\n"
   ]
  },
  {
   "cell_type": "code",
   "execution_count": 44,
   "id": "fc2c6dd9",
   "metadata": {},
   "outputs": [],
   "source": [
    "obj = pd.Series(50000,index=['Q1','Q2','Q3','Q4'])"
   ]
  },
  {
   "cell_type": "code",
   "execution_count": 45,
   "id": "3b3d6ec1",
   "metadata": {},
   "outputs": [
    {
     "data": {
      "text/plain": [
       "Q1    50000\n",
       "Q2    50000\n",
       "Q3    50000\n",
       "Q4    50000\n",
       "dtype: int64"
      ]
     },
     "execution_count": 45,
     "metadata": {},
     "output_type": "execute_result"
    }
   ],
   "source": [
    "obj"
   ]
  },
  {
   "cell_type": "markdown",
   "id": "d7389907",
   "metadata": {},
   "source": [
    "Example 10: Total number of medals to be won each 200 in the entire university games held every altrenate year.\n",
    "Write a code to create a series object that stores this medals for games to be held in decade 2020 to 2029"
   ]
  },
  {
   "cell_type": "code",
   "execution_count": 46,
   "id": "773bd0fe",
   "metadata": {},
   "outputs": [],
   "source": [
    "obj3 = pd.Series(200, index =range(2020,2029,2))"
   ]
  },
  {
   "cell_type": "code",
   "execution_count": 47,
   "id": "6e87ddf1",
   "metadata": {},
   "outputs": [
    {
     "data": {
      "text/plain": [
       "2020    200\n",
       "2022    200\n",
       "2024    200\n",
       "2026    200\n",
       "2028    200\n",
       "dtype: int64"
      ]
     },
     "execution_count": 47,
     "metadata": {},
     "output_type": "execute_result"
    }
   ],
   "source": [
    "obj3"
   ]
  },
  {
   "cell_type": "markdown",
   "id": "b0d150a7",
   "metadata": {},
   "source": [
    "## Series Attributes"
   ]
  },
  {
   "cell_type": "code",
   "execution_count": 56,
   "id": "f2d06709",
   "metadata": {},
   "outputs": [],
   "source": [
    "import pandas as pd\n",
    "import numpy as np"
   ]
  },
  {
   "cell_type": "code",
   "execution_count": 50,
   "id": "234b9d24",
   "metadata": {},
   "outputs": [],
   "source": [
    "dates = [31,28,31,30]\n",
    "months = ['Jan','Feb','March','April']"
   ]
  },
  {
   "cell_type": "code",
   "execution_count": 51,
   "id": "2e9ae79d",
   "metadata": {},
   "outputs": [],
   "source": [
    "obj = pd.Series(data =dates, index=months)"
   ]
  },
  {
   "cell_type": "code",
   "execution_count": 52,
   "id": "c98020e6",
   "metadata": {},
   "outputs": [
    {
     "data": {
      "text/plain": [
       "Jan      31\n",
       "Feb      28\n",
       "March    31\n",
       "April    30\n",
       "dtype: int64"
      ]
     },
     "execution_count": 52,
     "metadata": {},
     "output_type": "execute_result"
    }
   ],
   "source": [
    "obj"
   ]
  },
  {
   "cell_type": "code",
   "execution_count": 53,
   "id": "7c88228e",
   "metadata": {},
   "outputs": [
    {
     "data": {
      "text/plain": [
       "Index(['Jan', 'Feb', 'March', 'April'], dtype='object')"
      ]
     },
     "execution_count": 53,
     "metadata": {},
     "output_type": "execute_result"
    }
   ],
   "source": [
    "##index attribute-return indexes\n",
    "obj.index"
   ]
  },
  {
   "cell_type": "code",
   "execution_count": 54,
   "id": "5b5f0642",
   "metadata": {},
   "outputs": [
    {
     "data": {
      "text/plain": [
       "array([31, 28, 31, 30], dtype=int64)"
      ]
     },
     "execution_count": 54,
     "metadata": {},
     "output_type": "execute_result"
    }
   ],
   "source": [
    "## values attribute\n",
    "obj.values"
   ]
  },
  {
   "cell_type": "code",
   "execution_count": 55,
   "id": "e271e9f1",
   "metadata": {},
   "outputs": [],
   "source": [
    "##dtype attribute\n",
    "obj1 =pd.Series([3.5,5,6.5,8])"
   ]
  },
  {
   "cell_type": "code",
   "execution_count": 57,
   "id": "c45a9a4d",
   "metadata": {},
   "outputs": [],
   "source": [
    "obj2=pd.Series([6.5,np.NaN,2.34])"
   ]
  },
  {
   "cell_type": "code",
   "execution_count": 58,
   "id": "a20a5bb6",
   "metadata": {},
   "outputs": [
    {
     "data": {
      "text/plain": [
       "dtype('float64')"
      ]
     },
     "execution_count": 58,
     "metadata": {},
     "output_type": "execute_result"
    }
   ],
   "source": [
    "obj1.dtype"
   ]
  },
  {
   "cell_type": "code",
   "execution_count": 59,
   "id": "9f4e4883",
   "metadata": {},
   "outputs": [
    {
     "data": {
      "text/plain": [
       "dtype('float64')"
      ]
     },
     "execution_count": 59,
     "metadata": {},
     "output_type": "execute_result"
    }
   ],
   "source": [
    "obj2.dtype"
   ]
  },
  {
   "cell_type": "code",
   "execution_count": 62,
   "id": "10dcc048",
   "metadata": {},
   "outputs": [
    {
     "data": {
      "text/plain": [
       "<bound method IndexOpsMixin.item of 0    3.5\n",
       "1    5.0\n",
       "2    6.5\n",
       "3    8.0\n",
       "dtype: float64>"
      ]
     },
     "execution_count": 62,
     "metadata": {},
     "output_type": "execute_result"
    }
   ],
   "source": [
    "##item function\n",
    "obj1.item"
   ]
  },
  {
   "cell_type": "code",
   "execution_count": 63,
   "id": "04114158",
   "metadata": {},
   "outputs": [],
   "source": [
    "##To retrive shape"
   ]
  },
  {
   "cell_type": "code",
   "execution_count": 65,
   "id": "a8f635da",
   "metadata": {},
   "outputs": [
    {
     "data": {
      "text/plain": [
       "(4,)"
      ]
     },
     "execution_count": 65,
     "metadata": {},
     "output_type": "execute_result"
    }
   ],
   "source": [
    "obj1.shape"
   ]
  },
  {
   "cell_type": "code",
   "execution_count": 67,
   "id": "86bc7a61",
   "metadata": {},
   "outputs": [
    {
     "data": {
      "text/plain": [
       "4"
      ]
     },
     "execution_count": 67,
     "metadata": {},
     "output_type": "execute_result"
    }
   ],
   "source": [
    "## ending attribute:no of dimension\n",
    "##size \n",
    "obj1.size\n"
   ]
  },
  {
   "cell_type": "code",
   "execution_count": 68,
   "id": "160d3a92",
   "metadata": {},
   "outputs": [
    {
     "data": {
      "text/plain": [
       "3"
      ]
     },
     "execution_count": 68,
     "metadata": {},
     "output_type": "execute_result"
    }
   ],
   "source": [
    "obj2.size"
   ]
  },
  {
   "cell_type": "code",
   "execution_count": 69,
   "id": "84a90beb",
   "metadata": {},
   "outputs": [],
   "source": [
    "##diffrence between size and shape"
   ]
  },
  {
   "cell_type": "code",
   "execution_count": 70,
   "id": "a9a19462",
   "metadata": {},
   "outputs": [
    {
     "data": {
      "text/plain": [
       "24"
      ]
     },
     "execution_count": 70,
     "metadata": {},
     "output_type": "execute_result"
    }
   ],
   "source": [
    "##no of bytes :1 float =8 bytes\n",
    "obj2.nbytes"
   ]
  },
  {
   "cell_type": "code",
   "execution_count": 71,
   "id": "114afc13",
   "metadata": {},
   "outputs": [
    {
     "name": "stderr",
     "output_type": "stream",
     "text": [
      "C:\\Users\\13612\\AppData\\Local\\Temp\\ipykernel_9808\\3813769998.py:2: FutureWarning: The default dtype for empty Series will be 'object' instead of 'float64' in a future version. Specify a dtype explicitly to silence this warning.\n",
      "  obj4 = pd.Series()\n"
     ]
    }
   ],
   "source": [
    "##Checking emptyness\n",
    "obj4 = pd.Series()"
   ]
  },
  {
   "cell_type": "code",
   "execution_count": 72,
   "id": "d9c3e03e",
   "metadata": {},
   "outputs": [
    {
     "data": {
      "text/plain": [
       "True"
      ]
     },
     "execution_count": 72,
     "metadata": {},
     "output_type": "execute_result"
    }
   ],
   "source": [
    "obj4.empty"
   ]
  },
  {
   "cell_type": "markdown",
   "id": "759b41b3",
   "metadata": {},
   "source": [
    "### Series slicing"
   ]
  },
  {
   "cell_type": "code",
   "execution_count": 74,
   "id": "59879864",
   "metadata": {},
   "outputs": [],
   "source": [
    "import pandas as pd\n",
    "import numpy as np"
   ]
  },
  {
   "cell_type": "code",
   "execution_count": 75,
   "id": "36306a43",
   "metadata": {},
   "outputs": [],
   "source": [
    "obj1 =pd.Series([5,10,15,20])"
   ]
  },
  {
   "cell_type": "code",
   "execution_count": 76,
   "id": "5a326ad0",
   "metadata": {},
   "outputs": [
    {
     "data": {
      "text/plain": [
       "0     5\n",
       "1    10\n",
       "2    15\n",
       "3    20\n",
       "dtype: int64"
      ]
     },
     "execution_count": 76,
     "metadata": {},
     "output_type": "execute_result"
    }
   ],
   "source": [
    "obj1"
   ]
  },
  {
   "cell_type": "markdown",
   "id": "04511a38",
   "metadata": {},
   "source": [
    "#### Accessing individual elements -through index"
   ]
  },
  {
   "cell_type": "code",
   "execution_count": 78,
   "id": "91089693",
   "metadata": {},
   "outputs": [
    {
     "data": {
      "text/plain": [
       "15"
      ]
     },
     "execution_count": 78,
     "metadata": {},
     "output_type": "execute_result"
    }
   ],
   "source": [
    "obj1[2]"
   ]
  },
  {
   "cell_type": "code",
   "execution_count": 79,
   "id": "455d56e9",
   "metadata": {},
   "outputs": [
    {
     "data": {
      "text/plain": [
       "30"
      ]
     },
     "execution_count": 79,
     "metadata": {},
     "output_type": "execute_result"
    }
   ],
   "source": [
    "obj[3]"
   ]
  },
  {
   "cell_type": "markdown",
   "id": "5416a963",
   "metadata": {},
   "source": [
    "#### Extracting slices : same as string/list"
   ]
  },
  {
   "cell_type": "code",
   "execution_count": 81,
   "id": "b10602db",
   "metadata": {},
   "outputs": [
    {
     "data": {
      "text/plain": [
       "1    10\n",
       "2    15\n",
       "dtype: int64"
      ]
     },
     "execution_count": 81,
     "metadata": {},
     "output_type": "execute_result"
    }
   ],
   "source": [
    "obj1[1:3]"
   ]
  },
  {
   "cell_type": "code",
   "execution_count": 82,
   "id": "637a4e34",
   "metadata": {},
   "outputs": [
    {
     "data": {
      "text/plain": [
       "1    10\n",
       "2    15\n",
       "3    20\n",
       "dtype: int64"
      ]
     },
     "execution_count": 82,
     "metadata": {},
     "output_type": "execute_result"
    }
   ],
   "source": [
    "obj1[1:]"
   ]
  },
  {
   "cell_type": "code",
   "execution_count": 83,
   "id": "6f3d61da",
   "metadata": {},
   "outputs": [
    {
     "data": {
      "text/plain": [
       "0     5\n",
       "1    10\n",
       "dtype: int64"
      ]
     },
     "execution_count": 83,
     "metadata": {},
     "output_type": "execute_result"
    }
   ],
   "source": [
    "obj1[:2]"
   ]
  },
  {
   "cell_type": "markdown",
   "id": "97f5b501",
   "metadata": {},
   "source": [
    "#### modifyting elements of series object"
   ]
  },
  {
   "cell_type": "code",
   "execution_count": 84,
   "id": "193d4a7f",
   "metadata": {},
   "outputs": [
    {
     "data": {
      "text/plain": [
       "0     5\n",
       "1    10\n",
       "2    15\n",
       "3    20\n",
       "dtype: int64"
      ]
     },
     "execution_count": 84,
     "metadata": {},
     "output_type": "execute_result"
    }
   ],
   "source": [
    "obj1"
   ]
  },
  {
   "cell_type": "code",
   "execution_count": 85,
   "id": "3bde0611",
   "metadata": {},
   "outputs": [],
   "source": [
    "obj1[2]=40"
   ]
  },
  {
   "cell_type": "code",
   "execution_count": 86,
   "id": "dac4fcde",
   "metadata": {},
   "outputs": [
    {
     "data": {
      "text/plain": [
       "0     5\n",
       "1    10\n",
       "2    40\n",
       "3    20\n",
       "dtype: int64"
      ]
     },
     "execution_count": 86,
     "metadata": {},
     "output_type": "execute_result"
    }
   ],
   "source": [
    "obj1"
   ]
  },
  {
   "cell_type": "code",
   "execution_count": 87,
   "id": "b4c3e050",
   "metadata": {},
   "outputs": [],
   "source": [
    "obj1[3]=80"
   ]
  },
  {
   "cell_type": "code",
   "execution_count": 88,
   "id": "f3910502",
   "metadata": {},
   "outputs": [
    {
     "data": {
      "text/plain": [
       "0     5\n",
       "1    10\n",
       "2    40\n",
       "3    80\n",
       "dtype: int64"
      ]
     },
     "execution_count": 88,
     "metadata": {},
     "output_type": "execute_result"
    }
   ],
   "source": [
    "obj1"
   ]
  },
  {
   "cell_type": "code",
   "execution_count": 90,
   "id": "a6b5bfe8",
   "metadata": {},
   "outputs": [],
   "source": [
    "obj1[1:3] =50"
   ]
  },
  {
   "cell_type": "code",
   "execution_count": 91,
   "id": "b440be04",
   "metadata": {},
   "outputs": [
    {
     "data": {
      "text/plain": [
       "0     5\n",
       "1    50\n",
       "2    50\n",
       "3    80\n",
       "dtype: int64"
      ]
     },
     "execution_count": 91,
     "metadata": {},
     "output_type": "execute_result"
    }
   ],
   "source": [
    "obj1"
   ]
  },
  {
   "cell_type": "markdown",
   "id": "6a34f316",
   "metadata": {},
   "source": [
    "#### Renaming indexes"
   ]
  },
  {
   "cell_type": "code",
   "execution_count": 92,
   "id": "c747a647",
   "metadata": {},
   "outputs": [
    {
     "data": {
      "text/plain": [
       "0     5\n",
       "1    50\n",
       "2    50\n",
       "3    80\n",
       "dtype: int64"
      ]
     },
     "execution_count": 92,
     "metadata": {},
     "output_type": "execute_result"
    }
   ],
   "source": [
    "obj1"
   ]
  },
  {
   "cell_type": "code",
   "execution_count": 94,
   "id": "48230867",
   "metadata": {},
   "outputs": [],
   "source": [
    "obj1.index=['A','B','C','D'] ##no shound be same"
   ]
  },
  {
   "cell_type": "code",
   "execution_count": 95,
   "id": "f9eaf750",
   "metadata": {},
   "outputs": [
    {
     "data": {
      "text/plain": [
       "A     5\n",
       "B    50\n",
       "C    50\n",
       "D    80\n",
       "dtype: int64"
      ]
     },
     "execution_count": 95,
     "metadata": {},
     "output_type": "execute_result"
    }
   ],
   "source": [
    "obj1"
   ]
  },
  {
   "cell_type": "markdown",
   "id": "96fbc1c5",
   "metadata": {},
   "source": [
    "#### Head() and Tail() Function "
   ]
  },
  {
   "cell_type": "code",
   "execution_count": 96,
   "id": "7600f38d",
   "metadata": {},
   "outputs": [
    {
     "data": {
      "text/plain": [
       "A     5\n",
       "B    50\n",
       "dtype: int64"
      ]
     },
     "execution_count": 96,
     "metadata": {},
     "output_type": "execute_result"
    }
   ],
   "source": [
    "obj1.head(2) ## extract first elemnts-by default extarct 5 elements"
   ]
  },
  {
   "cell_type": "code",
   "execution_count": 97,
   "id": "b768ca72",
   "metadata": {},
   "outputs": [
    {
     "data": {
      "text/plain": [
       "C    50\n",
       "D    80\n",
       "dtype: int64"
      ]
     },
     "execution_count": 97,
     "metadata": {},
     "output_type": "execute_result"
    }
   ],
   "source": [
    "obj1.tail(2) ## extract last elements"
   ]
  },
  {
   "cell_type": "markdown",
   "id": "fd26b197",
   "metadata": {},
   "source": [
    "#### Vector operation of series object"
   ]
  },
  {
   "cell_type": "code",
   "execution_count": 98,
   "id": "3811aa0d",
   "metadata": {},
   "outputs": [
    {
     "data": {
      "text/plain": [
       "A     7\n",
       "B    52\n",
       "C    52\n",
       "D    82\n",
       "dtype: int64"
      ]
     },
     "execution_count": 98,
     "metadata": {},
     "output_type": "execute_result"
    }
   ],
   "source": [
    "obj1+2"
   ]
  },
  {
   "cell_type": "code",
   "execution_count": 99,
   "id": "fe6e6f2e",
   "metadata": {},
   "outputs": [
    {
     "data": {
      "text/plain": [
       "A     10\n",
       "B    100\n",
       "C    100\n",
       "D    160\n",
       "dtype: int64"
      ]
     },
     "execution_count": 99,
     "metadata": {},
     "output_type": "execute_result"
    }
   ],
   "source": [
    "obj1*2"
   ]
  },
  {
   "cell_type": "markdown",
   "id": "c228ed2d",
   "metadata": {},
   "source": [
    "#### Arithmetic on Series object"
   ]
  },
  {
   "cell_type": "code",
   "execution_count": 100,
   "id": "b3cbd1b7",
   "metadata": {},
   "outputs": [],
   "source": [
    "obj1 =pd.Series([5,10,15,20])\n",
    "obj2 = pd.Series([2,3,4,5])\n",
    "obj3 =pd.Series([3,6])"
   ]
  },
  {
   "cell_type": "code",
   "execution_count": 101,
   "id": "f08313b2",
   "metadata": {},
   "outputs": [
    {
     "data": {
      "text/plain": [
       "0     5\n",
       "1    10\n",
       "2    15\n",
       "3    20\n",
       "dtype: int64"
      ]
     },
     "execution_count": 101,
     "metadata": {},
     "output_type": "execute_result"
    }
   ],
   "source": [
    "obj1"
   ]
  },
  {
   "cell_type": "code",
   "execution_count": 102,
   "id": "9bbaa656",
   "metadata": {},
   "outputs": [
    {
     "data": {
      "text/plain": [
       "0    2\n",
       "1    3\n",
       "2    4\n",
       "3    5\n",
       "dtype: int64"
      ]
     },
     "execution_count": 102,
     "metadata": {},
     "output_type": "execute_result"
    }
   ],
   "source": [
    "obj2"
   ]
  },
  {
   "cell_type": "code",
   "execution_count": 103,
   "id": "2a2f4d4a",
   "metadata": {},
   "outputs": [
    {
     "data": {
      "text/plain": [
       "0    3\n",
       "1    6\n",
       "dtype: int64"
      ]
     },
     "execution_count": 103,
     "metadata": {},
     "output_type": "execute_result"
    }
   ],
   "source": [
    "obj3"
   ]
  },
  {
   "cell_type": "code",
   "execution_count": 104,
   "id": "ee0f2b6a",
   "metadata": {},
   "outputs": [],
   "source": [
    "## ADDITION, SUBSTRACTION,MULTIPLICATION,DIVISION - perform operation index to index"
   ]
  },
  {
   "cell_type": "code",
   "execution_count": 105,
   "id": "f91daa95",
   "metadata": {},
   "outputs": [
    {
     "data": {
      "text/plain": [
       "0     7\n",
       "1    13\n",
       "2    19\n",
       "3    25\n",
       "dtype: int64"
      ]
     },
     "execution_count": 105,
     "metadata": {},
     "output_type": "execute_result"
    }
   ],
   "source": [
    "obj1+obj2"
   ]
  },
  {
   "cell_type": "code",
   "execution_count": 106,
   "id": "71327ac3",
   "metadata": {},
   "outputs": [
    {
     "data": {
      "text/plain": [
       "0    5.0\n",
       "1    9.0\n",
       "2    NaN\n",
       "3    NaN\n",
       "dtype: float64"
      ]
     },
     "execution_count": 106,
     "metadata": {},
     "output_type": "execute_result"
    }
   ],
   "source": [
    "obj2+obj3"
   ]
  },
  {
   "cell_type": "markdown",
   "id": "48ac3acb",
   "metadata": {},
   "source": [
    "### Filtering Entries"
   ]
  },
  {
   "cell_type": "code",
   "execution_count": 107,
   "id": "8a258bd6",
   "metadata": {},
   "outputs": [],
   "source": [
    "info =pd.Series(data =[31,41,51])"
   ]
  },
  {
   "cell_type": "code",
   "execution_count": 108,
   "id": "4e0fd988",
   "metadata": {},
   "outputs": [
    {
     "data": {
      "text/plain": [
       "0    31\n",
       "1    41\n",
       "2    51\n",
       "dtype: int64"
      ]
     },
     "execution_count": 108,
     "metadata": {},
     "output_type": "execute_result"
    }
   ],
   "source": [
    "info"
   ]
  },
  {
   "cell_type": "code",
   "execution_count": 109,
   "id": "106f83ed",
   "metadata": {},
   "outputs": [
    {
     "name": "stdout",
     "output_type": "stream",
     "text": [
      "0    False\n",
      "1     True\n",
      "2     True\n",
      "dtype: bool\n"
     ]
    }
   ],
   "source": [
    "print(info>40)"
   ]
  },
  {
   "cell_type": "code",
   "execution_count": 110,
   "id": "a33cb223",
   "metadata": {},
   "outputs": [
    {
     "name": "stdout",
     "output_type": "stream",
     "text": [
      "1    41\n",
      "2    51\n",
      "dtype: int64\n"
     ]
    }
   ],
   "source": [
    "print(info[info>40])"
   ]
  },
  {
   "cell_type": "code",
   "execution_count": 111,
   "id": "afeda0c3",
   "metadata": {},
   "outputs": [
    {
     "data": {
      "text/plain": [
       "0    False\n",
       "1     True\n",
       "2     True\n",
       "dtype: bool"
      ]
     },
     "execution_count": 111,
     "metadata": {},
     "output_type": "execute_result"
    }
   ],
   "source": [
    "info>40"
   ]
  },
  {
   "cell_type": "code",
   "execution_count": 112,
   "id": "6c80ab5b",
   "metadata": {},
   "outputs": [
    {
     "data": {
      "text/plain": [
       "1    41\n",
       "2    51\n",
       "dtype: int64"
      ]
     },
     "execution_count": 112,
     "metadata": {},
     "output_type": "execute_result"
    }
   ],
   "source": [
    "info[info>40]"
   ]
  },
  {
   "cell_type": "markdown",
   "id": "804b2eaa",
   "metadata": {},
   "source": [
    "### Sorting Series values"
   ]
  },
  {
   "cell_type": "code",
   "execution_count": 114,
   "id": "cea032ac",
   "metadata": {},
   "outputs": [
    {
     "data": {
      "text/plain": [
       "<bound method Series.sort_values of 0     5\n",
       "1    10\n",
       "2    15\n",
       "3    20\n",
       "dtype: int64>"
      ]
     },
     "execution_count": 114,
     "metadata": {},
     "output_type": "execute_result"
    }
   ],
   "source": [
    "obj1.sort_values"
   ]
  },
  {
   "cell_type": "code",
   "execution_count": 116,
   "id": "ff1c2ba0",
   "metadata": {},
   "outputs": [
    {
     "data": {
      "text/plain": [
       "3    20\n",
       "2    15\n",
       "1    10\n",
       "0     5\n",
       "dtype: int64"
      ]
     },
     "execution_count": 116,
     "metadata": {},
     "output_type": "execute_result"
    }
   ],
   "source": [
    "obj1.sort_values(ascending =False)"
   ]
  },
  {
   "cell_type": "code",
   "execution_count": 117,
   "id": "d7f06eda",
   "metadata": {},
   "outputs": [
    {
     "data": {
      "text/plain": [
       "<bound method Series.sort_index of Jan      31\n",
       "Feb      28\n",
       "March    31\n",
       "April    30\n",
       "dtype: int64>"
      ]
     },
     "execution_count": 117,
     "metadata": {},
     "output_type": "execute_result"
    }
   ],
   "source": [
    "## to sort index\n",
    "obj.sort_index"
   ]
  },
  {
   "cell_type": "code",
   "execution_count": 119,
   "id": "66f73fc7",
   "metadata": {},
   "outputs": [
    {
     "data": {
      "text/plain": [
       "<bound method Series.sort_values of 0     5\n",
       "1    10\n",
       "2    15\n",
       "3    20\n",
       "dtype: int64>"
      ]
     },
     "execution_count": 119,
     "metadata": {},
     "output_type": "execute_result"
    }
   ],
   "source": [
    "obj1.sort_values"
   ]
  },
  {
   "cell_type": "code",
   "execution_count": 120,
   "id": "0433b03c",
   "metadata": {},
   "outputs": [],
   "source": [
    "##difrrence between numpy arrays and Series\n",
    "#To perform vector operation even index number are not the same\n",
    "#we can generate index in series"
   ]
  },
  {
   "cell_type": "markdown",
   "id": "cc989bca",
   "metadata": {},
   "source": [
    "## DATAFRAME"
   ]
  },
  {
   "cell_type": "markdown",
   "id": "5ae005e3",
   "metadata": {},
   "source": [
    "### Creating DataFrame object"
   ]
  },
  {
   "cell_type": "code",
   "execution_count": 121,
   "id": "70d20c59",
   "metadata": {},
   "outputs": [],
   "source": [
    "#stores data in two dimensional way - row and column"
   ]
  },
  {
   "cell_type": "code",
   "execution_count": 123,
   "id": "53b0304f",
   "metadata": {},
   "outputs": [],
   "source": [
    "import pandas as pd\n",
    "import numpy as np"
   ]
  },
  {
   "cell_type": "markdown",
   "id": "736deb20",
   "metadata": {},
   "source": [
    "#### - Using 2D Dictionary"
   ]
  },
  {
   "cell_type": "code",
   "execution_count": 131,
   "id": "52ffc854",
   "metadata": {},
   "outputs": [],
   "source": [
    "dict1 ={\"student\":[\"Ayman\",\"Sarah\",\"Sumi\"],\"marks\":[80,90,100],\"sports\":[\"cricket\",\"Football\",\"Hockey\"]}  ##2d dict\n"
   ]
  },
  {
   "cell_type": "code",
   "execution_count": 132,
   "id": "075bf700",
   "metadata": {},
   "outputs": [
    {
     "data": {
      "text/plain": [
       "{'student': ['Ayman', 'Sarah', 'Sumi'],\n",
       " 'marks': [80, 90, 100],\n",
       " 'sports': ['cricket', 'Football', 'Hockey']}"
      ]
     },
     "execution_count": 132,
     "metadata": {},
     "output_type": "execute_result"
    }
   ],
   "source": [
    "dict1"
   ]
  },
  {
   "cell_type": "code",
   "execution_count": 133,
   "id": "154c6471",
   "metadata": {},
   "outputs": [],
   "source": [
    "df = pd.DataFrame(dict1)  ## all array must be in the same length to create data frame"
   ]
  },
  {
   "cell_type": "code",
   "execution_count": 134,
   "id": "3b81f7ca",
   "metadata": {},
   "outputs": [
    {
     "data": {
      "text/html": [
       "<div>\n",
       "<style scoped>\n",
       "    .dataframe tbody tr th:only-of-type {\n",
       "        vertical-align: middle;\n",
       "    }\n",
       "\n",
       "    .dataframe tbody tr th {\n",
       "        vertical-align: top;\n",
       "    }\n",
       "\n",
       "    .dataframe thead th {\n",
       "        text-align: right;\n",
       "    }\n",
       "</style>\n",
       "<table border=\"1\" class=\"dataframe\">\n",
       "  <thead>\n",
       "    <tr style=\"text-align: right;\">\n",
       "      <th></th>\n",
       "      <th>student</th>\n",
       "      <th>marks</th>\n",
       "      <th>sports</th>\n",
       "    </tr>\n",
       "  </thead>\n",
       "  <tbody>\n",
       "    <tr>\n",
       "      <th>0</th>\n",
       "      <td>Ayman</td>\n",
       "      <td>80</td>\n",
       "      <td>cricket</td>\n",
       "    </tr>\n",
       "    <tr>\n",
       "      <th>1</th>\n",
       "      <td>Sarah</td>\n",
       "      <td>90</td>\n",
       "      <td>Football</td>\n",
       "    </tr>\n",
       "    <tr>\n",
       "      <th>2</th>\n",
       "      <td>Sumi</td>\n",
       "      <td>100</td>\n",
       "      <td>Hockey</td>\n",
       "    </tr>\n",
       "  </tbody>\n",
       "</table>\n",
       "</div>"
      ],
      "text/plain": [
       "  student  marks    sports\n",
       "0   Ayman     80   cricket\n",
       "1   Sarah     90  Football\n",
       "2    Sumi    100    Hockey"
      ]
     },
     "execution_count": 134,
     "metadata": {},
     "output_type": "execute_result"
    }
   ],
   "source": [
    "df"
   ]
  },
  {
   "cell_type": "code",
   "execution_count": 135,
   "id": "8812fa9f",
   "metadata": {},
   "outputs": [
    {
     "data": {
      "text/html": [
       "<div>\n",
       "<style scoped>\n",
       "    .dataframe tbody tr th:only-of-type {\n",
       "        vertical-align: middle;\n",
       "    }\n",
       "\n",
       "    .dataframe tbody tr th {\n",
       "        vertical-align: top;\n",
       "    }\n",
       "\n",
       "    .dataframe thead th {\n",
       "        text-align: right;\n",
       "    }\n",
       "</style>\n",
       "<table border=\"1\" class=\"dataframe\">\n",
       "  <thead>\n",
       "    <tr style=\"text-align: right;\">\n",
       "      <th></th>\n",
       "      <th>student</th>\n",
       "      <th>marks</th>\n",
       "      <th>sports</th>\n",
       "    </tr>\n",
       "  </thead>\n",
       "  <tbody>\n",
       "    <tr>\n",
       "      <th>I</th>\n",
       "      <td>Ayman</td>\n",
       "      <td>80</td>\n",
       "      <td>cricket</td>\n",
       "    </tr>\n",
       "    <tr>\n",
       "      <th>II</th>\n",
       "      <td>Sarah</td>\n",
       "      <td>90</td>\n",
       "      <td>Football</td>\n",
       "    </tr>\n",
       "    <tr>\n",
       "      <th>III</th>\n",
       "      <td>Sumi</td>\n",
       "      <td>100</td>\n",
       "      <td>Hockey</td>\n",
       "    </tr>\n",
       "  </tbody>\n",
       "</table>\n",
       "</div>"
      ],
      "text/plain": [
       "    student  marks    sports\n",
       "I     Ayman     80   cricket\n",
       "II    Sarah     90  Football\n",
       "III    Sumi    100    Hockey"
      ]
     },
     "execution_count": 135,
     "metadata": {},
     "output_type": "execute_result"
    }
   ],
   "source": [
    "## to create index-row\n",
    "pd.DataFrame(dict1,index=['I','II','III'])"
   ]
  },
  {
   "cell_type": "markdown",
   "id": "ab647124",
   "metadata": {},
   "source": [
    "#### Example :Given a dictionary that stores the section name list as values for section key and contribution amount as countrys key"
   ]
  },
  {
   "cell_type": "code",
   "execution_count": 139,
   "id": "5e23a826",
   "metadata": {},
   "outputs": [],
   "source": [
    "dict1 ={\"Section\":[\"A\",\"B\",\"C\",\"D\"], \"Contribution\":[67000,5600,5000,5200]}"
   ]
  },
  {
   "cell_type": "code",
   "execution_count": 140,
   "id": "f09ed95c",
   "metadata": {},
   "outputs": [],
   "source": [
    "df1 = pd.DataFrame(dict1)"
   ]
  },
  {
   "cell_type": "code",
   "execution_count": 141,
   "id": "d51d8916",
   "metadata": {},
   "outputs": [
    {
     "data": {
      "text/html": [
       "<div>\n",
       "<style scoped>\n",
       "    .dataframe tbody tr th:only-of-type {\n",
       "        vertical-align: middle;\n",
       "    }\n",
       "\n",
       "    .dataframe tbody tr th {\n",
       "        vertical-align: top;\n",
       "    }\n",
       "\n",
       "    .dataframe thead th {\n",
       "        text-align: right;\n",
       "    }\n",
       "</style>\n",
       "<table border=\"1\" class=\"dataframe\">\n",
       "  <thead>\n",
       "    <tr style=\"text-align: right;\">\n",
       "      <th></th>\n",
       "      <th>Section</th>\n",
       "      <th>Contribution</th>\n",
       "    </tr>\n",
       "  </thead>\n",
       "  <tbody>\n",
       "    <tr>\n",
       "      <th>0</th>\n",
       "      <td>A</td>\n",
       "      <td>67000</td>\n",
       "    </tr>\n",
       "    <tr>\n",
       "      <th>1</th>\n",
       "      <td>B</td>\n",
       "      <td>5600</td>\n",
       "    </tr>\n",
       "    <tr>\n",
       "      <th>2</th>\n",
       "      <td>C</td>\n",
       "      <td>5000</td>\n",
       "    </tr>\n",
       "    <tr>\n",
       "      <th>3</th>\n",
       "      <td>D</td>\n",
       "      <td>5200</td>\n",
       "    </tr>\n",
       "  </tbody>\n",
       "</table>\n",
       "</div>"
      ],
      "text/plain": [
       "  Section  Contribution\n",
       "0       A         67000\n",
       "1       B          5600\n",
       "2       C          5000\n",
       "3       D          5200"
      ]
     },
     "execution_count": 141,
     "metadata": {},
     "output_type": "execute_result"
    }
   ],
   "source": [
    "df1"
   ]
  },
  {
   "cell_type": "markdown",
   "id": "5fce0284",
   "metadata": {},
   "source": [
    "#### Example: Creating a DataFrame form 2D dictionary having values as dictionary object"
   ]
  },
  {
   "cell_type": "code",
   "execution_count": 143,
   "id": "81adebb1",
   "metadata": {},
   "outputs": [],
   "source": [
    "dict2 = {\"Sales\":{\"name\":\"ayman\",\"age\":24,\"sex\":\"male\"},\"marketing\":{\"name\":\"sarah\",\"age\":22,\"sex\":\"female\"}}"
   ]
  },
  {
   "cell_type": "code",
   "execution_count": 145,
   "id": "dd526e95",
   "metadata": {},
   "outputs": [],
   "source": [
    "df = pd.DataFrame(dict2)"
   ]
  },
  {
   "cell_type": "code",
   "execution_count": 146,
   "id": "732970f0",
   "metadata": {},
   "outputs": [
    {
     "data": {
      "text/html": [
       "<div>\n",
       "<style scoped>\n",
       "    .dataframe tbody tr th:only-of-type {\n",
       "        vertical-align: middle;\n",
       "    }\n",
       "\n",
       "    .dataframe tbody tr th {\n",
       "        vertical-align: top;\n",
       "    }\n",
       "\n",
       "    .dataframe thead th {\n",
       "        text-align: right;\n",
       "    }\n",
       "</style>\n",
       "<table border=\"1\" class=\"dataframe\">\n",
       "  <thead>\n",
       "    <tr style=\"text-align: right;\">\n",
       "      <th></th>\n",
       "      <th>Sales</th>\n",
       "      <th>marketing</th>\n",
       "    </tr>\n",
       "  </thead>\n",
       "  <tbody>\n",
       "    <tr>\n",
       "      <th>name</th>\n",
       "      <td>ayman</td>\n",
       "      <td>sarah</td>\n",
       "    </tr>\n",
       "    <tr>\n",
       "      <th>age</th>\n",
       "      <td>24</td>\n",
       "      <td>22</td>\n",
       "    </tr>\n",
       "    <tr>\n",
       "      <th>sex</th>\n",
       "      <td>male</td>\n",
       "      <td>female</td>\n",
       "    </tr>\n",
       "  </tbody>\n",
       "</table>\n",
       "</div>"
      ],
      "text/plain": [
       "      Sales marketing\n",
       "name  ayman     sarah\n",
       "age      24        22\n",
       "sex    male    female"
      ]
     },
     "execution_count": 146,
     "metadata": {},
     "output_type": "execute_result"
    }
   ],
   "source": [
    "df  ##rows index will be defined form the value"
   ]
  },
  {
   "cell_type": "code",
   "execution_count": 147,
   "id": "e2e5770f",
   "metadata": {},
   "outputs": [],
   "source": [
    "dict3 = {\"Sales\":{\"name\":\"ayman\",\"age\":24,\"sex\":\"male\"},\"marketing\":{\"name\":\"sarah\",\"age\":22}} # if one value missing (NAN)"
   ]
  },
  {
   "cell_type": "code",
   "execution_count": 150,
   "id": "b462bfd6",
   "metadata": {},
   "outputs": [],
   "source": [
    "df2 = pd.DataFrame(dict3)"
   ]
  },
  {
   "cell_type": "code",
   "execution_count": 151,
   "id": "425ceef1",
   "metadata": {},
   "outputs": [
    {
     "data": {
      "text/html": [
       "<div>\n",
       "<style scoped>\n",
       "    .dataframe tbody tr th:only-of-type {\n",
       "        vertical-align: middle;\n",
       "    }\n",
       "\n",
       "    .dataframe tbody tr th {\n",
       "        vertical-align: top;\n",
       "    }\n",
       "\n",
       "    .dataframe thead th {\n",
       "        text-align: right;\n",
       "    }\n",
       "</style>\n",
       "<table border=\"1\" class=\"dataframe\">\n",
       "  <thead>\n",
       "    <tr style=\"text-align: right;\">\n",
       "      <th></th>\n",
       "      <th>Sales</th>\n",
       "      <th>marketing</th>\n",
       "    </tr>\n",
       "  </thead>\n",
       "  <tbody>\n",
       "    <tr>\n",
       "      <th>name</th>\n",
       "      <td>ayman</td>\n",
       "      <td>sarah</td>\n",
       "    </tr>\n",
       "    <tr>\n",
       "      <th>age</th>\n",
       "      <td>24</td>\n",
       "      <td>22</td>\n",
       "    </tr>\n",
       "    <tr>\n",
       "      <th>sex</th>\n",
       "      <td>male</td>\n",
       "      <td>NaN</td>\n",
       "    </tr>\n",
       "  </tbody>\n",
       "</table>\n",
       "</div>"
      ],
      "text/plain": [
       "      Sales marketing\n",
       "name  ayman     sarah\n",
       "age      24        22\n",
       "sex    male       NaN"
      ]
     },
     "execution_count": 151,
     "metadata": {},
     "output_type": "execute_result"
    }
   ],
   "source": [
    "df2"
   ]
  },
  {
   "cell_type": "code",
   "execution_count": 152,
   "id": "c9779015",
   "metadata": {},
   "outputs": [],
   "source": [
    "dict4 = {\"Sales\":{\"name\":\"ayman\",\"age\":24,\"sex\":\"male\"},\"marketing\":{\"name\":\"sarah\",\"age\":22,\"Salary\":\"30000\"}}"
   ]
  },
  {
   "cell_type": "code",
   "execution_count": 155,
   "id": "e556c867",
   "metadata": {},
   "outputs": [],
   "source": [
    "df3 = pd.DataFrame(dict4)  ##with diffrent values # it will create diffrent rows"
   ]
  },
  {
   "cell_type": "code",
   "execution_count": 154,
   "id": "19d18081",
   "metadata": {},
   "outputs": [
    {
     "data": {
      "text/html": [
       "<div>\n",
       "<style scoped>\n",
       "    .dataframe tbody tr th:only-of-type {\n",
       "        vertical-align: middle;\n",
       "    }\n",
       "\n",
       "    .dataframe tbody tr th {\n",
       "        vertical-align: top;\n",
       "    }\n",
       "\n",
       "    .dataframe thead th {\n",
       "        text-align: right;\n",
       "    }\n",
       "</style>\n",
       "<table border=\"1\" class=\"dataframe\">\n",
       "  <thead>\n",
       "    <tr style=\"text-align: right;\">\n",
       "      <th></th>\n",
       "      <th>Sales</th>\n",
       "      <th>marketing</th>\n",
       "    </tr>\n",
       "  </thead>\n",
       "  <tbody>\n",
       "    <tr>\n",
       "      <th>name</th>\n",
       "      <td>ayman</td>\n",
       "      <td>sarah</td>\n",
       "    </tr>\n",
       "    <tr>\n",
       "      <th>age</th>\n",
       "      <td>24</td>\n",
       "      <td>22</td>\n",
       "    </tr>\n",
       "    <tr>\n",
       "      <th>sex</th>\n",
       "      <td>male</td>\n",
       "      <td>NaN</td>\n",
       "    </tr>\n",
       "    <tr>\n",
       "      <th>Salary</th>\n",
       "      <td>NaN</td>\n",
       "      <td>30000</td>\n",
       "    </tr>\n",
       "  </tbody>\n",
       "</table>\n",
       "</div>"
      ],
      "text/plain": [
       "        Sales marketing\n",
       "name    ayman     sarah\n",
       "age        24        22\n",
       "sex      male       NaN\n",
       "Salary    NaN     30000"
      ]
     },
     "execution_count": 154,
     "metadata": {},
     "output_type": "execute_result"
    }
   ],
   "source": [
    "df3"
   ]
  },
  {
   "cell_type": "markdown",
   "id": "76fd9772",
   "metadata": {},
   "source": [
    "## Creating DataFrame object from a list of Dictionary"
   ]
  },
  {
   "cell_type": "code",
   "execution_count": 157,
   "id": "dc992b6d",
   "metadata": {},
   "outputs": [],
   "source": [
    "import pandas as pd\n",
    "import numpy as np"
   ]
  },
  {
   "cell_type": "code",
   "execution_count": 166,
   "id": "ce6764b5",
   "metadata": {},
   "outputs": [],
   "source": [
    "dict5 = {'roll':101,'name':'Sumi','Marks':95}"
   ]
  },
  {
   "cell_type": "code",
   "execution_count": 167,
   "id": "028e3fbe",
   "metadata": {},
   "outputs": [],
   "source": [
    "dict6 = {'roll':102,'name':'Marufa','Marks':98}"
   ]
  },
  {
   "cell_type": "code",
   "execution_count": 168,
   "id": "f1c05e03",
   "metadata": {},
   "outputs": [],
   "source": [
    "dict7 = {'roll':103,'name':'hadi','Marks':100}"
   ]
  },
  {
   "cell_type": "code",
   "execution_count": 170,
   "id": "0e1660e0",
   "metadata": {},
   "outputs": [],
   "source": [
    "list1 =[dict5, dict6, dict7]"
   ]
  },
  {
   "cell_type": "code",
   "execution_count": 171,
   "id": "86946dd4",
   "metadata": {},
   "outputs": [],
   "source": [
    "df5 = pd.DataFrame(list1)"
   ]
  },
  {
   "cell_type": "code",
   "execution_count": 172,
   "id": "ac42fe5a",
   "metadata": {},
   "outputs": [
    {
     "data": {
      "text/html": [
       "<div>\n",
       "<style scoped>\n",
       "    .dataframe tbody tr th:only-of-type {\n",
       "        vertical-align: middle;\n",
       "    }\n",
       "\n",
       "    .dataframe tbody tr th {\n",
       "        vertical-align: top;\n",
       "    }\n",
       "\n",
       "    .dataframe thead th {\n",
       "        text-align: right;\n",
       "    }\n",
       "</style>\n",
       "<table border=\"1\" class=\"dataframe\">\n",
       "  <thead>\n",
       "    <tr style=\"text-align: right;\">\n",
       "      <th></th>\n",
       "      <th>roll</th>\n",
       "      <th>name</th>\n",
       "      <th>Marks</th>\n",
       "    </tr>\n",
       "  </thead>\n",
       "  <tbody>\n",
       "    <tr>\n",
       "      <th>0</th>\n",
       "      <td>101</td>\n",
       "      <td>Sumi</td>\n",
       "      <td>95</td>\n",
       "    </tr>\n",
       "    <tr>\n",
       "      <th>1</th>\n",
       "      <td>102</td>\n",
       "      <td>Marufa</td>\n",
       "      <td>98</td>\n",
       "    </tr>\n",
       "    <tr>\n",
       "      <th>2</th>\n",
       "      <td>103</td>\n",
       "      <td>hadi</td>\n",
       "      <td>100</td>\n",
       "    </tr>\n",
       "  </tbody>\n",
       "</table>\n",
       "</div>"
      ],
      "text/plain": [
       "   roll    name  Marks\n",
       "0   101    Sumi     95\n",
       "1   102  Marufa     98\n",
       "2   103    hadi    100"
      ]
     },
     "execution_count": 172,
     "metadata": {},
     "output_type": "execute_result"
    }
   ],
   "source": [
    "df5"
   ]
  },
  {
   "cell_type": "code",
   "execution_count": 173,
   "id": "ab3bfa81",
   "metadata": {},
   "outputs": [],
   "source": [
    "#if we want to give index"
   ]
  },
  {
   "cell_type": "code",
   "execution_count": 174,
   "id": "0419a71a",
   "metadata": {},
   "outputs": [],
   "source": [
    "df5 = pd.DataFrame(list1, index=[\"SecA\",\"SecB\",\"SecC\"])"
   ]
  },
  {
   "cell_type": "code",
   "execution_count": 175,
   "id": "7f7498ae",
   "metadata": {},
   "outputs": [
    {
     "data": {
      "text/html": [
       "<div>\n",
       "<style scoped>\n",
       "    .dataframe tbody tr th:only-of-type {\n",
       "        vertical-align: middle;\n",
       "    }\n",
       "\n",
       "    .dataframe tbody tr th {\n",
       "        vertical-align: top;\n",
       "    }\n",
       "\n",
       "    .dataframe thead th {\n",
       "        text-align: right;\n",
       "    }\n",
       "</style>\n",
       "<table border=\"1\" class=\"dataframe\">\n",
       "  <thead>\n",
       "    <tr style=\"text-align: right;\">\n",
       "      <th></th>\n",
       "      <th>roll</th>\n",
       "      <th>name</th>\n",
       "      <th>Marks</th>\n",
       "    </tr>\n",
       "  </thead>\n",
       "  <tbody>\n",
       "    <tr>\n",
       "      <th>SecA</th>\n",
       "      <td>101</td>\n",
       "      <td>Sumi</td>\n",
       "      <td>95</td>\n",
       "    </tr>\n",
       "    <tr>\n",
       "      <th>SecB</th>\n",
       "      <td>102</td>\n",
       "      <td>Marufa</td>\n",
       "      <td>98</td>\n",
       "    </tr>\n",
       "    <tr>\n",
       "      <th>SecC</th>\n",
       "      <td>103</td>\n",
       "      <td>hadi</td>\n",
       "      <td>100</td>\n",
       "    </tr>\n",
       "  </tbody>\n",
       "</table>\n",
       "</div>"
      ],
      "text/plain": [
       "      roll    name  Marks\n",
       "SecA   101    Sumi     95\n",
       "SecB   102  Marufa     98\n",
       "SecC   103    hadi    100"
      ]
     },
     "execution_count": 175,
     "metadata": {},
     "output_type": "execute_result"
    }
   ],
   "source": [
    "df5"
   ]
  },
  {
   "cell_type": "markdown",
   "id": "20fd7dbf",
   "metadata": {},
   "source": [
    "#### Passing a 2D list to create DataFrame"
   ]
  },
  {
   "cell_type": "code",
   "execution_count": 177,
   "id": "5d5b443c",
   "metadata": {},
   "outputs": [],
   "source": [
    "list2 = [[10,20,30],[40,50,60],[70,80,90]]"
   ]
  },
  {
   "cell_type": "code",
   "execution_count": 178,
   "id": "2befa11f",
   "metadata": {},
   "outputs": [],
   "source": [
    "df6 = pd.DataFrame(list2)"
   ]
  },
  {
   "cell_type": "code",
   "execution_count": 179,
   "id": "f4963100",
   "metadata": {},
   "outputs": [
    {
     "data": {
      "text/html": [
       "<div>\n",
       "<style scoped>\n",
       "    .dataframe tbody tr th:only-of-type {\n",
       "        vertical-align: middle;\n",
       "    }\n",
       "\n",
       "    .dataframe tbody tr th {\n",
       "        vertical-align: top;\n",
       "    }\n",
       "\n",
       "    .dataframe thead th {\n",
       "        text-align: right;\n",
       "    }\n",
       "</style>\n",
       "<table border=\"1\" class=\"dataframe\">\n",
       "  <thead>\n",
       "    <tr style=\"text-align: right;\">\n",
       "      <th></th>\n",
       "      <th>0</th>\n",
       "      <th>1</th>\n",
       "      <th>2</th>\n",
       "    </tr>\n",
       "  </thead>\n",
       "  <tbody>\n",
       "    <tr>\n",
       "      <th>0</th>\n",
       "      <td>10</td>\n",
       "      <td>20</td>\n",
       "      <td>30</td>\n",
       "    </tr>\n",
       "    <tr>\n",
       "      <th>1</th>\n",
       "      <td>40</td>\n",
       "      <td>50</td>\n",
       "      <td>60</td>\n",
       "    </tr>\n",
       "    <tr>\n",
       "      <th>2</th>\n",
       "      <td>70</td>\n",
       "      <td>80</td>\n",
       "      <td>90</td>\n",
       "    </tr>\n",
       "  </tbody>\n",
       "</table>\n",
       "</div>"
      ],
      "text/plain": [
       "    0   1   2\n",
       "0  10  20  30\n",
       "1  40  50  60\n",
       "2  70  80  90"
      ]
     },
     "execution_count": 179,
     "metadata": {},
     "output_type": "execute_result"
    }
   ],
   "source": [
    "df6"
   ]
  },
  {
   "cell_type": "code",
   "execution_count": 184,
   "id": "492b1a90",
   "metadata": {},
   "outputs": [],
   "source": [
    "## with row and column name\n",
    "df7 = pd.DataFrame(list2,index=['row1','row2','row3'], columns = ['col1','col2','col3'])"
   ]
  },
  {
   "cell_type": "code",
   "execution_count": 185,
   "id": "1dd121aa",
   "metadata": {},
   "outputs": [
    {
     "data": {
      "text/html": [
       "<div>\n",
       "<style scoped>\n",
       "    .dataframe tbody tr th:only-of-type {\n",
       "        vertical-align: middle;\n",
       "    }\n",
       "\n",
       "    .dataframe tbody tr th {\n",
       "        vertical-align: top;\n",
       "    }\n",
       "\n",
       "    .dataframe thead th {\n",
       "        text-align: right;\n",
       "    }\n",
       "</style>\n",
       "<table border=\"1\" class=\"dataframe\">\n",
       "  <thead>\n",
       "    <tr style=\"text-align: right;\">\n",
       "      <th></th>\n",
       "      <th>col1</th>\n",
       "      <th>col2</th>\n",
       "      <th>col3</th>\n",
       "    </tr>\n",
       "  </thead>\n",
       "  <tbody>\n",
       "    <tr>\n",
       "      <th>row1</th>\n",
       "      <td>10</td>\n",
       "      <td>20</td>\n",
       "      <td>30</td>\n",
       "    </tr>\n",
       "    <tr>\n",
       "      <th>row2</th>\n",
       "      <td>40</td>\n",
       "      <td>50</td>\n",
       "      <td>60</td>\n",
       "    </tr>\n",
       "    <tr>\n",
       "      <th>row3</th>\n",
       "      <td>70</td>\n",
       "      <td>80</td>\n",
       "      <td>90</td>\n",
       "    </tr>\n",
       "  </tbody>\n",
       "</table>\n",
       "</div>"
      ],
      "text/plain": [
       "      col1  col2  col3\n",
       "row1    10    20    30\n",
       "row2    40    50    60\n",
       "row3    70    80    90"
      ]
     },
     "execution_count": 185,
     "metadata": {},
     "output_type": "execute_result"
    }
   ],
   "source": [
    "df7"
   ]
  },
  {
   "cell_type": "markdown",
   "id": "5f224ebb",
   "metadata": {},
   "source": [
    "#### Creating a DataFrame object from 2D ndarray"
   ]
  },
  {
   "cell_type": "code",
   "execution_count": 186,
   "id": "0c4fca64",
   "metadata": {},
   "outputs": [],
   "source": [
    "arr1 = np.array([[10,20,30],[40,50,60]])"
   ]
  },
  {
   "cell_type": "code",
   "execution_count": 187,
   "id": "fec7bf81",
   "metadata": {},
   "outputs": [],
   "source": [
    "df8 = pd.DataFrame(arr1)"
   ]
  },
  {
   "cell_type": "code",
   "execution_count": 188,
   "id": "f5ee5ca6",
   "metadata": {},
   "outputs": [
    {
     "data": {
      "text/html": [
       "<div>\n",
       "<style scoped>\n",
       "    .dataframe tbody tr th:only-of-type {\n",
       "        vertical-align: middle;\n",
       "    }\n",
       "\n",
       "    .dataframe tbody tr th {\n",
       "        vertical-align: top;\n",
       "    }\n",
       "\n",
       "    .dataframe thead th {\n",
       "        text-align: right;\n",
       "    }\n",
       "</style>\n",
       "<table border=\"1\" class=\"dataframe\">\n",
       "  <thead>\n",
       "    <tr style=\"text-align: right;\">\n",
       "      <th></th>\n",
       "      <th>0</th>\n",
       "      <th>1</th>\n",
       "      <th>2</th>\n",
       "    </tr>\n",
       "  </thead>\n",
       "  <tbody>\n",
       "    <tr>\n",
       "      <th>0</th>\n",
       "      <td>10</td>\n",
       "      <td>20</td>\n",
       "      <td>30</td>\n",
       "    </tr>\n",
       "    <tr>\n",
       "      <th>1</th>\n",
       "      <td>40</td>\n",
       "      <td>50</td>\n",
       "      <td>60</td>\n",
       "    </tr>\n",
       "  </tbody>\n",
       "</table>\n",
       "</div>"
      ],
      "text/plain": [
       "    0   1   2\n",
       "0  10  20  30\n",
       "1  40  50  60"
      ]
     },
     "execution_count": 188,
     "metadata": {},
     "output_type": "execute_result"
    }
   ],
   "source": [
    "df8"
   ]
  },
  {
   "cell_type": "code",
   "execution_count": 190,
   "id": "a905dc4d",
   "metadata": {},
   "outputs": [],
   "source": [
    "##with index and column\n",
    "df9 = pd.DataFrame(arr1, index=['r1','r2'],columns =['c1','c2','c3'])\n"
   ]
  },
  {
   "cell_type": "code",
   "execution_count": 191,
   "id": "20198e47",
   "metadata": {},
   "outputs": [
    {
     "data": {
      "text/html": [
       "<div>\n",
       "<style scoped>\n",
       "    .dataframe tbody tr th:only-of-type {\n",
       "        vertical-align: middle;\n",
       "    }\n",
       "\n",
       "    .dataframe tbody tr th {\n",
       "        vertical-align: top;\n",
       "    }\n",
       "\n",
       "    .dataframe thead th {\n",
       "        text-align: right;\n",
       "    }\n",
       "</style>\n",
       "<table border=\"1\" class=\"dataframe\">\n",
       "  <thead>\n",
       "    <tr style=\"text-align: right;\">\n",
       "      <th></th>\n",
       "      <th>c1</th>\n",
       "      <th>c2</th>\n",
       "      <th>c3</th>\n",
       "    </tr>\n",
       "  </thead>\n",
       "  <tbody>\n",
       "    <tr>\n",
       "      <th>r1</th>\n",
       "      <td>10</td>\n",
       "      <td>20</td>\n",
       "      <td>30</td>\n",
       "    </tr>\n",
       "    <tr>\n",
       "      <th>r2</th>\n",
       "      <td>40</td>\n",
       "      <td>50</td>\n",
       "      <td>60</td>\n",
       "    </tr>\n",
       "  </tbody>\n",
       "</table>\n",
       "</div>"
      ],
      "text/plain": [
       "    c1  c2  c3\n",
       "r1  10  20  30\n",
       "r2  40  50  60"
      ]
     },
     "execution_count": 191,
     "metadata": {},
     "output_type": "execute_result"
    }
   ],
   "source": [
    "df9"
   ]
  },
  {
   "cell_type": "code",
   "execution_count": 193,
   "id": "f4842bf6",
   "metadata": {},
   "outputs": [],
   "source": [
    "## when values are diffrent\n",
    "list3 = [[10,20,30],[40,50],[70,80,90,90]]"
   ]
  },
  {
   "cell_type": "code",
   "execution_count": 194,
   "id": "bfa397a2",
   "metadata": {},
   "outputs": [],
   "source": [
    "df10 = pd.DataFrame(list3)"
   ]
  },
  {
   "cell_type": "code",
   "execution_count": 195,
   "id": "22095b92",
   "metadata": {},
   "outputs": [
    {
     "data": {
      "text/html": [
       "<div>\n",
       "<style scoped>\n",
       "    .dataframe tbody tr th:only-of-type {\n",
       "        vertical-align: middle;\n",
       "    }\n",
       "\n",
       "    .dataframe tbody tr th {\n",
       "        vertical-align: top;\n",
       "    }\n",
       "\n",
       "    .dataframe thead th {\n",
       "        text-align: right;\n",
       "    }\n",
       "</style>\n",
       "<table border=\"1\" class=\"dataframe\">\n",
       "  <thead>\n",
       "    <tr style=\"text-align: right;\">\n",
       "      <th></th>\n",
       "      <th>0</th>\n",
       "      <th>1</th>\n",
       "      <th>2</th>\n",
       "      <th>3</th>\n",
       "    </tr>\n",
       "  </thead>\n",
       "  <tbody>\n",
       "    <tr>\n",
       "      <th>0</th>\n",
       "      <td>10</td>\n",
       "      <td>20</td>\n",
       "      <td>30.0</td>\n",
       "      <td>NaN</td>\n",
       "    </tr>\n",
       "    <tr>\n",
       "      <th>1</th>\n",
       "      <td>40</td>\n",
       "      <td>50</td>\n",
       "      <td>NaN</td>\n",
       "      <td>NaN</td>\n",
       "    </tr>\n",
       "    <tr>\n",
       "      <th>2</th>\n",
       "      <td>70</td>\n",
       "      <td>80</td>\n",
       "      <td>90.0</td>\n",
       "      <td>90.0</td>\n",
       "    </tr>\n",
       "  </tbody>\n",
       "</table>\n",
       "</div>"
      ],
      "text/plain": [
       "    0   1     2     3\n",
       "0  10  20  30.0   NaN\n",
       "1  40  50   NaN   NaN\n",
       "2  70  80  90.0  90.0"
      ]
     },
     "execution_count": 195,
     "metadata": {},
     "output_type": "execute_result"
    }
   ],
   "source": [
    "df10"
   ]
  },
  {
   "cell_type": "markdown",
   "id": "44d797c5",
   "metadata": {},
   "source": [
    "#### Creating a DataFrame from 2D dictionary with values of series object"
   ]
  },
  {
   "cell_type": "code",
   "execution_count": 197,
   "id": "438213ee",
   "metadata": {},
   "outputs": [],
   "source": [
    "staff = pd.Series([20,36,44])\n",
    "salary = pd.Series([10000,15000,20000])"
   ]
  },
  {
   "cell_type": "code",
   "execution_count": 198,
   "id": "fbd737bb",
   "metadata": {},
   "outputs": [],
   "source": [
    "school ={'people':staff, 'amount':salary}"
   ]
  },
  {
   "cell_type": "code",
   "execution_count": 200,
   "id": "5dfe7a23",
   "metadata": {},
   "outputs": [],
   "source": [
    "df11 = pd.DataFrame(school)"
   ]
  },
  {
   "cell_type": "code",
   "execution_count": 201,
   "id": "879014cd",
   "metadata": {},
   "outputs": [
    {
     "data": {
      "text/html": [
       "<div>\n",
       "<style scoped>\n",
       "    .dataframe tbody tr th:only-of-type {\n",
       "        vertical-align: middle;\n",
       "    }\n",
       "\n",
       "    .dataframe tbody tr th {\n",
       "        vertical-align: top;\n",
       "    }\n",
       "\n",
       "    .dataframe thead th {\n",
       "        text-align: right;\n",
       "    }\n",
       "</style>\n",
       "<table border=\"1\" class=\"dataframe\">\n",
       "  <thead>\n",
       "    <tr style=\"text-align: right;\">\n",
       "      <th></th>\n",
       "      <th>people</th>\n",
       "      <th>amount</th>\n",
       "    </tr>\n",
       "  </thead>\n",
       "  <tbody>\n",
       "    <tr>\n",
       "      <th>0</th>\n",
       "      <td>20</td>\n",
       "      <td>10000</td>\n",
       "    </tr>\n",
       "    <tr>\n",
       "      <th>1</th>\n",
       "      <td>36</td>\n",
       "      <td>15000</td>\n",
       "    </tr>\n",
       "    <tr>\n",
       "      <th>2</th>\n",
       "      <td>44</td>\n",
       "      <td>20000</td>\n",
       "    </tr>\n",
       "  </tbody>\n",
       "</table>\n",
       "</div>"
      ],
      "text/plain": [
       "   people  amount\n",
       "0      20   10000\n",
       "1      36   15000\n",
       "2      44   20000"
      ]
     },
     "execution_count": 201,
     "metadata": {},
     "output_type": "execute_result"
    }
   ],
   "source": [
    "df11"
   ]
  },
  {
   "cell_type": "markdown",
   "id": "99768b5b",
   "metadata": {},
   "source": [
    "#### Creating a DataFrame object from another DataFrame object"
   ]
  },
  {
   "cell_type": "code",
   "execution_count": 202,
   "id": "580a4312",
   "metadata": {},
   "outputs": [],
   "source": [
    "df12 = pd.DataFrame([[10,20,30],[40,50,60]])\n"
   ]
  },
  {
   "cell_type": "code",
   "execution_count": 203,
   "id": "d71d6123",
   "metadata": {},
   "outputs": [],
   "source": [
    "df13 =pd.DataFrame(df12)"
   ]
  },
  {
   "cell_type": "code",
   "execution_count": 204,
   "id": "616b6fd4",
   "metadata": {},
   "outputs": [
    {
     "data": {
      "text/html": [
       "<div>\n",
       "<style scoped>\n",
       "    .dataframe tbody tr th:only-of-type {\n",
       "        vertical-align: middle;\n",
       "    }\n",
       "\n",
       "    .dataframe tbody tr th {\n",
       "        vertical-align: top;\n",
       "    }\n",
       "\n",
       "    .dataframe thead th {\n",
       "        text-align: right;\n",
       "    }\n",
       "</style>\n",
       "<table border=\"1\" class=\"dataframe\">\n",
       "  <thead>\n",
       "    <tr style=\"text-align: right;\">\n",
       "      <th></th>\n",
       "      <th>0</th>\n",
       "      <th>1</th>\n",
       "      <th>2</th>\n",
       "    </tr>\n",
       "  </thead>\n",
       "  <tbody>\n",
       "    <tr>\n",
       "      <th>0</th>\n",
       "      <td>10</td>\n",
       "      <td>20</td>\n",
       "      <td>30</td>\n",
       "    </tr>\n",
       "    <tr>\n",
       "      <th>1</th>\n",
       "      <td>40</td>\n",
       "      <td>50</td>\n",
       "      <td>60</td>\n",
       "    </tr>\n",
       "  </tbody>\n",
       "</table>\n",
       "</div>"
      ],
      "text/plain": [
       "    0   1   2\n",
       "0  10  20  30\n",
       "1  40  50  60"
      ]
     },
     "execution_count": 204,
     "metadata": {},
     "output_type": "execute_result"
    }
   ],
   "source": [
    "df12"
   ]
  },
  {
   "cell_type": "code",
   "execution_count": 205,
   "id": "b5209593",
   "metadata": {},
   "outputs": [
    {
     "data": {
      "text/html": [
       "<div>\n",
       "<style scoped>\n",
       "    .dataframe tbody tr th:only-of-type {\n",
       "        vertical-align: middle;\n",
       "    }\n",
       "\n",
       "    .dataframe tbody tr th {\n",
       "        vertical-align: top;\n",
       "    }\n",
       "\n",
       "    .dataframe thead th {\n",
       "        text-align: right;\n",
       "    }\n",
       "</style>\n",
       "<table border=\"1\" class=\"dataframe\">\n",
       "  <thead>\n",
       "    <tr style=\"text-align: right;\">\n",
       "      <th></th>\n",
       "      <th>0</th>\n",
       "      <th>1</th>\n",
       "      <th>2</th>\n",
       "    </tr>\n",
       "  </thead>\n",
       "  <tbody>\n",
       "    <tr>\n",
       "      <th>0</th>\n",
       "      <td>10</td>\n",
       "      <td>20</td>\n",
       "      <td>30</td>\n",
       "    </tr>\n",
       "    <tr>\n",
       "      <th>1</th>\n",
       "      <td>40</td>\n",
       "      <td>50</td>\n",
       "      <td>60</td>\n",
       "    </tr>\n",
       "  </tbody>\n",
       "</table>\n",
       "</div>"
      ],
      "text/plain": [
       "    0   1   2\n",
       "0  10  20  30\n",
       "1  40  50  60"
      ]
     },
     "execution_count": 205,
     "metadata": {},
     "output_type": "execute_result"
    }
   ],
   "source": [
    "df13"
   ]
  },
  {
   "cell_type": "markdown",
   "id": "b1b50fb6",
   "metadata": {},
   "source": [
    "### DataFrame Attributes/ Function"
   ]
  },
  {
   "cell_type": "code",
   "execution_count": 206,
   "id": "52870d4c",
   "metadata": {},
   "outputs": [],
   "source": [
    "import pandas as pd"
   ]
  },
  {
   "cell_type": "code",
   "execution_count": 207,
   "id": "6aed360a",
   "metadata": {},
   "outputs": [],
   "source": [
    "dict1 = {\"Sales\":{\"name\":\"ayman\",\"age\":24,\"sex\":\"male\"},\"marketing\":{\"name\":\"sarah\",\"age\":22,\"sex\":\"female\"}}"
   ]
  },
  {
   "cell_type": "code",
   "execution_count": 208,
   "id": "dda31dd3",
   "metadata": {},
   "outputs": [],
   "source": [
    "dfn = pd.DataFrame(dict1)"
   ]
  },
  {
   "cell_type": "code",
   "execution_count": 209,
   "id": "b4a49d71",
   "metadata": {},
   "outputs": [
    {
     "data": {
      "text/html": [
       "<div>\n",
       "<style scoped>\n",
       "    .dataframe tbody tr th:only-of-type {\n",
       "        vertical-align: middle;\n",
       "    }\n",
       "\n",
       "    .dataframe tbody tr th {\n",
       "        vertical-align: top;\n",
       "    }\n",
       "\n",
       "    .dataframe thead th {\n",
       "        text-align: right;\n",
       "    }\n",
       "</style>\n",
       "<table border=\"1\" class=\"dataframe\">\n",
       "  <thead>\n",
       "    <tr style=\"text-align: right;\">\n",
       "      <th></th>\n",
       "      <th>Sales</th>\n",
       "      <th>marketing</th>\n",
       "    </tr>\n",
       "  </thead>\n",
       "  <tbody>\n",
       "    <tr>\n",
       "      <th>name</th>\n",
       "      <td>ayman</td>\n",
       "      <td>sarah</td>\n",
       "    </tr>\n",
       "    <tr>\n",
       "      <th>age</th>\n",
       "      <td>24</td>\n",
       "      <td>22</td>\n",
       "    </tr>\n",
       "    <tr>\n",
       "      <th>sex</th>\n",
       "      <td>male</td>\n",
       "      <td>female</td>\n",
       "    </tr>\n",
       "  </tbody>\n",
       "</table>\n",
       "</div>"
      ],
      "text/plain": [
       "      Sales marketing\n",
       "name  ayman     sarah\n",
       "age      24        22\n",
       "sex    male    female"
      ]
     },
     "execution_count": 209,
     "metadata": {},
     "output_type": "execute_result"
    }
   ],
   "source": [
    "dfn"
   ]
  },
  {
   "cell_type": "code",
   "execution_count": 210,
   "id": "9dbcbe9d",
   "metadata": {},
   "outputs": [
    {
     "data": {
      "text/plain": [
       "Index(['name', 'age', 'sex'], dtype='object')"
      ]
     },
     "execution_count": 210,
     "metadata": {},
     "output_type": "execute_result"
    }
   ],
   "source": [
    "## index : will return index/row\n",
    "dfn.index"
   ]
  },
  {
   "cell_type": "code",
   "execution_count": 211,
   "id": "774c5a60",
   "metadata": {},
   "outputs": [
    {
     "data": {
      "text/plain": [
       "Index(['Sales', 'marketing'], dtype='object')"
      ]
     },
     "execution_count": 211,
     "metadata": {},
     "output_type": "execute_result"
    }
   ],
   "source": [
    "## columns : to return col\n",
    "dfn.columns"
   ]
  },
  {
   "cell_type": "code",
   "execution_count": 212,
   "id": "c13b1a7a",
   "metadata": {},
   "outputs": [
    {
     "data": {
      "text/plain": [
       "[Index(['name', 'age', 'sex'], dtype='object'),\n",
       " Index(['Sales', 'marketing'], dtype='object')]"
      ]
     },
     "execution_count": 212,
     "metadata": {},
     "output_type": "execute_result"
    }
   ],
   "source": [
    "##axes : show both row and column\n",
    "dfn.axes"
   ]
  },
  {
   "cell_type": "code",
   "execution_count": 213,
   "id": "76d713f8",
   "metadata": {},
   "outputs": [
    {
     "data": {
      "text/plain": [
       "Sales        object\n",
       "marketing    object\n",
       "dtype: object"
      ]
     },
     "execution_count": 213,
     "metadata": {},
     "output_type": "execute_result"
    }
   ],
   "source": [
    "## datatypes\n",
    "dfn.dtypes  ##mix of string and int"
   ]
  },
  {
   "cell_type": "code",
   "execution_count": 214,
   "id": "c47267bf",
   "metadata": {},
   "outputs": [
    {
     "data": {
      "text/plain": [
       "6"
      ]
     },
     "execution_count": 214,
     "metadata": {},
     "output_type": "execute_result"
    }
   ],
   "source": [
    "## size -return total elements of the object\n",
    "dfn.size"
   ]
  },
  {
   "cell_type": "code",
   "execution_count": 215,
   "id": "6bfaded9",
   "metadata": {},
   "outputs": [
    {
     "data": {
      "text/plain": [
       "(3, 2)"
      ]
     },
     "execution_count": 215,
     "metadata": {},
     "output_type": "execute_result"
    }
   ],
   "source": [
    "##shape (row,column)\n",
    "dfn.shape"
   ]
  },
  {
   "cell_type": "code",
   "execution_count": 216,
   "id": "89b09ff0",
   "metadata": {},
   "outputs": [
    {
     "data": {
      "text/plain": [
       "2"
      ]
     },
     "execution_count": 216,
     "metadata": {},
     "output_type": "execute_result"
    }
   ],
   "source": [
    "##ndim : no of dimension\n",
    "dfn.ndim\n"
   ]
  },
  {
   "cell_type": "code",
   "execution_count": 217,
   "id": "e44eff8a",
   "metadata": {},
   "outputs": [
    {
     "data": {
      "text/plain": [
       "False"
      ]
     },
     "execution_count": 217,
     "metadata": {},
     "output_type": "execute_result"
    }
   ],
   "source": [
    "## empty - check empty or nor\n",
    "dfn.empty"
   ]
  },
  {
   "cell_type": "code",
   "execution_count": 218,
   "id": "e5e39142",
   "metadata": {},
   "outputs": [
    {
     "data": {
      "text/plain": [
       "3"
      ]
     },
     "execution_count": 218,
     "metadata": {},
     "output_type": "execute_result"
    }
   ],
   "source": [
    "##length- no of rows\n",
    "len(dfn)"
   ]
  },
  {
   "cell_type": "code",
   "execution_count": 223,
   "id": "25e998ac",
   "metadata": {},
   "outputs": [
    {
     "data": {
      "text/plain": [
       "Sales        3\n",
       "marketing    3\n",
       "dtype: int64"
      ]
     },
     "execution_count": 223,
     "metadata": {},
     "output_type": "execute_result"
    }
   ],
   "source": [
    "##count -total values\n",
    "dfn.count(0)"
   ]
  },
  {
   "cell_type": "code",
   "execution_count": 222,
   "id": "9eb27b18",
   "metadata": {},
   "outputs": [
    {
     "data": {
      "text/plain": [
       "Sales        3\n",
       "marketing    3\n",
       "dtype: int64"
      ]
     },
     "execution_count": 222,
     "metadata": {},
     "output_type": "execute_result"
    }
   ],
   "source": [
    "dfn.count(axis='index')"
   ]
  },
  {
   "cell_type": "code",
   "execution_count": 224,
   "id": "6b1881da",
   "metadata": {},
   "outputs": [
    {
     "data": {
      "text/plain": [
       "name    2\n",
       "age     2\n",
       "sex     2\n",
       "dtype: int64"
      ]
     },
     "execution_count": 224,
     "metadata": {},
     "output_type": "execute_result"
    }
   ],
   "source": [
    "dfn.count(1) ## to count column"
   ]
  },
  {
   "cell_type": "code",
   "execution_count": 227,
   "id": "884b2007",
   "metadata": {},
   "outputs": [
    {
     "data": {
      "text/plain": [
       "name    2\n",
       "age     2\n",
       "sex     2\n",
       "dtype: int64"
      ]
     },
     "execution_count": 227,
     "metadata": {},
     "output_type": "execute_result"
    }
   ],
   "source": [
    "dfn.count(axis ='columns')"
   ]
  },
  {
   "cell_type": "code",
   "execution_count": 228,
   "id": "2909235f",
   "metadata": {},
   "outputs": [
    {
     "data": {
      "text/html": [
       "<div>\n",
       "<style scoped>\n",
       "    .dataframe tbody tr th:only-of-type {\n",
       "        vertical-align: middle;\n",
       "    }\n",
       "\n",
       "    .dataframe tbody tr th {\n",
       "        vertical-align: top;\n",
       "    }\n",
       "\n",
       "    .dataframe thead th {\n",
       "        text-align: right;\n",
       "    }\n",
       "</style>\n",
       "<table border=\"1\" class=\"dataframe\">\n",
       "  <thead>\n",
       "    <tr style=\"text-align: right;\">\n",
       "      <th></th>\n",
       "      <th>name</th>\n",
       "      <th>age</th>\n",
       "      <th>sex</th>\n",
       "    </tr>\n",
       "  </thead>\n",
       "  <tbody>\n",
       "    <tr>\n",
       "      <th>Sales</th>\n",
       "      <td>ayman</td>\n",
       "      <td>24</td>\n",
       "      <td>male</td>\n",
       "    </tr>\n",
       "    <tr>\n",
       "      <th>marketing</th>\n",
       "      <td>sarah</td>\n",
       "      <td>22</td>\n",
       "      <td>female</td>\n",
       "    </tr>\n",
       "  </tbody>\n",
       "</table>\n",
       "</div>"
      ],
      "text/plain": [
       "            name age     sex\n",
       "Sales      ayman  24    male\n",
       "marketing  sarah  22  female"
      ]
     },
     "execution_count": 228,
     "metadata": {},
     "output_type": "execute_result"
    }
   ],
   "source": [
    "## Transposing a dataframe : inverse the row to column and column to row\n",
    "dfn.T\n"
   ]
  },
  {
   "cell_type": "code",
   "execution_count": 229,
   "id": "cd1c171f",
   "metadata": {},
   "outputs": [
    {
     "data": {
      "text/plain": [
       "array([['ayman', 'sarah'],\n",
       "       [24, 22],\n",
       "       ['male', 'female']], dtype=object)"
      ]
     },
     "execution_count": 229,
     "metadata": {},
     "output_type": "execute_result"
    }
   ],
   "source": [
    "##numpy representation of DataFrame\n",
    "dfn.values"
   ]
  },
  {
   "cell_type": "markdown",
   "id": "15ffc567",
   "metadata": {},
   "source": [
    "### DataFrame Object:loc and iloc Function"
   ]
  },
  {
   "cell_type": "code",
   "execution_count": 233,
   "id": "1b942343",
   "metadata": {},
   "outputs": [],
   "source": [
    "dict0 = {\"population\":{\"A\":15000,\"B\":13000,\"C\":14000},\"Hospital\":{\"A\":1000,\"B\":500,\"C\":700},\"Schools\":{\"A\":500,\"B\":900,\"C\":800}}"
   ]
  },
  {
   "cell_type": "code",
   "execution_count": 234,
   "id": "83d11f6c",
   "metadata": {},
   "outputs": [
    {
     "data": {
      "text/plain": [
       "{'population': {'A': 15000, 'B': 13000, 'C': 14000},\n",
       " 'Hospital': {'A': 1000, 'B': 500, 'C': 700},\n",
       " 'Schools': {'A': 500, 'B': 900, 'C': 800}}"
      ]
     },
     "execution_count": 234,
     "metadata": {},
     "output_type": "execute_result"
    }
   ],
   "source": [
    "dict0"
   ]
  },
  {
   "cell_type": "code",
   "execution_count": 237,
   "id": "c3136726",
   "metadata": {},
   "outputs": [],
   "source": [
    "df12 = pd.DataFrame(dict0)"
   ]
  },
  {
   "cell_type": "code",
   "execution_count": 238,
   "id": "0f1e68f3",
   "metadata": {},
   "outputs": [
    {
     "data": {
      "text/html": [
       "<div>\n",
       "<style scoped>\n",
       "    .dataframe tbody tr th:only-of-type {\n",
       "        vertical-align: middle;\n",
       "    }\n",
       "\n",
       "    .dataframe tbody tr th {\n",
       "        vertical-align: top;\n",
       "    }\n",
       "\n",
       "    .dataframe thead th {\n",
       "        text-align: right;\n",
       "    }\n",
       "</style>\n",
       "<table border=\"1\" class=\"dataframe\">\n",
       "  <thead>\n",
       "    <tr style=\"text-align: right;\">\n",
       "      <th></th>\n",
       "      <th>population</th>\n",
       "      <th>Hospital</th>\n",
       "      <th>Schools</th>\n",
       "    </tr>\n",
       "  </thead>\n",
       "  <tbody>\n",
       "    <tr>\n",
       "      <th>A</th>\n",
       "      <td>15000</td>\n",
       "      <td>1000</td>\n",
       "      <td>500</td>\n",
       "    </tr>\n",
       "    <tr>\n",
       "      <th>B</th>\n",
       "      <td>13000</td>\n",
       "      <td>500</td>\n",
       "      <td>900</td>\n",
       "    </tr>\n",
       "    <tr>\n",
       "      <th>C</th>\n",
       "      <td>14000</td>\n",
       "      <td>700</td>\n",
       "      <td>800</td>\n",
       "    </tr>\n",
       "  </tbody>\n",
       "</table>\n",
       "</div>"
      ],
      "text/plain": [
       "   population  Hospital  Schools\n",
       "A       15000      1000      500\n",
       "B       13000       500      900\n",
       "C       14000       700      800"
      ]
     },
     "execution_count": 238,
     "metadata": {},
     "output_type": "execute_result"
    }
   ],
   "source": [
    "df12"
   ]
  },
  {
   "cell_type": "markdown",
   "id": "e17ed487",
   "metadata": {},
   "source": [
    "#### How to selecting /accessing column"
   ]
  },
  {
   "cell_type": "code",
   "execution_count": 240,
   "id": "1d748919",
   "metadata": {},
   "outputs": [
    {
     "data": {
      "text/plain": [
       "A    15000\n",
       "B    13000\n",
       "C    14000\n",
       "Name: population, dtype: int64"
      ]
     },
     "execution_count": 240,
     "metadata": {},
     "output_type": "execute_result"
    }
   ],
   "source": [
    "df12['population']"
   ]
  },
  {
   "cell_type": "code",
   "execution_count": 241,
   "id": "416fd999",
   "metadata": {},
   "outputs": [
    {
     "data": {
      "text/plain": [
       "A    500\n",
       "B    900\n",
       "C    800\n",
       "Name: Schools, dtype: int64"
      ]
     },
     "execution_count": 241,
     "metadata": {},
     "output_type": "execute_result"
    }
   ],
   "source": [
    "## second way\n",
    "df12['Schools']"
   ]
  },
  {
   "cell_type": "code",
   "execution_count": 243,
   "id": "07392683",
   "metadata": {},
   "outputs": [
    {
     "data": {
      "text/plain": [
       "A    500\n",
       "B    900\n",
       "C    800\n",
       "Name: Schools, dtype: int64"
      ]
     },
     "execution_count": 243,
     "metadata": {},
     "output_type": "execute_result"
    }
   ],
   "source": [
    "df12.Schools "
   ]
  },
  {
   "cell_type": "markdown",
   "id": "9381b2d4",
   "metadata": {},
   "source": [
    "#### to access multiple column"
   ]
  },
  {
   "cell_type": "code",
   "execution_count": 244,
   "id": "2de47efd",
   "metadata": {},
   "outputs": [
    {
     "data": {
      "text/html": [
       "<div>\n",
       "<style scoped>\n",
       "    .dataframe tbody tr th:only-of-type {\n",
       "        vertical-align: middle;\n",
       "    }\n",
       "\n",
       "    .dataframe tbody tr th {\n",
       "        vertical-align: top;\n",
       "    }\n",
       "\n",
       "    .dataframe thead th {\n",
       "        text-align: right;\n",
       "    }\n",
       "</style>\n",
       "<table border=\"1\" class=\"dataframe\">\n",
       "  <thead>\n",
       "    <tr style=\"text-align: right;\">\n",
       "      <th></th>\n",
       "      <th>population</th>\n",
       "      <th>Hospital</th>\n",
       "    </tr>\n",
       "  </thead>\n",
       "  <tbody>\n",
       "    <tr>\n",
       "      <th>A</th>\n",
       "      <td>15000</td>\n",
       "      <td>1000</td>\n",
       "    </tr>\n",
       "    <tr>\n",
       "      <th>B</th>\n",
       "      <td>13000</td>\n",
       "      <td>500</td>\n",
       "    </tr>\n",
       "    <tr>\n",
       "      <th>C</th>\n",
       "      <td>14000</td>\n",
       "      <td>700</td>\n",
       "    </tr>\n",
       "  </tbody>\n",
       "</table>\n",
       "</div>"
      ],
      "text/plain": [
       "   population  Hospital\n",
       "A       15000      1000\n",
       "B       13000       500\n",
       "C       14000       700"
      ]
     },
     "execution_count": 244,
     "metadata": {},
     "output_type": "execute_result"
    }
   ],
   "source": [
    "df12[['population','Hospital']]"
   ]
  },
  {
   "cell_type": "code",
   "execution_count": 245,
   "id": "31e86931",
   "metadata": {},
   "outputs": [],
   "source": [
    "## selcting subset row /column"
   ]
  },
  {
   "cell_type": "code",
   "execution_count": 246,
   "id": "10a7afb6",
   "metadata": {},
   "outputs": [],
   "source": [
    "##syntax:dataframeobj.loc[start row :end row ,start col:end col]"
   ]
  },
  {
   "cell_type": "code",
   "execution_count": 248,
   "id": "64c4451c",
   "metadata": {},
   "outputs": [
    {
     "data": {
      "text/plain": [
       "population    15000\n",
       "Hospital       1000\n",
       "Schools         500\n",
       "Name: A, dtype: int64"
      ]
     },
     "execution_count": 248,
     "metadata": {},
     "output_type": "execute_result"
    }
   ],
   "source": [
    "df12.loc['A',:] ##extract all data of A"
   ]
  },
  {
   "cell_type": "code",
   "execution_count": 249,
   "id": "2f094bc8",
   "metadata": {},
   "outputs": [
    {
     "data": {
      "text/html": [
       "<div>\n",
       "<style scoped>\n",
       "    .dataframe tbody tr th:only-of-type {\n",
       "        vertical-align: middle;\n",
       "    }\n",
       "\n",
       "    .dataframe tbody tr th {\n",
       "        vertical-align: top;\n",
       "    }\n",
       "\n",
       "    .dataframe thead th {\n",
       "        text-align: right;\n",
       "    }\n",
       "</style>\n",
       "<table border=\"1\" class=\"dataframe\">\n",
       "  <thead>\n",
       "    <tr style=\"text-align: right;\">\n",
       "      <th></th>\n",
       "      <th>population</th>\n",
       "      <th>Hospital</th>\n",
       "      <th>Schools</th>\n",
       "    </tr>\n",
       "  </thead>\n",
       "  <tbody>\n",
       "    <tr>\n",
       "      <th>B</th>\n",
       "      <td>13000</td>\n",
       "      <td>500</td>\n",
       "      <td>900</td>\n",
       "    </tr>\n",
       "    <tr>\n",
       "      <th>C</th>\n",
       "      <td>14000</td>\n",
       "      <td>700</td>\n",
       "      <td>800</td>\n",
       "    </tr>\n",
       "  </tbody>\n",
       "</table>\n",
       "</div>"
      ],
      "text/plain": [
       "   population  Hospital  Schools\n",
       "B       13000       500      900\n",
       "C       14000       700      800"
      ]
     },
     "execution_count": 249,
     "metadata": {},
     "output_type": "execute_result"
    }
   ],
   "source": [
    "df12.loc['B':'C',:]"
   ]
  },
  {
   "cell_type": "code",
   "execution_count": 250,
   "id": "0323e3ab",
   "metadata": {},
   "outputs": [
    {
     "data": {
      "text/html": [
       "<div>\n",
       "<style scoped>\n",
       "    .dataframe tbody tr th:only-of-type {\n",
       "        vertical-align: middle;\n",
       "    }\n",
       "\n",
       "    .dataframe tbody tr th {\n",
       "        vertical-align: top;\n",
       "    }\n",
       "\n",
       "    .dataframe thead th {\n",
       "        text-align: right;\n",
       "    }\n",
       "</style>\n",
       "<table border=\"1\" class=\"dataframe\">\n",
       "  <thead>\n",
       "    <tr style=\"text-align: right;\">\n",
       "      <th></th>\n",
       "      <th>population</th>\n",
       "      <th>Hospital</th>\n",
       "      <th>Schools</th>\n",
       "    </tr>\n",
       "  </thead>\n",
       "  <tbody>\n",
       "    <tr>\n",
       "      <th>A</th>\n",
       "      <td>15000</td>\n",
       "      <td>1000</td>\n",
       "      <td>500</td>\n",
       "    </tr>\n",
       "    <tr>\n",
       "      <th>B</th>\n",
       "      <td>13000</td>\n",
       "      <td>500</td>\n",
       "      <td>900</td>\n",
       "    </tr>\n",
       "    <tr>\n",
       "      <th>C</th>\n",
       "      <td>14000</td>\n",
       "      <td>700</td>\n",
       "      <td>800</td>\n",
       "    </tr>\n",
       "  </tbody>\n",
       "</table>\n",
       "</div>"
      ],
      "text/plain": [
       "   population  Hospital  Schools\n",
       "A       15000      1000      500\n",
       "B       13000       500      900\n",
       "C       14000       700      800"
      ]
     },
     "execution_count": 250,
     "metadata": {},
     "output_type": "execute_result"
    }
   ],
   "source": [
    "df12.loc['A':'C',:]"
   ]
  },
  {
   "cell_type": "code",
   "execution_count": 251,
   "id": "46178a87",
   "metadata": {},
   "outputs": [
    {
     "data": {
      "text/html": [
       "<div>\n",
       "<style scoped>\n",
       "    .dataframe tbody tr th:only-of-type {\n",
       "        vertical-align: middle;\n",
       "    }\n",
       "\n",
       "    .dataframe tbody tr th {\n",
       "        vertical-align: top;\n",
       "    }\n",
       "\n",
       "    .dataframe thead th {\n",
       "        text-align: right;\n",
       "    }\n",
       "</style>\n",
       "<table border=\"1\" class=\"dataframe\">\n",
       "  <thead>\n",
       "    <tr style=\"text-align: right;\">\n",
       "      <th></th>\n",
       "      <th>Hospital</th>\n",
       "      <th>Schools</th>\n",
       "    </tr>\n",
       "  </thead>\n",
       "  <tbody>\n",
       "    <tr>\n",
       "      <th>A</th>\n",
       "      <td>1000</td>\n",
       "      <td>500</td>\n",
       "    </tr>\n",
       "    <tr>\n",
       "      <th>B</th>\n",
       "      <td>500</td>\n",
       "      <td>900</td>\n",
       "    </tr>\n",
       "    <tr>\n",
       "      <th>C</th>\n",
       "      <td>700</td>\n",
       "      <td>800</td>\n",
       "    </tr>\n",
       "  </tbody>\n",
       "</table>\n",
       "</div>"
      ],
      "text/plain": [
       "   Hospital  Schools\n",
       "A      1000      500\n",
       "B       500      900\n",
       "C       700      800"
      ]
     },
     "execution_count": 251,
     "metadata": {},
     "output_type": "execute_result"
    }
   ],
   "source": [
    "df12.loc[:,'Hospital':'Schools'] ##to access column"
   ]
  },
  {
   "cell_type": "code",
   "execution_count": 252,
   "id": "f0e06921",
   "metadata": {},
   "outputs": [
    {
     "data": {
      "text/html": [
       "<div>\n",
       "<style scoped>\n",
       "    .dataframe tbody tr th:only-of-type {\n",
       "        vertical-align: middle;\n",
       "    }\n",
       "\n",
       "    .dataframe tbody tr th {\n",
       "        vertical-align: top;\n",
       "    }\n",
       "\n",
       "    .dataframe thead th {\n",
       "        text-align: right;\n",
       "    }\n",
       "</style>\n",
       "<table border=\"1\" class=\"dataframe\">\n",
       "  <thead>\n",
       "    <tr style=\"text-align: right;\">\n",
       "      <th></th>\n",
       "      <th>Hospital</th>\n",
       "      <th>Schools</th>\n",
       "    </tr>\n",
       "  </thead>\n",
       "  <tbody>\n",
       "    <tr>\n",
       "      <th>B</th>\n",
       "      <td>500</td>\n",
       "      <td>900</td>\n",
       "    </tr>\n",
       "    <tr>\n",
       "      <th>C</th>\n",
       "      <td>700</td>\n",
       "      <td>800</td>\n",
       "    </tr>\n",
       "  </tbody>\n",
       "</table>\n",
       "</div>"
      ],
      "text/plain": [
       "   Hospital  Schools\n",
       "B       500      900\n",
       "C       700      800"
      ]
     },
     "execution_count": 252,
     "metadata": {},
     "output_type": "execute_result"
    }
   ],
   "source": [
    "## to access row and column both\n",
    "# : indicate range\n",
    "df12.loc['B':'C','Hospital':'Schools']"
   ]
  },
  {
   "cell_type": "markdown",
   "id": "d376569c",
   "metadata": {},
   "source": [
    "#### iloc function"
   ]
  },
  {
   "cell_type": "code",
   "execution_count": 253,
   "id": "90410b42",
   "metadata": {},
   "outputs": [],
   "source": [
    "## use when we don't know the name of row and column\n",
    "## syntax dataframobject.iloc[start r index : end r index , start col index : end col index]\n",
    "## end index data is excluded in this case"
   ]
  },
  {
   "cell_type": "code",
   "execution_count": 255,
   "id": "28abf1d6",
   "metadata": {},
   "outputs": [
    {
     "data": {
      "text/html": [
       "<div>\n",
       "<style scoped>\n",
       "    .dataframe tbody tr th:only-of-type {\n",
       "        vertical-align: middle;\n",
       "    }\n",
       "\n",
       "    .dataframe tbody tr th {\n",
       "        vertical-align: top;\n",
       "    }\n",
       "\n",
       "    .dataframe thead th {\n",
       "        text-align: right;\n",
       "    }\n",
       "</style>\n",
       "<table border=\"1\" class=\"dataframe\">\n",
       "  <thead>\n",
       "    <tr style=\"text-align: right;\">\n",
       "      <th></th>\n",
       "      <th>Hospital</th>\n",
       "      <th>Schools</th>\n",
       "    </tr>\n",
       "  </thead>\n",
       "  <tbody>\n",
       "    <tr>\n",
       "      <th>A</th>\n",
       "      <td>1000</td>\n",
       "      <td>500</td>\n",
       "    </tr>\n",
       "    <tr>\n",
       "      <th>B</th>\n",
       "      <td>500</td>\n",
       "      <td>900</td>\n",
       "    </tr>\n",
       "  </tbody>\n",
       "</table>\n",
       "</div>"
      ],
      "text/plain": [
       "   Hospital  Schools\n",
       "A      1000      500\n",
       "B       500      900"
      ]
     },
     "execution_count": 255,
     "metadata": {},
     "output_type": "execute_result"
    }
   ],
   "source": [
    "df12.iloc[0:2,1:3]"
   ]
  },
  {
   "cell_type": "code",
   "execution_count": 256,
   "id": "a16766c3",
   "metadata": {},
   "outputs": [
    {
     "data": {
      "text/html": [
       "<div>\n",
       "<style scoped>\n",
       "    .dataframe tbody tr th:only-of-type {\n",
       "        vertical-align: middle;\n",
       "    }\n",
       "\n",
       "    .dataframe tbody tr th {\n",
       "        vertical-align: top;\n",
       "    }\n",
       "\n",
       "    .dataframe thead th {\n",
       "        text-align: right;\n",
       "    }\n",
       "</style>\n",
       "<table border=\"1\" class=\"dataframe\">\n",
       "  <thead>\n",
       "    <tr style=\"text-align: right;\">\n",
       "      <th></th>\n",
       "      <th>population</th>\n",
       "      <th>Hospital</th>\n",
       "    </tr>\n",
       "  </thead>\n",
       "  <tbody>\n",
       "    <tr>\n",
       "      <th>C</th>\n",
       "      <td>14000</td>\n",
       "      <td>700</td>\n",
       "    </tr>\n",
       "  </tbody>\n",
       "</table>\n",
       "</div>"
      ],
      "text/plain": [
       "   population  Hospital\n",
       "C       14000       700"
      ]
     },
     "execution_count": 256,
     "metadata": {},
     "output_type": "execute_result"
    }
   ],
   "source": [
    "df12.iloc[2:4,0:2]"
   ]
  },
  {
   "cell_type": "markdown",
   "id": "86457b38",
   "metadata": {},
   "source": [
    "## Adding,Deleting,Updating,Renaming Rows and columns"
   ]
  },
  {
   "cell_type": "code",
   "execution_count": 257,
   "id": "dd94aee2",
   "metadata": {},
   "outputs": [],
   "source": [
    "# Accessing individual element of dataframe object"
   ]
  },
  {
   "cell_type": "code",
   "execution_count": 259,
   "id": "8817c62e",
   "metadata": {},
   "outputs": [
    {
     "data": {
      "text/plain": [
       "15000"
      ]
     },
     "execution_count": 259,
     "metadata": {},
     "output_type": "execute_result"
    }
   ],
   "source": [
    "df12.population['A']"
   ]
  },
  {
   "cell_type": "code",
   "execution_count": 260,
   "id": "76ab6f1d",
   "metadata": {},
   "outputs": [
    {
     "data": {
      "text/plain": [
       "500"
      ]
     },
     "execution_count": 260,
     "metadata": {},
     "output_type": "execute_result"
    }
   ],
   "source": [
    "df12.Hospital['B']"
   ]
  },
  {
   "cell_type": "code",
   "execution_count": 261,
   "id": "b334e6ce",
   "metadata": {},
   "outputs": [],
   "source": [
    "# at "
   ]
  },
  {
   "cell_type": "code",
   "execution_count": 262,
   "id": "94ee867b",
   "metadata": {},
   "outputs": [
    {
     "data": {
      "text/plain": [
       "500"
      ]
     },
     "execution_count": 262,
     "metadata": {},
     "output_type": "execute_result"
    }
   ],
   "source": [
    "df12.at['B','Hospital']"
   ]
  },
  {
   "cell_type": "code",
   "execution_count": 265,
   "id": "2c27ada3",
   "metadata": {},
   "outputs": [
    {
     "data": {
      "text/plain": [
       "900"
      ]
     },
     "execution_count": 265,
     "metadata": {},
     "output_type": "execute_result"
    }
   ],
   "source": [
    "df12.iat[1,2] ## row and column index"
   ]
  },
  {
   "cell_type": "markdown",
   "id": "277d9c84",
   "metadata": {},
   "source": [
    "#### adding, modifying a column"
   ]
  },
  {
   "cell_type": "code",
   "execution_count": 266,
   "id": "f131d981",
   "metadata": {},
   "outputs": [],
   "source": [
    "df12['Density']=5125 #add new column with same value"
   ]
  },
  {
   "cell_type": "code",
   "execution_count": 267,
   "id": "806c9f45",
   "metadata": {},
   "outputs": [
    {
     "data": {
      "text/html": [
       "<div>\n",
       "<style scoped>\n",
       "    .dataframe tbody tr th:only-of-type {\n",
       "        vertical-align: middle;\n",
       "    }\n",
       "\n",
       "    .dataframe tbody tr th {\n",
       "        vertical-align: top;\n",
       "    }\n",
       "\n",
       "    .dataframe thead th {\n",
       "        text-align: right;\n",
       "    }\n",
       "</style>\n",
       "<table border=\"1\" class=\"dataframe\">\n",
       "  <thead>\n",
       "    <tr style=\"text-align: right;\">\n",
       "      <th></th>\n",
       "      <th>population</th>\n",
       "      <th>Hospital</th>\n",
       "      <th>Schools</th>\n",
       "      <th>Density</th>\n",
       "    </tr>\n",
       "  </thead>\n",
       "  <tbody>\n",
       "    <tr>\n",
       "      <th>A</th>\n",
       "      <td>15000</td>\n",
       "      <td>1000</td>\n",
       "      <td>500</td>\n",
       "      <td>5125</td>\n",
       "    </tr>\n",
       "    <tr>\n",
       "      <th>B</th>\n",
       "      <td>13000</td>\n",
       "      <td>500</td>\n",
       "      <td>900</td>\n",
       "      <td>5125</td>\n",
       "    </tr>\n",
       "    <tr>\n",
       "      <th>C</th>\n",
       "      <td>14000</td>\n",
       "      <td>700</td>\n",
       "      <td>800</td>\n",
       "      <td>5125</td>\n",
       "    </tr>\n",
       "  </tbody>\n",
       "</table>\n",
       "</div>"
      ],
      "text/plain": [
       "   population  Hospital  Schools  Density\n",
       "A       15000      1000      500     5125\n",
       "B       13000       500      900     5125\n",
       "C       14000       700      800     5125"
      ]
     },
     "execution_count": 267,
     "metadata": {},
     "output_type": "execute_result"
    }
   ],
   "source": [
    "df12"
   ]
  },
  {
   "cell_type": "code",
   "execution_count": 269,
   "id": "32daba19",
   "metadata": {},
   "outputs": [],
   "source": [
    "df12['Density']=[1500,1600,1700] ## new column with diffrent values"
   ]
  },
  {
   "cell_type": "code",
   "execution_count": 270,
   "id": "50b7a3cf",
   "metadata": {},
   "outputs": [
    {
     "data": {
      "text/html": [
       "<div>\n",
       "<style scoped>\n",
       "    .dataframe tbody tr th:only-of-type {\n",
       "        vertical-align: middle;\n",
       "    }\n",
       "\n",
       "    .dataframe tbody tr th {\n",
       "        vertical-align: top;\n",
       "    }\n",
       "\n",
       "    .dataframe thead th {\n",
       "        text-align: right;\n",
       "    }\n",
       "</style>\n",
       "<table border=\"1\" class=\"dataframe\">\n",
       "  <thead>\n",
       "    <tr style=\"text-align: right;\">\n",
       "      <th></th>\n",
       "      <th>population</th>\n",
       "      <th>Hospital</th>\n",
       "      <th>Schools</th>\n",
       "      <th>Density</th>\n",
       "    </tr>\n",
       "  </thead>\n",
       "  <tbody>\n",
       "    <tr>\n",
       "      <th>A</th>\n",
       "      <td>15000</td>\n",
       "      <td>1000</td>\n",
       "      <td>500</td>\n",
       "      <td>1500</td>\n",
       "    </tr>\n",
       "    <tr>\n",
       "      <th>B</th>\n",
       "      <td>13000</td>\n",
       "      <td>500</td>\n",
       "      <td>900</td>\n",
       "      <td>1600</td>\n",
       "    </tr>\n",
       "    <tr>\n",
       "      <th>C</th>\n",
       "      <td>14000</td>\n",
       "      <td>700</td>\n",
       "      <td>800</td>\n",
       "      <td>1700</td>\n",
       "    </tr>\n",
       "  </tbody>\n",
       "</table>\n",
       "</div>"
      ],
      "text/plain": [
       "   population  Hospital  Schools  Density\n",
       "A       15000      1000      500     1500\n",
       "B       13000       500      900     1600\n",
       "C       14000       700      800     1700"
      ]
     },
     "execution_count": 270,
     "metadata": {},
     "output_type": "execute_result"
    }
   ],
   "source": [
    "df12"
   ]
  },
  {
   "cell_type": "code",
   "execution_count": 271,
   "id": "e8380d1b",
   "metadata": {},
   "outputs": [],
   "source": [
    "df12.loc[:,'Race'] =[\"Asian\",\"American\",'European'] ##using loc function"
   ]
  },
  {
   "cell_type": "code",
   "execution_count": 272,
   "id": "3e3d7f32",
   "metadata": {},
   "outputs": [
    {
     "data": {
      "text/html": [
       "<div>\n",
       "<style scoped>\n",
       "    .dataframe tbody tr th:only-of-type {\n",
       "        vertical-align: middle;\n",
       "    }\n",
       "\n",
       "    .dataframe tbody tr th {\n",
       "        vertical-align: top;\n",
       "    }\n",
       "\n",
       "    .dataframe thead th {\n",
       "        text-align: right;\n",
       "    }\n",
       "</style>\n",
       "<table border=\"1\" class=\"dataframe\">\n",
       "  <thead>\n",
       "    <tr style=\"text-align: right;\">\n",
       "      <th></th>\n",
       "      <th>population</th>\n",
       "      <th>Hospital</th>\n",
       "      <th>Schools</th>\n",
       "      <th>Density</th>\n",
       "      <th>Race</th>\n",
       "    </tr>\n",
       "  </thead>\n",
       "  <tbody>\n",
       "    <tr>\n",
       "      <th>A</th>\n",
       "      <td>15000</td>\n",
       "      <td>1000</td>\n",
       "      <td>500</td>\n",
       "      <td>1500</td>\n",
       "      <td>Asian</td>\n",
       "    </tr>\n",
       "    <tr>\n",
       "      <th>B</th>\n",
       "      <td>13000</td>\n",
       "      <td>500</td>\n",
       "      <td>900</td>\n",
       "      <td>1600</td>\n",
       "      <td>American</td>\n",
       "    </tr>\n",
       "    <tr>\n",
       "      <th>C</th>\n",
       "      <td>14000</td>\n",
       "      <td>700</td>\n",
       "      <td>800</td>\n",
       "      <td>1700</td>\n",
       "      <td>European</td>\n",
       "    </tr>\n",
       "  </tbody>\n",
       "</table>\n",
       "</div>"
      ],
      "text/plain": [
       "   population  Hospital  Schools  Density      Race\n",
       "A       15000      1000      500     1500     Asian\n",
       "B       13000       500      900     1600  American\n",
       "C       14000       700      800     1700  European"
      ]
     },
     "execution_count": 272,
     "metadata": {},
     "output_type": "execute_result"
    }
   ],
   "source": [
    "df12"
   ]
  },
  {
   "cell_type": "markdown",
   "id": "9bf4091c",
   "metadata": {},
   "source": [
    "#### Adding modifying a row"
   ]
  },
  {
   "cell_type": "code",
   "execution_count": 273,
   "id": "94c41795",
   "metadata": {},
   "outputs": [],
   "source": [
    "df12.at['D',:]=1200  ## new column with same value"
   ]
  },
  {
   "cell_type": "markdown",
   "id": "1576a40d",
   "metadata": {},
   "source": [
    "df12"
   ]
  },
  {
   "cell_type": "code",
   "execution_count": 278,
   "id": "70a343f9",
   "metadata": {},
   "outputs": [],
   "source": [
    "df12.at['D',:]=[1200,1300,1400,1500,1600]"
   ]
  },
  {
   "cell_type": "code",
   "execution_count": 279,
   "id": "280f6474",
   "metadata": {},
   "outputs": [
    {
     "data": {
      "text/html": [
       "<div>\n",
       "<style scoped>\n",
       "    .dataframe tbody tr th:only-of-type {\n",
       "        vertical-align: middle;\n",
       "    }\n",
       "\n",
       "    .dataframe tbody tr th {\n",
       "        vertical-align: top;\n",
       "    }\n",
       "\n",
       "    .dataframe thead th {\n",
       "        text-align: right;\n",
       "    }\n",
       "</style>\n",
       "<table border=\"1\" class=\"dataframe\">\n",
       "  <thead>\n",
       "    <tr style=\"text-align: right;\">\n",
       "      <th></th>\n",
       "      <th>population</th>\n",
       "      <th>Hospital</th>\n",
       "      <th>Schools</th>\n",
       "      <th>Density</th>\n",
       "      <th>Race</th>\n",
       "    </tr>\n",
       "  </thead>\n",
       "  <tbody>\n",
       "    <tr>\n",
       "      <th>A</th>\n",
       "      <td>15000.0</td>\n",
       "      <td>1000.0</td>\n",
       "      <td>500.0</td>\n",
       "      <td>1500.0</td>\n",
       "      <td>Asian</td>\n",
       "    </tr>\n",
       "    <tr>\n",
       "      <th>B</th>\n",
       "      <td>13000.0</td>\n",
       "      <td>500.0</td>\n",
       "      <td>900.0</td>\n",
       "      <td>1600.0</td>\n",
       "      <td>American</td>\n",
       "    </tr>\n",
       "    <tr>\n",
       "      <th>C</th>\n",
       "      <td>14000.0</td>\n",
       "      <td>700.0</td>\n",
       "      <td>800.0</td>\n",
       "      <td>1700.0</td>\n",
       "      <td>European</td>\n",
       "    </tr>\n",
       "    <tr>\n",
       "      <th>D</th>\n",
       "      <td>1200.0</td>\n",
       "      <td>1300.0</td>\n",
       "      <td>1400.0</td>\n",
       "      <td>1500.0</td>\n",
       "      <td>1600</td>\n",
       "    </tr>\n",
       "  </tbody>\n",
       "</table>\n",
       "</div>"
      ],
      "text/plain": [
       "   population  Hospital  Schools  Density      Race\n",
       "A     15000.0    1000.0    500.0   1500.0     Asian\n",
       "B     13000.0     500.0    900.0   1600.0  American\n",
       "C     14000.0     700.0    800.0   1700.0  European\n",
       "D      1200.0    1300.0   1400.0   1500.0      1600"
      ]
     },
     "execution_count": 279,
     "metadata": {},
     "output_type": "execute_result"
    }
   ],
   "source": [
    "df12"
   ]
  },
  {
   "cell_type": "markdown",
   "id": "405fea11",
   "metadata": {},
   "source": [
    "#### Modifying a cell"
   ]
  },
  {
   "cell_type": "code",
   "execution_count": 281,
   "id": "9efbf02a",
   "metadata": {},
   "outputs": [
    {
     "name": "stderr",
     "output_type": "stream",
     "text": [
      "C:\\Users\\13612\\AppData\\Local\\Temp\\ipykernel_9808\\1057059699.py:1: SettingWithCopyWarning: \n",
      "A value is trying to be set on a copy of a slice from a DataFrame\n",
      "\n",
      "See the caveats in the documentation: https://pandas.pydata.org/pandas-docs/stable/user_guide/indexing.html#returning-a-view-versus-a-copy\n",
      "  df12.population['C'] =23000\n"
     ]
    }
   ],
   "source": [
    "df12.population['C'] =23000"
   ]
  },
  {
   "cell_type": "code",
   "execution_count": 282,
   "id": "8cfdeb8b",
   "metadata": {},
   "outputs": [
    {
     "data": {
      "text/html": [
       "<div>\n",
       "<style scoped>\n",
       "    .dataframe tbody tr th:only-of-type {\n",
       "        vertical-align: middle;\n",
       "    }\n",
       "\n",
       "    .dataframe tbody tr th {\n",
       "        vertical-align: top;\n",
       "    }\n",
       "\n",
       "    .dataframe thead th {\n",
       "        text-align: right;\n",
       "    }\n",
       "</style>\n",
       "<table border=\"1\" class=\"dataframe\">\n",
       "  <thead>\n",
       "    <tr style=\"text-align: right;\">\n",
       "      <th></th>\n",
       "      <th>population</th>\n",
       "      <th>Hospital</th>\n",
       "      <th>Schools</th>\n",
       "      <th>Density</th>\n",
       "      <th>Race</th>\n",
       "    </tr>\n",
       "  </thead>\n",
       "  <tbody>\n",
       "    <tr>\n",
       "      <th>A</th>\n",
       "      <td>15000.0</td>\n",
       "      <td>1000.0</td>\n",
       "      <td>500.0</td>\n",
       "      <td>1500.0</td>\n",
       "      <td>Asian</td>\n",
       "    </tr>\n",
       "    <tr>\n",
       "      <th>B</th>\n",
       "      <td>13000.0</td>\n",
       "      <td>500.0</td>\n",
       "      <td>900.0</td>\n",
       "      <td>1600.0</td>\n",
       "      <td>American</td>\n",
       "    </tr>\n",
       "    <tr>\n",
       "      <th>C</th>\n",
       "      <td>23000.0</td>\n",
       "      <td>700.0</td>\n",
       "      <td>800.0</td>\n",
       "      <td>1700.0</td>\n",
       "      <td>European</td>\n",
       "    </tr>\n",
       "    <tr>\n",
       "      <th>D</th>\n",
       "      <td>1200.0</td>\n",
       "      <td>1300.0</td>\n",
       "      <td>1400.0</td>\n",
       "      <td>1500.0</td>\n",
       "      <td>1600</td>\n",
       "    </tr>\n",
       "  </tbody>\n",
       "</table>\n",
       "</div>"
      ],
      "text/plain": [
       "   population  Hospital  Schools  Density      Race\n",
       "A     15000.0    1000.0    500.0   1500.0     Asian\n",
       "B     13000.0     500.0    900.0   1600.0  American\n",
       "C     23000.0     700.0    800.0   1700.0  European\n",
       "D      1200.0    1300.0   1400.0   1500.0      1600"
      ]
     },
     "execution_count": 282,
     "metadata": {},
     "output_type": "execute_result"
    }
   ],
   "source": [
    "df12"
   ]
  },
  {
   "cell_type": "markdown",
   "id": "f4a71d78",
   "metadata": {},
   "source": [
    "#### Deleting /Renaming column or row"
   ]
  },
  {
   "cell_type": "code",
   "execution_count": 283,
   "id": "90ef1a55",
   "metadata": {},
   "outputs": [],
   "source": [
    "del df12['Density']"
   ]
  },
  {
   "cell_type": "code",
   "execution_count": 284,
   "id": "7c8e12e0",
   "metadata": {},
   "outputs": [
    {
     "data": {
      "text/html": [
       "<div>\n",
       "<style scoped>\n",
       "    .dataframe tbody tr th:only-of-type {\n",
       "        vertical-align: middle;\n",
       "    }\n",
       "\n",
       "    .dataframe tbody tr th {\n",
       "        vertical-align: top;\n",
       "    }\n",
       "\n",
       "    .dataframe thead th {\n",
       "        text-align: right;\n",
       "    }\n",
       "</style>\n",
       "<table border=\"1\" class=\"dataframe\">\n",
       "  <thead>\n",
       "    <tr style=\"text-align: right;\">\n",
       "      <th></th>\n",
       "      <th>population</th>\n",
       "      <th>Hospital</th>\n",
       "      <th>Schools</th>\n",
       "      <th>Race</th>\n",
       "    </tr>\n",
       "  </thead>\n",
       "  <tbody>\n",
       "    <tr>\n",
       "      <th>A</th>\n",
       "      <td>15000.0</td>\n",
       "      <td>1000.0</td>\n",
       "      <td>500.0</td>\n",
       "      <td>Asian</td>\n",
       "    </tr>\n",
       "    <tr>\n",
       "      <th>B</th>\n",
       "      <td>13000.0</td>\n",
       "      <td>500.0</td>\n",
       "      <td>900.0</td>\n",
       "      <td>American</td>\n",
       "    </tr>\n",
       "    <tr>\n",
       "      <th>C</th>\n",
       "      <td>23000.0</td>\n",
       "      <td>700.0</td>\n",
       "      <td>800.0</td>\n",
       "      <td>European</td>\n",
       "    </tr>\n",
       "    <tr>\n",
       "      <th>D</th>\n",
       "      <td>1200.0</td>\n",
       "      <td>1300.0</td>\n",
       "      <td>1400.0</td>\n",
       "      <td>1600</td>\n",
       "    </tr>\n",
       "  </tbody>\n",
       "</table>\n",
       "</div>"
      ],
      "text/plain": [
       "   population  Hospital  Schools      Race\n",
       "A     15000.0    1000.0    500.0     Asian\n",
       "B     13000.0     500.0    900.0  American\n",
       "C     23000.0     700.0    800.0  European\n",
       "D      1200.0    1300.0   1400.0      1600"
      ]
     },
     "execution_count": 284,
     "metadata": {},
     "output_type": "execute_result"
    }
   ],
   "source": [
    "df12"
   ]
  },
  {
   "cell_type": "code",
   "execution_count": 285,
   "id": "03c1ae50",
   "metadata": {},
   "outputs": [
    {
     "data": {
      "text/html": [
       "<div>\n",
       "<style scoped>\n",
       "    .dataframe tbody tr th:only-of-type {\n",
       "        vertical-align: middle;\n",
       "    }\n",
       "\n",
       "    .dataframe tbody tr th {\n",
       "        vertical-align: top;\n",
       "    }\n",
       "\n",
       "    .dataframe thead th {\n",
       "        text-align: right;\n",
       "    }\n",
       "</style>\n",
       "<table border=\"1\" class=\"dataframe\">\n",
       "  <thead>\n",
       "    <tr style=\"text-align: right;\">\n",
       "      <th></th>\n",
       "      <th>population</th>\n",
       "      <th>Schools</th>\n",
       "    </tr>\n",
       "  </thead>\n",
       "  <tbody>\n",
       "    <tr>\n",
       "      <th>A</th>\n",
       "      <td>15000.0</td>\n",
       "      <td>500.0</td>\n",
       "    </tr>\n",
       "    <tr>\n",
       "      <th>B</th>\n",
       "      <td>13000.0</td>\n",
       "      <td>900.0</td>\n",
       "    </tr>\n",
       "    <tr>\n",
       "      <th>C</th>\n",
       "      <td>23000.0</td>\n",
       "      <td>800.0</td>\n",
       "    </tr>\n",
       "    <tr>\n",
       "      <th>D</th>\n",
       "      <td>1200.0</td>\n",
       "      <td>1400.0</td>\n",
       "    </tr>\n",
       "  </tbody>\n",
       "</table>\n",
       "</div>"
      ],
      "text/plain": [
       "   population  Schools\n",
       "A     15000.0    500.0\n",
       "B     13000.0    900.0\n",
       "C     23000.0    800.0\n",
       "D      1200.0   1400.0"
      ]
     },
     "execution_count": 285,
     "metadata": {},
     "output_type": "execute_result"
    }
   ],
   "source": [
    "## using drop function\n",
    "df12.drop(['Race','Hospital'], axis=1) ## axis =1 indate column"
   ]
  },
  {
   "cell_type": "code",
   "execution_count": 290,
   "id": "1374af36",
   "metadata": {},
   "outputs": [
    {
     "data": {
      "text/html": [
       "<div>\n",
       "<style scoped>\n",
       "    .dataframe tbody tr th:only-of-type {\n",
       "        vertical-align: middle;\n",
       "    }\n",
       "\n",
       "    .dataframe tbody tr th {\n",
       "        vertical-align: top;\n",
       "    }\n",
       "\n",
       "    .dataframe thead th {\n",
       "        text-align: right;\n",
       "    }\n",
       "</style>\n",
       "<table border=\"1\" class=\"dataframe\">\n",
       "  <thead>\n",
       "    <tr style=\"text-align: right;\">\n",
       "      <th></th>\n",
       "      <th>population</th>\n",
       "      <th>Hospital</th>\n",
       "      <th>Schools</th>\n",
       "      <th>Race</th>\n",
       "    </tr>\n",
       "  </thead>\n",
       "  <tbody>\n",
       "    <tr>\n",
       "      <th>A</th>\n",
       "      <td>15000.0</td>\n",
       "      <td>1000.0</td>\n",
       "      <td>500.0</td>\n",
       "      <td>Asian</td>\n",
       "    </tr>\n",
       "    <tr>\n",
       "      <th>B</th>\n",
       "      <td>13000.0</td>\n",
       "      <td>500.0</td>\n",
       "      <td>900.0</td>\n",
       "      <td>American</td>\n",
       "    </tr>\n",
       "    <tr>\n",
       "      <th>C</th>\n",
       "      <td>23000.0</td>\n",
       "      <td>700.0</td>\n",
       "      <td>800.0</td>\n",
       "      <td>European</td>\n",
       "    </tr>\n",
       "    <tr>\n",
       "      <th>D</th>\n",
       "      <td>1200.0</td>\n",
       "      <td>1300.0</td>\n",
       "      <td>1400.0</td>\n",
       "      <td>1600</td>\n",
       "    </tr>\n",
       "  </tbody>\n",
       "</table>\n",
       "</div>"
      ],
      "text/plain": [
       "   population  Hospital  Schools      Race\n",
       "A     15000.0    1000.0    500.0     Asian\n",
       "B     13000.0     500.0    900.0  American\n",
       "C     23000.0     700.0    800.0  European\n",
       "D      1200.0    1300.0   1400.0      1600"
      ]
     },
     "execution_count": 290,
     "metadata": {},
     "output_type": "execute_result"
    }
   ],
   "source": [
    "## to delete row\n",
    "df12"
   ]
  },
  {
   "cell_type": "code",
   "execution_count": 297,
   "id": "f786868b",
   "metadata": {},
   "outputs": [
    {
     "data": {
      "text/html": [
       "<div>\n",
       "<style scoped>\n",
       "    .dataframe tbody tr th:only-of-type {\n",
       "        vertical-align: middle;\n",
       "    }\n",
       "\n",
       "    .dataframe tbody tr th {\n",
       "        vertical-align: top;\n",
       "    }\n",
       "\n",
       "    .dataframe thead th {\n",
       "        text-align: right;\n",
       "    }\n",
       "</style>\n",
       "<table border=\"1\" class=\"dataframe\">\n",
       "  <thead>\n",
       "    <tr style=\"text-align: right;\">\n",
       "      <th></th>\n",
       "      <th>population</th>\n",
       "      <th>Hospital</th>\n",
       "      <th>Schools</th>\n",
       "      <th>Race</th>\n",
       "    </tr>\n",
       "  </thead>\n",
       "  <tbody>\n",
       "    <tr>\n",
       "      <th>G</th>\n",
       "      <td>15000.0</td>\n",
       "      <td>1000.0</td>\n",
       "      <td>500.0</td>\n",
       "      <td>Asian</td>\n",
       "    </tr>\n",
       "    <tr>\n",
       "      <th>H</th>\n",
       "      <td>13000.0</td>\n",
       "      <td>500.0</td>\n",
       "      <td>900.0</td>\n",
       "      <td>American</td>\n",
       "    </tr>\n",
       "    <tr>\n",
       "      <th>C</th>\n",
       "      <td>23000.0</td>\n",
       "      <td>700.0</td>\n",
       "      <td>800.0</td>\n",
       "      <td>European</td>\n",
       "    </tr>\n",
       "    <tr>\n",
       "      <th>D</th>\n",
       "      <td>1200.0</td>\n",
       "      <td>1300.0</td>\n",
       "      <td>1400.0</td>\n",
       "      <td>1600</td>\n",
       "    </tr>\n",
       "  </tbody>\n",
       "</table>\n",
       "</div>"
      ],
      "text/plain": [
       "   population  Hospital  Schools      Race\n",
       "G     15000.0    1000.0    500.0     Asian\n",
       "H     13000.0     500.0    900.0  American\n",
       "C     23000.0     700.0    800.0  European\n",
       "D      1200.0    1300.0   1400.0      1600"
      ]
     },
     "execution_count": 297,
     "metadata": {},
     "output_type": "execute_result"
    }
   ],
   "source": [
    "## Rename a row and column\n",
    "df12.rename(index={\"A\":\"G\",\"B\":\"H\"})"
   ]
  },
  {
   "cell_type": "code",
   "execution_count": 298,
   "id": "9022ab5c",
   "metadata": {},
   "outputs": [],
   "source": [
    "## to make change permanently\n",
    "df12.rename(index={\"A\":\"G\",\"B\":\"H\"},inplace='True')"
   ]
  },
  {
   "cell_type": "code",
   "execution_count": 299,
   "id": "34c871d3",
   "metadata": {},
   "outputs": [
    {
     "data": {
      "text/html": [
       "<div>\n",
       "<style scoped>\n",
       "    .dataframe tbody tr th:only-of-type {\n",
       "        vertical-align: middle;\n",
       "    }\n",
       "\n",
       "    .dataframe tbody tr th {\n",
       "        vertical-align: top;\n",
       "    }\n",
       "\n",
       "    .dataframe thead th {\n",
       "        text-align: right;\n",
       "    }\n",
       "</style>\n",
       "<table border=\"1\" class=\"dataframe\">\n",
       "  <thead>\n",
       "    <tr style=\"text-align: right;\">\n",
       "      <th></th>\n",
       "      <th>population</th>\n",
       "      <th>Hospital</th>\n",
       "      <th>Schools</th>\n",
       "      <th>Race</th>\n",
       "    </tr>\n",
       "  </thead>\n",
       "  <tbody>\n",
       "    <tr>\n",
       "      <th>G</th>\n",
       "      <td>15000.0</td>\n",
       "      <td>1000.0</td>\n",
       "      <td>500.0</td>\n",
       "      <td>Asian</td>\n",
       "    </tr>\n",
       "    <tr>\n",
       "      <th>H</th>\n",
       "      <td>13000.0</td>\n",
       "      <td>500.0</td>\n",
       "      <td>900.0</td>\n",
       "      <td>American</td>\n",
       "    </tr>\n",
       "    <tr>\n",
       "      <th>C</th>\n",
       "      <td>23000.0</td>\n",
       "      <td>700.0</td>\n",
       "      <td>800.0</td>\n",
       "      <td>European</td>\n",
       "    </tr>\n",
       "    <tr>\n",
       "      <th>D</th>\n",
       "      <td>1200.0</td>\n",
       "      <td>1300.0</td>\n",
       "      <td>1400.0</td>\n",
       "      <td>1600</td>\n",
       "    </tr>\n",
       "  </tbody>\n",
       "</table>\n",
       "</div>"
      ],
      "text/plain": [
       "   population  Hospital  Schools      Race\n",
       "G     15000.0    1000.0    500.0     Asian\n",
       "H     13000.0     500.0    900.0  American\n",
       "C     23000.0     700.0    800.0  European\n",
       "D      1200.0    1300.0   1400.0      1600"
      ]
     },
     "execution_count": 299,
     "metadata": {},
     "output_type": "execute_result"
    }
   ],
   "source": [
    "df12"
   ]
  },
  {
   "cell_type": "code",
   "execution_count": 304,
   "id": "f75857f8",
   "metadata": {},
   "outputs": [
    {
     "data": {
      "text/html": [
       "<div>\n",
       "<style scoped>\n",
       "    .dataframe tbody tr th:only-of-type {\n",
       "        vertical-align: middle;\n",
       "    }\n",
       "\n",
       "    .dataframe tbody tr th {\n",
       "        vertical-align: top;\n",
       "    }\n",
       "\n",
       "    .dataframe thead th {\n",
       "        text-align: right;\n",
       "    }\n",
       "</style>\n",
       "<table border=\"1\" class=\"dataframe\">\n",
       "  <thead>\n",
       "    <tr style=\"text-align: right;\">\n",
       "      <th></th>\n",
       "      <th>popu</th>\n",
       "      <th>Hospital</th>\n",
       "      <th>Schools</th>\n",
       "      <th>Race</th>\n",
       "    </tr>\n",
       "  </thead>\n",
       "  <tbody>\n",
       "    <tr>\n",
       "      <th>G</th>\n",
       "      <td>15000.0</td>\n",
       "      <td>1000.0</td>\n",
       "      <td>500.0</td>\n",
       "      <td>Asian</td>\n",
       "    </tr>\n",
       "    <tr>\n",
       "      <th>H</th>\n",
       "      <td>13000.0</td>\n",
       "      <td>500.0</td>\n",
       "      <td>900.0</td>\n",
       "      <td>American</td>\n",
       "    </tr>\n",
       "    <tr>\n",
       "      <th>C</th>\n",
       "      <td>23000.0</td>\n",
       "      <td>700.0</td>\n",
       "      <td>800.0</td>\n",
       "      <td>European</td>\n",
       "    </tr>\n",
       "    <tr>\n",
       "      <th>D</th>\n",
       "      <td>1200.0</td>\n",
       "      <td>1300.0</td>\n",
       "      <td>1400.0</td>\n",
       "      <td>1600</td>\n",
       "    </tr>\n",
       "  </tbody>\n",
       "</table>\n",
       "</div>"
      ],
      "text/plain": [
       "      popu  Hospital  Schools      Race\n",
       "G  15000.0    1000.0    500.0     Asian\n",
       "H  13000.0     500.0    900.0  American\n",
       "C  23000.0     700.0    800.0  European\n",
       "D   1200.0    1300.0   1400.0      1600"
      ]
     },
     "execution_count": 304,
     "metadata": {},
     "output_type": "execute_result"
    }
   ],
   "source": [
    "# to rename column\n",
    "df12.rename(columns = {'population':'popu'})"
   ]
  },
  {
   "cell_type": "code",
   "execution_count": 306,
   "id": "e6ac4015",
   "metadata": {},
   "outputs": [
    {
     "data": {
      "text/html": [
       "<div>\n",
       "<style scoped>\n",
       "    .dataframe tbody tr th:only-of-type {\n",
       "        vertical-align: middle;\n",
       "    }\n",
       "\n",
       "    .dataframe tbody tr th {\n",
       "        vertical-align: top;\n",
       "    }\n",
       "\n",
       "    .dataframe thead th {\n",
       "        text-align: right;\n",
       "    }\n",
       "</style>\n",
       "<table border=\"1\" class=\"dataframe\">\n",
       "  <thead>\n",
       "    <tr style=\"text-align: right;\">\n",
       "      <th></th>\n",
       "      <th>population</th>\n",
       "      <th>Hospital</th>\n",
       "      <th>Schools</th>\n",
       "      <th>Race</th>\n",
       "    </tr>\n",
       "  </thead>\n",
       "  <tbody>\n",
       "    <tr>\n",
       "      <th>A</th>\n",
       "      <td>15000.0</td>\n",
       "      <td>1000.0</td>\n",
       "      <td>500.0</td>\n",
       "      <td>Asian</td>\n",
       "    </tr>\n",
       "    <tr>\n",
       "      <th>H</th>\n",
       "      <td>13000.0</td>\n",
       "      <td>500.0</td>\n",
       "      <td>900.0</td>\n",
       "      <td>American</td>\n",
       "    </tr>\n",
       "    <tr>\n",
       "      <th>C</th>\n",
       "      <td>23000.0</td>\n",
       "      <td>700.0</td>\n",
       "      <td>800.0</td>\n",
       "      <td>European</td>\n",
       "    </tr>\n",
       "    <tr>\n",
       "      <th>D</th>\n",
       "      <td>1200.0</td>\n",
       "      <td>1300.0</td>\n",
       "      <td>1400.0</td>\n",
       "      <td>1600</td>\n",
       "    </tr>\n",
       "  </tbody>\n",
       "</table>\n",
       "</div>"
      ],
      "text/plain": [
       "   population  Hospital  Schools      Race\n",
       "A     15000.0    1000.0    500.0     Asian\n",
       "H     13000.0     500.0    900.0  American\n",
       "C     23000.0     700.0    800.0  European\n",
       "D      1200.0    1300.0   1400.0      1600"
      ]
     },
     "execution_count": 306,
     "metadata": {},
     "output_type": "execute_result"
    }
   ],
   "source": [
    "df12.rename(index = {\"G\":\"A\"})"
   ]
  },
  {
   "cell_type": "code",
   "execution_count": 307,
   "id": "cf4415f4",
   "metadata": {},
   "outputs": [
    {
     "data": {
      "text/html": [
       "<div>\n",
       "<style scoped>\n",
       "    .dataframe tbody tr th:only-of-type {\n",
       "        vertical-align: middle;\n",
       "    }\n",
       "\n",
       "    .dataframe tbody tr th {\n",
       "        vertical-align: top;\n",
       "    }\n",
       "\n",
       "    .dataframe thead th {\n",
       "        text-align: right;\n",
       "    }\n",
       "</style>\n",
       "<table border=\"1\" class=\"dataframe\">\n",
       "  <thead>\n",
       "    <tr style=\"text-align: right;\">\n",
       "      <th></th>\n",
       "      <th>population</th>\n",
       "      <th>Hospital</th>\n",
       "      <th>Schools</th>\n",
       "      <th>Race</th>\n",
       "    </tr>\n",
       "  </thead>\n",
       "  <tbody>\n",
       "    <tr>\n",
       "      <th>G</th>\n",
       "      <td>15000.0</td>\n",
       "      <td>1000.0</td>\n",
       "      <td>500.0</td>\n",
       "      <td>Asian</td>\n",
       "    </tr>\n",
       "    <tr>\n",
       "      <th>H</th>\n",
       "      <td>13000.0</td>\n",
       "      <td>500.0</td>\n",
       "      <td>900.0</td>\n",
       "      <td>American</td>\n",
       "    </tr>\n",
       "    <tr>\n",
       "      <th>C</th>\n",
       "      <td>23000.0</td>\n",
       "      <td>700.0</td>\n",
       "      <td>800.0</td>\n",
       "      <td>European</td>\n",
       "    </tr>\n",
       "    <tr>\n",
       "      <th>D</th>\n",
       "      <td>1200.0</td>\n",
       "      <td>1300.0</td>\n",
       "      <td>1400.0</td>\n",
       "      <td>1600</td>\n",
       "    </tr>\n",
       "  </tbody>\n",
       "</table>\n",
       "</div>"
      ],
      "text/plain": [
       "   population  Hospital  Schools      Race\n",
       "G     15000.0    1000.0    500.0     Asian\n",
       "H     13000.0     500.0    900.0  American\n",
       "C     23000.0     700.0    800.0  European\n",
       "D      1200.0    1300.0   1400.0      1600"
      ]
     },
     "execution_count": 307,
     "metadata": {},
     "output_type": "execute_result"
    }
   ],
   "source": [
    "df12"
   ]
  },
  {
   "cell_type": "code",
   "execution_count": 308,
   "id": "4019cd02",
   "metadata": {},
   "outputs": [],
   "source": [
    "##Boolean concept\n",
    "## 0=False , 1 =True"
   ]
  },
  {
   "cell_type": "markdown",
   "id": "0fdcecd8",
   "metadata": {},
   "source": [
    "## iterrows an iteritems Function"
   ]
  },
  {
   "cell_type": "markdown",
   "id": "26aafd04",
   "metadata": {},
   "source": [
    "When we need to go through each element of a DataFrame ,we can do it using two Functions\n",
    "\n",
    "iterrows() : iterate over row wise\n",
    "\n",
    "iteritems() : iterates over column wise"
   ]
  },
  {
   "cell_type": "code",
   "execution_count": 309,
   "id": "335bd581",
   "metadata": {},
   "outputs": [],
   "source": [
    "sales ={'year_01':{'Qtr1':5000,'Qtr2':6000, 'Qtr3':5500,'Qtr4': 6000},\n",
    "        'year_02':{'Qtr1':5100,'Qtr2':6200, 'Qtr3':5800,'Qtr4': 5400},\n",
    "       'year_03':{'Qtr1':5200,'Qtr2':6300, 'Qtr3':5600,'Qtr4': 6300},\n",
    "       'year_04':{'Qtr1':4500,'Qtr2':5600, 'Qtr3':6000,'Qtr4': 5900}}"
   ]
  },
  {
   "cell_type": "code",
   "execution_count": 310,
   "id": "c93892b8",
   "metadata": {},
   "outputs": [],
   "source": [
    "df_sales =pd.DataFrame(sales)"
   ]
  },
  {
   "cell_type": "code",
   "execution_count": 311,
   "id": "3479cd68",
   "metadata": {},
   "outputs": [
    {
     "data": {
      "text/html": [
       "<div>\n",
       "<style scoped>\n",
       "    .dataframe tbody tr th:only-of-type {\n",
       "        vertical-align: middle;\n",
       "    }\n",
       "\n",
       "    .dataframe tbody tr th {\n",
       "        vertical-align: top;\n",
       "    }\n",
       "\n",
       "    .dataframe thead th {\n",
       "        text-align: right;\n",
       "    }\n",
       "</style>\n",
       "<table border=\"1\" class=\"dataframe\">\n",
       "  <thead>\n",
       "    <tr style=\"text-align: right;\">\n",
       "      <th></th>\n",
       "      <th>year_01</th>\n",
       "      <th>year_02</th>\n",
       "      <th>year_03</th>\n",
       "      <th>year_04</th>\n",
       "    </tr>\n",
       "  </thead>\n",
       "  <tbody>\n",
       "    <tr>\n",
       "      <th>Qtr1</th>\n",
       "      <td>5000</td>\n",
       "      <td>5100</td>\n",
       "      <td>5200</td>\n",
       "      <td>4500</td>\n",
       "    </tr>\n",
       "    <tr>\n",
       "      <th>Qtr2</th>\n",
       "      <td>6000</td>\n",
       "      <td>6200</td>\n",
       "      <td>6300</td>\n",
       "      <td>5600</td>\n",
       "    </tr>\n",
       "    <tr>\n",
       "      <th>Qtr3</th>\n",
       "      <td>5500</td>\n",
       "      <td>5800</td>\n",
       "      <td>5600</td>\n",
       "      <td>6000</td>\n",
       "    </tr>\n",
       "    <tr>\n",
       "      <th>Qtr4</th>\n",
       "      <td>6000</td>\n",
       "      <td>5400</td>\n",
       "      <td>6300</td>\n",
       "      <td>5900</td>\n",
       "    </tr>\n",
       "  </tbody>\n",
       "</table>\n",
       "</div>"
      ],
      "text/plain": [
       "      year_01  year_02  year_03  year_04\n",
       "Qtr1     5000     5100     5200     4500\n",
       "Qtr2     6000     6200     6300     5600\n",
       "Qtr3     5500     5800     5600     6000\n",
       "Qtr4     6000     5400     6300     5900"
      ]
     },
     "execution_count": 311,
     "metadata": {},
     "output_type": "execute_result"
    }
   ],
   "source": [
    "df_sales"
   ]
  },
  {
   "cell_type": "code",
   "execution_count": 314,
   "id": "dc45d159",
   "metadata": {},
   "outputs": [
    {
     "name": "stdout",
     "output_type": "stream",
     "text": [
      "Row Index :  Qtr1 \n",
      "Value =\n",
      " year_01    5000\n",
      "year_02    5100\n",
      "year_03    5200\n",
      "year_04    4500\n",
      "Name: Qtr1, dtype: int64\n",
      "Row Index :  Qtr2 \n",
      "Value =\n",
      " year_01    6000\n",
      "year_02    6200\n",
      "year_03    6300\n",
      "year_04    5600\n",
      "Name: Qtr2, dtype: int64\n",
      "Row Index :  Qtr3 \n",
      "Value =\n",
      " year_01    5500\n",
      "year_02    5800\n",
      "year_03    5600\n",
      "year_04    6000\n",
      "Name: Qtr3, dtype: int64\n",
      "Row Index :  Qtr4 \n",
      "Value =\n",
      " year_01    6000\n",
      "year_02    5400\n",
      "year_03    6300\n",
      "year_04    5900\n",
      "Name: Qtr4, dtype: int64\n"
     ]
    }
   ],
   "source": [
    "for (a,b) in df_sales.iterrows():\n",
    "    print('Row Index : ',a,'\\nValue =\\n',b)"
   ]
  },
  {
   "cell_type": "code",
   "execution_count": 316,
   "id": "0328611f",
   "metadata": {},
   "outputs": [
    {
     "name": "stdout",
     "output_type": "stream",
     "text": [
      "column Index :  year_01 \n",
      "Value =\n",
      "\n",
      "5000\n",
      "6000\n",
      "5500\n",
      "6000\n",
      "column Index :  year_02 \n",
      "Value =\n",
      "\n",
      "5100\n",
      "6200\n",
      "5800\n",
      "5400\n",
      "column Index :  year_03 \n",
      "Value =\n",
      "\n",
      "5200\n",
      "6300\n",
      "5600\n",
      "6300\n",
      "column Index :  year_04 \n",
      "Value =\n",
      "\n",
      "4500\n",
      "5600\n",
      "6000\n",
      "5900\n"
     ]
    }
   ],
   "source": [
    "for (a,b) in df_sales.iteritems():\n",
    "    print('column Index : ',a,'\\nValue =\\n')\n",
    "    for i in b:\n",
    "        print(i)"
   ]
  },
  {
   "cell_type": "code",
   "execution_count": 317,
   "id": "68044019",
   "metadata": {},
   "outputs": [],
   "source": [
    "## write a program to print the Dataframe df, one row at a time."
   ]
  },
  {
   "cell_type": "code",
   "execution_count": 318,
   "id": "7a50bc3f",
   "metadata": {},
   "outputs": [],
   "source": [
    "data ={'Name':['Ram','Sam','Jadu','Madu'],'Marks':[80,90,60,95]}"
   ]
  },
  {
   "cell_type": "code",
   "execution_count": 319,
   "id": "eaa1457c",
   "metadata": {},
   "outputs": [],
   "source": [
    "dfd = pd.DataFrame(data)"
   ]
  },
  {
   "cell_type": "code",
   "execution_count": 320,
   "id": "111e661b",
   "metadata": {},
   "outputs": [
    {
     "data": {
      "text/html": [
       "<div>\n",
       "<style scoped>\n",
       "    .dataframe tbody tr th:only-of-type {\n",
       "        vertical-align: middle;\n",
       "    }\n",
       "\n",
       "    .dataframe tbody tr th {\n",
       "        vertical-align: top;\n",
       "    }\n",
       "\n",
       "    .dataframe thead th {\n",
       "        text-align: right;\n",
       "    }\n",
       "</style>\n",
       "<table border=\"1\" class=\"dataframe\">\n",
       "  <thead>\n",
       "    <tr style=\"text-align: right;\">\n",
       "      <th></th>\n",
       "      <th>Name</th>\n",
       "      <th>Marks</th>\n",
       "    </tr>\n",
       "  </thead>\n",
       "  <tbody>\n",
       "    <tr>\n",
       "      <th>0</th>\n",
       "      <td>Ram</td>\n",
       "      <td>80</td>\n",
       "    </tr>\n",
       "    <tr>\n",
       "      <th>1</th>\n",
       "      <td>Sam</td>\n",
       "      <td>90</td>\n",
       "    </tr>\n",
       "    <tr>\n",
       "      <th>2</th>\n",
       "      <td>Jadu</td>\n",
       "      <td>60</td>\n",
       "    </tr>\n",
       "    <tr>\n",
       "      <th>3</th>\n",
       "      <td>Madu</td>\n",
       "      <td>95</td>\n",
       "    </tr>\n",
       "  </tbody>\n",
       "</table>\n",
       "</div>"
      ],
      "text/plain": [
       "   Name  Marks\n",
       "0   Ram     80\n",
       "1   Sam     90\n",
       "2  Jadu     60\n",
       "3  Madu     95"
      ]
     },
     "execution_count": 320,
     "metadata": {},
     "output_type": "execute_result"
    }
   ],
   "source": [
    "dfd"
   ]
  },
  {
   "cell_type": "code",
   "execution_count": 323,
   "id": "c6de2799",
   "metadata": {},
   "outputs": [
    {
     "name": "stdout",
     "output_type": "stream",
     "text": [
      "Name\tMarks\n",
      "______________\n",
      "Name     Ram\n",
      "Marks     80\n",
      "Name: 0, dtype: object\n",
      "Name     Sam\n",
      "Marks     90\n",
      "Name: 1, dtype: object\n",
      "Name     Jadu\n",
      "Marks      60\n",
      "Name: 2, dtype: object\n",
      "Name     Madu\n",
      "Marks      95\n",
      "Name: 3, dtype: object\n",
      "___________________\n"
     ]
    }
   ],
   "source": [
    "print(\"Name\\tMarks\")\n",
    "print(\"______________\")\n",
    "for i,j in dfd.iterrows():\n",
    "    print(j)\n",
    "print(\"___________________\")"
   ]
  },
  {
   "cell_type": "code",
   "execution_count": 324,
   "id": "d77d58b7",
   "metadata": {},
   "outputs": [],
   "source": [
    "## write a program to print DataFrame ,one column at a time"
   ]
  },
  {
   "cell_type": "code",
   "execution_count": 325,
   "id": "b0f50f1f",
   "metadata": {},
   "outputs": [
    {
     "data": {
      "text/html": [
       "<div>\n",
       "<style scoped>\n",
       "    .dataframe tbody tr th:only-of-type {\n",
       "        vertical-align: middle;\n",
       "    }\n",
       "\n",
       "    .dataframe tbody tr th {\n",
       "        vertical-align: top;\n",
       "    }\n",
       "\n",
       "    .dataframe thead th {\n",
       "        text-align: right;\n",
       "    }\n",
       "</style>\n",
       "<table border=\"1\" class=\"dataframe\">\n",
       "  <thead>\n",
       "    <tr style=\"text-align: right;\">\n",
       "      <th></th>\n",
       "      <th>Name</th>\n",
       "      <th>Marks</th>\n",
       "    </tr>\n",
       "  </thead>\n",
       "  <tbody>\n",
       "    <tr>\n",
       "      <th>0</th>\n",
       "      <td>Ram</td>\n",
       "      <td>80</td>\n",
       "    </tr>\n",
       "    <tr>\n",
       "      <th>1</th>\n",
       "      <td>Sam</td>\n",
       "      <td>90</td>\n",
       "    </tr>\n",
       "    <tr>\n",
       "      <th>2</th>\n",
       "      <td>Jadu</td>\n",
       "      <td>60</td>\n",
       "    </tr>\n",
       "    <tr>\n",
       "      <th>3</th>\n",
       "      <td>Madu</td>\n",
       "      <td>95</td>\n",
       "    </tr>\n",
       "  </tbody>\n",
       "</table>\n",
       "</div>"
      ],
      "text/plain": [
       "   Name  Marks\n",
       "0   Ram     80\n",
       "1   Sam     90\n",
       "2  Jadu     60\n",
       "3  Madu     95"
      ]
     },
     "execution_count": 325,
     "metadata": {},
     "output_type": "execute_result"
    }
   ],
   "source": [
    "dfd"
   ]
  },
  {
   "cell_type": "code",
   "execution_count": 326,
   "id": "e39a0776",
   "metadata": {},
   "outputs": [
    {
     "name": "stdout",
     "output_type": "stream",
     "text": [
      "0     Ram\n",
      "1     Sam\n",
      "2    Jadu\n",
      "3    Madu\n",
      "Name: Name, dtype: object\n",
      "0    80\n",
      "1    90\n",
      "2    60\n",
      "3    95\n",
      "Name: Marks, dtype: int64\n"
     ]
    }
   ],
   "source": [
    "for i,j in dfd.iteritems():\n",
    "    print(j)"
   ]
  },
  {
   "cell_type": "code",
   "execution_count": 327,
   "id": "bd3ec04e",
   "metadata": {},
   "outputs": [],
   "source": [
    "## we can also print individual column for extracted row using iterrows by using rowSeries"
   ]
  },
  {
   "cell_type": "code",
   "execution_count": 328,
   "id": "dae6fed8",
   "metadata": {},
   "outputs": [
    {
     "data": {
      "text/html": [
       "<div>\n",
       "<style scoped>\n",
       "    .dataframe tbody tr th:only-of-type {\n",
       "        vertical-align: middle;\n",
       "    }\n",
       "\n",
       "    .dataframe tbody tr th {\n",
       "        vertical-align: top;\n",
       "    }\n",
       "\n",
       "    .dataframe thead th {\n",
       "        text-align: right;\n",
       "    }\n",
       "</style>\n",
       "<table border=\"1\" class=\"dataframe\">\n",
       "  <thead>\n",
       "    <tr style=\"text-align: right;\">\n",
       "      <th></th>\n",
       "      <th>Name</th>\n",
       "      <th>Marks</th>\n",
       "    </tr>\n",
       "  </thead>\n",
       "  <tbody>\n",
       "    <tr>\n",
       "      <th>0</th>\n",
       "      <td>Ram</td>\n",
       "      <td>80</td>\n",
       "    </tr>\n",
       "    <tr>\n",
       "      <th>1</th>\n",
       "      <td>Sam</td>\n",
       "      <td>90</td>\n",
       "    </tr>\n",
       "    <tr>\n",
       "      <th>2</th>\n",
       "      <td>Jadu</td>\n",
       "      <td>60</td>\n",
       "    </tr>\n",
       "    <tr>\n",
       "      <th>3</th>\n",
       "      <td>Madu</td>\n",
       "      <td>95</td>\n",
       "    </tr>\n",
       "  </tbody>\n",
       "</table>\n",
       "</div>"
      ],
      "text/plain": [
       "   Name  Marks\n",
       "0   Ram     80\n",
       "1   Sam     90\n",
       "2  Jadu     60\n",
       "3  Madu     95"
      ]
     },
     "execution_count": 328,
     "metadata": {},
     "output_type": "execute_result"
    }
   ],
   "source": [
    "dfd"
   ]
  },
  {
   "cell_type": "code",
   "execution_count": 338,
   "id": "48f2f597",
   "metadata": {},
   "outputs": [],
   "source": [
    "d1 ={'Name':['Ram','Sam','Jadu','Madu'],'Marks':[80,90,60,95]}"
   ]
  },
  {
   "cell_type": "code",
   "execution_count": 339,
   "id": "8d34ee46",
   "metadata": {},
   "outputs": [],
   "source": [
    "df =pd.DataFrame(d1)"
   ]
  },
  {
   "cell_type": "code",
   "execution_count": 340,
   "id": "b42b6de9",
   "metadata": {},
   "outputs": [
    {
     "data": {
      "text/html": [
       "<div>\n",
       "<style scoped>\n",
       "    .dataframe tbody tr th:only-of-type {\n",
       "        vertical-align: middle;\n",
       "    }\n",
       "\n",
       "    .dataframe tbody tr th {\n",
       "        vertical-align: top;\n",
       "    }\n",
       "\n",
       "    .dataframe thead th {\n",
       "        text-align: right;\n",
       "    }\n",
       "</style>\n",
       "<table border=\"1\" class=\"dataframe\">\n",
       "  <thead>\n",
       "    <tr style=\"text-align: right;\">\n",
       "      <th></th>\n",
       "      <th>Name</th>\n",
       "      <th>Marks</th>\n",
       "    </tr>\n",
       "  </thead>\n",
       "  <tbody>\n",
       "    <tr>\n",
       "      <th>0</th>\n",
       "      <td>Ram</td>\n",
       "      <td>80</td>\n",
       "    </tr>\n",
       "    <tr>\n",
       "      <th>1</th>\n",
       "      <td>Sam</td>\n",
       "      <td>90</td>\n",
       "    </tr>\n",
       "    <tr>\n",
       "      <th>2</th>\n",
       "      <td>Jadu</td>\n",
       "      <td>60</td>\n",
       "    </tr>\n",
       "    <tr>\n",
       "      <th>3</th>\n",
       "      <td>Madu</td>\n",
       "      <td>95</td>\n",
       "    </tr>\n",
       "  </tbody>\n",
       "</table>\n",
       "</div>"
      ],
      "text/plain": [
       "   Name  Marks\n",
       "0   Ram     80\n",
       "1   Sam     90\n",
       "2  Jadu     60\n",
       "3  Madu     95"
      ]
     },
     "execution_count": 340,
     "metadata": {},
     "output_type": "execute_result"
    }
   ],
   "source": [
    "df"
   ]
  },
  {
   "cell_type": "code",
   "execution_count": 341,
   "id": "79443f09",
   "metadata": {},
   "outputs": [
    {
     "name": "stdout",
     "output_type": "stream",
     "text": [
      "80\n",
      "90\n",
      "60\n",
      "95\n"
     ]
    }
   ],
   "source": [
    "for i,j in df.iterrows(): ##To access specific column\n",
    "    print(j['Marks'])"
   ]
  },
  {
   "cell_type": "markdown",
   "id": "608d2f0b",
   "metadata": {},
   "source": [
    "## Binary operation in DataFrame"
   ]
  },
  {
   "cell_type": "markdown",
   "id": "ada2afa1",
   "metadata": {},
   "source": [
    "In the binary operation two dataframes are alligned on the basis of their row and column indes and for the matching row, the column index the given operation is performed and for non matcing NaN is stored"
   ]
  },
  {
   "cell_type": "code",
   "execution_count": 1,
   "id": "9250eff6",
   "metadata": {},
   "outputs": [],
   "source": [
    "import pandas as pd"
   ]
  },
  {
   "cell_type": "code",
   "execution_count": 2,
   "id": "303fb723",
   "metadata": {},
   "outputs": [],
   "source": [
    "d1 = {\"A\":[1,4,7],\"B\":[2,5,8],\"C\":[3,6,9]}"
   ]
  },
  {
   "cell_type": "code",
   "execution_count": 3,
   "id": "5cfe49a0",
   "metadata": {},
   "outputs": [],
   "source": [
    "df = pd.DataFrame(d1)"
   ]
  },
  {
   "cell_type": "code",
   "execution_count": 4,
   "id": "b6326ec4",
   "metadata": {},
   "outputs": [
    {
     "data": {
      "text/html": [
       "<div>\n",
       "<style scoped>\n",
       "    .dataframe tbody tr th:only-of-type {\n",
       "        vertical-align: middle;\n",
       "    }\n",
       "\n",
       "    .dataframe tbody tr th {\n",
       "        vertical-align: top;\n",
       "    }\n",
       "\n",
       "    .dataframe thead th {\n",
       "        text-align: right;\n",
       "    }\n",
       "</style>\n",
       "<table border=\"1\" class=\"dataframe\">\n",
       "  <thead>\n",
       "    <tr style=\"text-align: right;\">\n",
       "      <th></th>\n",
       "      <th>A</th>\n",
       "      <th>B</th>\n",
       "      <th>C</th>\n",
       "    </tr>\n",
       "  </thead>\n",
       "  <tbody>\n",
       "    <tr>\n",
       "      <th>0</th>\n",
       "      <td>1</td>\n",
       "      <td>2</td>\n",
       "      <td>3</td>\n",
       "    </tr>\n",
       "    <tr>\n",
       "      <th>1</th>\n",
       "      <td>4</td>\n",
       "      <td>5</td>\n",
       "      <td>6</td>\n",
       "    </tr>\n",
       "    <tr>\n",
       "      <th>2</th>\n",
       "      <td>7</td>\n",
       "      <td>8</td>\n",
       "      <td>9</td>\n",
       "    </tr>\n",
       "  </tbody>\n",
       "</table>\n",
       "</div>"
      ],
      "text/plain": [
       "   A  B  C\n",
       "0  1  2  3\n",
       "1  4  5  6\n",
       "2  7  8  9"
      ]
     },
     "execution_count": 4,
     "metadata": {},
     "output_type": "execute_result"
    }
   ],
   "source": [
    "df"
   ]
  },
  {
   "cell_type": "code",
   "execution_count": 5,
   "id": "d9084b26",
   "metadata": {},
   "outputs": [],
   "source": [
    "d2 = {\"A\":[10,40,70],\"B\":[20,50,80],\"C\":[30,60,90]}"
   ]
  },
  {
   "cell_type": "code",
   "execution_count": 6,
   "id": "dbc55f65",
   "metadata": {},
   "outputs": [],
   "source": [
    "df1 = pd.DataFrame(d2)"
   ]
  },
  {
   "cell_type": "code",
   "execution_count": 7,
   "id": "cf42a6e3",
   "metadata": {},
   "outputs": [
    {
     "data": {
      "text/html": [
       "<div>\n",
       "<style scoped>\n",
       "    .dataframe tbody tr th:only-of-type {\n",
       "        vertical-align: middle;\n",
       "    }\n",
       "\n",
       "    .dataframe tbody tr th {\n",
       "        vertical-align: top;\n",
       "    }\n",
       "\n",
       "    .dataframe thead th {\n",
       "        text-align: right;\n",
       "    }\n",
       "</style>\n",
       "<table border=\"1\" class=\"dataframe\">\n",
       "  <thead>\n",
       "    <tr style=\"text-align: right;\">\n",
       "      <th></th>\n",
       "      <th>A</th>\n",
       "      <th>B</th>\n",
       "      <th>C</th>\n",
       "    </tr>\n",
       "  </thead>\n",
       "  <tbody>\n",
       "    <tr>\n",
       "      <th>0</th>\n",
       "      <td>10</td>\n",
       "      <td>20</td>\n",
       "      <td>30</td>\n",
       "    </tr>\n",
       "    <tr>\n",
       "      <th>1</th>\n",
       "      <td>40</td>\n",
       "      <td>50</td>\n",
       "      <td>60</td>\n",
       "    </tr>\n",
       "    <tr>\n",
       "      <th>2</th>\n",
       "      <td>70</td>\n",
       "      <td>80</td>\n",
       "      <td>90</td>\n",
       "    </tr>\n",
       "  </tbody>\n",
       "</table>\n",
       "</div>"
      ],
      "text/plain": [
       "    A   B   C\n",
       "0  10  20  30\n",
       "1  40  50  60\n",
       "2  70  80  90"
      ]
     },
     "execution_count": 7,
     "metadata": {},
     "output_type": "execute_result"
    }
   ],
   "source": [
    "df1"
   ]
  },
  {
   "cell_type": "code",
   "execution_count": 34,
   "id": "549410d3",
   "metadata": {},
   "outputs": [],
   "source": [
    "d3 = {\"A\":[100,400],\"B\":[200,500],\"C\":[300,600]}"
   ]
  },
  {
   "cell_type": "code",
   "execution_count": 35,
   "id": "480ba625",
   "metadata": {},
   "outputs": [],
   "source": [
    "df2 =pd.DataFrame(d3)"
   ]
  },
  {
   "cell_type": "code",
   "execution_count": 36,
   "id": "68002758",
   "metadata": {},
   "outputs": [
    {
     "data": {
      "text/html": [
       "<div>\n",
       "<style scoped>\n",
       "    .dataframe tbody tr th:only-of-type {\n",
       "        vertical-align: middle;\n",
       "    }\n",
       "\n",
       "    .dataframe tbody tr th {\n",
       "        vertical-align: top;\n",
       "    }\n",
       "\n",
       "    .dataframe thead th {\n",
       "        text-align: right;\n",
       "    }\n",
       "</style>\n",
       "<table border=\"1\" class=\"dataframe\">\n",
       "  <thead>\n",
       "    <tr style=\"text-align: right;\">\n",
       "      <th></th>\n",
       "      <th>A</th>\n",
       "      <th>B</th>\n",
       "      <th>C</th>\n",
       "    </tr>\n",
       "  </thead>\n",
       "  <tbody>\n",
       "    <tr>\n",
       "      <th>0</th>\n",
       "      <td>100</td>\n",
       "      <td>200</td>\n",
       "      <td>300</td>\n",
       "    </tr>\n",
       "    <tr>\n",
       "      <th>1</th>\n",
       "      <td>400</td>\n",
       "      <td>500</td>\n",
       "      <td>600</td>\n",
       "    </tr>\n",
       "  </tbody>\n",
       "</table>\n",
       "</div>"
      ],
      "text/plain": [
       "     A    B    C\n",
       "0  100  200  300\n",
       "1  400  500  600"
      ]
     },
     "execution_count": 36,
     "metadata": {},
     "output_type": "execute_result"
    }
   ],
   "source": [
    "df2"
   ]
  },
  {
   "cell_type": "code",
   "execution_count": 17,
   "id": "7042f9f3",
   "metadata": {},
   "outputs": [],
   "source": [
    "d4 = {\"A\":[1000,4000,7000],\"B\":[2000,5000,8000]}"
   ]
  },
  {
   "cell_type": "code",
   "execution_count": 18,
   "id": "85078dca",
   "metadata": {},
   "outputs": [],
   "source": [
    "df3 =pd.DataFrame(d4)"
   ]
  },
  {
   "cell_type": "code",
   "execution_count": 19,
   "id": "f775a718",
   "metadata": {},
   "outputs": [
    {
     "data": {
      "text/html": [
       "<div>\n",
       "<style scoped>\n",
       "    .dataframe tbody tr th:only-of-type {\n",
       "        vertical-align: middle;\n",
       "    }\n",
       "\n",
       "    .dataframe tbody tr th {\n",
       "        vertical-align: top;\n",
       "    }\n",
       "\n",
       "    .dataframe thead th {\n",
       "        text-align: right;\n",
       "    }\n",
       "</style>\n",
       "<table border=\"1\" class=\"dataframe\">\n",
       "  <thead>\n",
       "    <tr style=\"text-align: right;\">\n",
       "      <th></th>\n",
       "      <th>A</th>\n",
       "      <th>B</th>\n",
       "    </tr>\n",
       "  </thead>\n",
       "  <tbody>\n",
       "    <tr>\n",
       "      <th>0</th>\n",
       "      <td>1000</td>\n",
       "      <td>2000</td>\n",
       "    </tr>\n",
       "    <tr>\n",
       "      <th>1</th>\n",
       "      <td>4000</td>\n",
       "      <td>5000</td>\n",
       "    </tr>\n",
       "    <tr>\n",
       "      <th>2</th>\n",
       "      <td>7000</td>\n",
       "      <td>8000</td>\n",
       "    </tr>\n",
       "  </tbody>\n",
       "</table>\n",
       "</div>"
      ],
      "text/plain": [
       "      A     B\n",
       "0  1000  2000\n",
       "1  4000  5000\n",
       "2  7000  8000"
      ]
     },
     "execution_count": 19,
     "metadata": {},
     "output_type": "execute_result"
    }
   ],
   "source": [
    "df3"
   ]
  },
  {
   "cell_type": "code",
   "execution_count": 14,
   "id": "189c1a01",
   "metadata": {},
   "outputs": [
    {
     "data": {
      "text/html": [
       "<div>\n",
       "<style scoped>\n",
       "    .dataframe tbody tr th:only-of-type {\n",
       "        vertical-align: middle;\n",
       "    }\n",
       "\n",
       "    .dataframe tbody tr th {\n",
       "        vertical-align: top;\n",
       "    }\n",
       "\n",
       "    .dataframe thead th {\n",
       "        text-align: right;\n",
       "    }\n",
       "</style>\n",
       "<table border=\"1\" class=\"dataframe\">\n",
       "  <thead>\n",
       "    <tr style=\"text-align: right;\">\n",
       "      <th></th>\n",
       "      <th>A</th>\n",
       "      <th>B</th>\n",
       "      <th>C</th>\n",
       "    </tr>\n",
       "  </thead>\n",
       "  <tbody>\n",
       "    <tr>\n",
       "      <th>0</th>\n",
       "      <td>11</td>\n",
       "      <td>22</td>\n",
       "      <td>33</td>\n",
       "    </tr>\n",
       "    <tr>\n",
       "      <th>1</th>\n",
       "      <td>44</td>\n",
       "      <td>55</td>\n",
       "      <td>66</td>\n",
       "    </tr>\n",
       "    <tr>\n",
       "      <th>2</th>\n",
       "      <td>77</td>\n",
       "      <td>88</td>\n",
       "      <td>99</td>\n",
       "    </tr>\n",
       "  </tbody>\n",
       "</table>\n",
       "</div>"
      ],
      "text/plain": [
       "    A   B   C\n",
       "0  11  22  33\n",
       "1  44  55  66\n",
       "2  77  88  99"
      ]
     },
     "execution_count": 14,
     "metadata": {},
     "output_type": "execute_result"
    }
   ],
   "source": [
    "## To add \n",
    "df+df1"
   ]
  },
  {
   "cell_type": "code",
   "execution_count": 15,
   "id": "2bb19453",
   "metadata": {},
   "outputs": [
    {
     "data": {
      "text/html": [
       "<div>\n",
       "<style scoped>\n",
       "    .dataframe tbody tr th:only-of-type {\n",
       "        vertical-align: middle;\n",
       "    }\n",
       "\n",
       "    .dataframe tbody tr th {\n",
       "        vertical-align: top;\n",
       "    }\n",
       "\n",
       "    .dataframe thead th {\n",
       "        text-align: right;\n",
       "    }\n",
       "</style>\n",
       "<table border=\"1\" class=\"dataframe\">\n",
       "  <thead>\n",
       "    <tr style=\"text-align: right;\">\n",
       "      <th></th>\n",
       "      <th>A</th>\n",
       "      <th>B</th>\n",
       "      <th>C</th>\n",
       "    </tr>\n",
       "  </thead>\n",
       "  <tbody>\n",
       "    <tr>\n",
       "      <th>0</th>\n",
       "      <td>11</td>\n",
       "      <td>22</td>\n",
       "      <td>33</td>\n",
       "    </tr>\n",
       "    <tr>\n",
       "      <th>1</th>\n",
       "      <td>44</td>\n",
       "      <td>55</td>\n",
       "      <td>66</td>\n",
       "    </tr>\n",
       "    <tr>\n",
       "      <th>2</th>\n",
       "      <td>77</td>\n",
       "      <td>88</td>\n",
       "      <td>99</td>\n",
       "    </tr>\n",
       "  </tbody>\n",
       "</table>\n",
       "</div>"
      ],
      "text/plain": [
       "    A   B   C\n",
       "0  11  22  33\n",
       "1  44  55  66\n",
       "2  77  88  99"
      ]
     },
     "execution_count": 15,
     "metadata": {},
     "output_type": "execute_result"
    }
   ],
   "source": [
    "##OR\n",
    "df.add(df1)"
   ]
  },
  {
   "cell_type": "code",
   "execution_count": 16,
   "id": "2dc333d6",
   "metadata": {},
   "outputs": [
    {
     "data": {
      "text/html": [
       "<div>\n",
       "<style scoped>\n",
       "    .dataframe tbody tr th:only-of-type {\n",
       "        vertical-align: middle;\n",
       "    }\n",
       "\n",
       "    .dataframe tbody tr th {\n",
       "        vertical-align: top;\n",
       "    }\n",
       "\n",
       "    .dataframe thead th {\n",
       "        text-align: right;\n",
       "    }\n",
       "</style>\n",
       "<table border=\"1\" class=\"dataframe\">\n",
       "  <thead>\n",
       "    <tr style=\"text-align: right;\">\n",
       "      <th></th>\n",
       "      <th>A</th>\n",
       "      <th>B</th>\n",
       "      <th>C</th>\n",
       "    </tr>\n",
       "  </thead>\n",
       "  <tbody>\n",
       "    <tr>\n",
       "      <th>0</th>\n",
       "      <td>11</td>\n",
       "      <td>22</td>\n",
       "      <td>33</td>\n",
       "    </tr>\n",
       "    <tr>\n",
       "      <th>1</th>\n",
       "      <td>44</td>\n",
       "      <td>55</td>\n",
       "      <td>66</td>\n",
       "    </tr>\n",
       "    <tr>\n",
       "      <th>2</th>\n",
       "      <td>77</td>\n",
       "      <td>88</td>\n",
       "      <td>99</td>\n",
       "    </tr>\n",
       "  </tbody>\n",
       "</table>\n",
       "</div>"
      ],
      "text/plain": [
       "    A   B   C\n",
       "0  11  22  33\n",
       "1  44  55  66\n",
       "2  77  88  99"
      ]
     },
     "execution_count": 16,
     "metadata": {},
     "output_type": "execute_result"
    }
   ],
   "source": [
    "##OR\n",
    "df.radd(df1)"
   ]
  },
  {
   "cell_type": "code",
   "execution_count": 20,
   "id": "0c4c9a20",
   "metadata": {},
   "outputs": [
    {
     "data": {
      "text/html": [
       "<div>\n",
       "<style scoped>\n",
       "    .dataframe tbody tr th:only-of-type {\n",
       "        vertical-align: middle;\n",
       "    }\n",
       "\n",
       "    .dataframe tbody tr th {\n",
       "        vertical-align: top;\n",
       "    }\n",
       "\n",
       "    .dataframe thead th {\n",
       "        text-align: right;\n",
       "    }\n",
       "</style>\n",
       "<table border=\"1\" class=\"dataframe\">\n",
       "  <thead>\n",
       "    <tr style=\"text-align: right;\">\n",
       "      <th></th>\n",
       "      <th>A</th>\n",
       "      <th>B</th>\n",
       "      <th>C</th>\n",
       "    </tr>\n",
       "  </thead>\n",
       "  <tbody>\n",
       "    <tr>\n",
       "      <th>0</th>\n",
       "      <td>-99</td>\n",
       "      <td>-198</td>\n",
       "      <td>-297</td>\n",
       "    </tr>\n",
       "    <tr>\n",
       "      <th>1</th>\n",
       "      <td>-396</td>\n",
       "      <td>-495</td>\n",
       "      <td>-594</td>\n",
       "    </tr>\n",
       "    <tr>\n",
       "      <th>2</th>\n",
       "      <td>-693</td>\n",
       "      <td>-792</td>\n",
       "      <td>-891</td>\n",
       "    </tr>\n",
       "  </tbody>\n",
       "</table>\n",
       "</div>"
      ],
      "text/plain": [
       "     A    B    C\n",
       "0  -99 -198 -297\n",
       "1 -396 -495 -594\n",
       "2 -693 -792 -891"
      ]
     },
     "execution_count": 20,
     "metadata": {},
     "output_type": "execute_result"
    }
   ],
   "source": [
    "df-df2"
   ]
  },
  {
   "cell_type": "code",
   "execution_count": 21,
   "id": "c800ba78",
   "metadata": {},
   "outputs": [
    {
     "data": {
      "text/html": [
       "<div>\n",
       "<style scoped>\n",
       "    .dataframe tbody tr th:only-of-type {\n",
       "        vertical-align: middle;\n",
       "    }\n",
       "\n",
       "    .dataframe tbody tr th {\n",
       "        vertical-align: top;\n",
       "    }\n",
       "\n",
       "    .dataframe thead th {\n",
       "        text-align: right;\n",
       "    }\n",
       "</style>\n",
       "<table border=\"1\" class=\"dataframe\">\n",
       "  <thead>\n",
       "    <tr style=\"text-align: right;\">\n",
       "      <th></th>\n",
       "      <th>A</th>\n",
       "      <th>B</th>\n",
       "      <th>C</th>\n",
       "    </tr>\n",
       "  </thead>\n",
       "  <tbody>\n",
       "    <tr>\n",
       "      <th>0</th>\n",
       "      <td>9</td>\n",
       "      <td>18</td>\n",
       "      <td>27</td>\n",
       "    </tr>\n",
       "    <tr>\n",
       "      <th>1</th>\n",
       "      <td>36</td>\n",
       "      <td>45</td>\n",
       "      <td>54</td>\n",
       "    </tr>\n",
       "    <tr>\n",
       "      <th>2</th>\n",
       "      <td>63</td>\n",
       "      <td>72</td>\n",
       "      <td>81</td>\n",
       "    </tr>\n",
       "  </tbody>\n",
       "</table>\n",
       "</div>"
      ],
      "text/plain": [
       "    A   B   C\n",
       "0   9  18  27\n",
       "1  36  45  54\n",
       "2  63  72  81"
      ]
     },
     "execution_count": 21,
     "metadata": {},
     "output_type": "execute_result"
    }
   ],
   "source": [
    "## To substract\n",
    "df1-df"
   ]
  },
  {
   "cell_type": "code",
   "execution_count": 22,
   "id": "839a3061",
   "metadata": {},
   "outputs": [
    {
     "data": {
      "text/html": [
       "<div>\n",
       "<style scoped>\n",
       "    .dataframe tbody tr th:only-of-type {\n",
       "        vertical-align: middle;\n",
       "    }\n",
       "\n",
       "    .dataframe tbody tr th {\n",
       "        vertical-align: top;\n",
       "    }\n",
       "\n",
       "    .dataframe thead th {\n",
       "        text-align: right;\n",
       "    }\n",
       "</style>\n",
       "<table border=\"1\" class=\"dataframe\">\n",
       "  <thead>\n",
       "    <tr style=\"text-align: right;\">\n",
       "      <th></th>\n",
       "      <th>A</th>\n",
       "      <th>B</th>\n",
       "      <th>C</th>\n",
       "    </tr>\n",
       "  </thead>\n",
       "  <tbody>\n",
       "    <tr>\n",
       "      <th>0</th>\n",
       "      <td>-99</td>\n",
       "      <td>-198</td>\n",
       "      <td>-297</td>\n",
       "    </tr>\n",
       "    <tr>\n",
       "      <th>1</th>\n",
       "      <td>-396</td>\n",
       "      <td>-495</td>\n",
       "      <td>-594</td>\n",
       "    </tr>\n",
       "    <tr>\n",
       "      <th>2</th>\n",
       "      <td>-693</td>\n",
       "      <td>-792</td>\n",
       "      <td>-891</td>\n",
       "    </tr>\n",
       "  </tbody>\n",
       "</table>\n",
       "</div>"
      ],
      "text/plain": [
       "     A    B    C\n",
       "0  -99 -198 -297\n",
       "1 -396 -495 -594\n",
       "2 -693 -792 -891"
      ]
     },
     "execution_count": 22,
     "metadata": {},
     "output_type": "execute_result"
    }
   ],
   "source": [
    "df.sub(df2)"
   ]
  },
  {
   "cell_type": "code",
   "execution_count": 24,
   "id": "8347c128",
   "metadata": {},
   "outputs": [
    {
     "data": {
      "text/html": [
       "<div>\n",
       "<style scoped>\n",
       "    .dataframe tbody tr th:only-of-type {\n",
       "        vertical-align: middle;\n",
       "    }\n",
       "\n",
       "    .dataframe tbody tr th {\n",
       "        vertical-align: top;\n",
       "    }\n",
       "\n",
       "    .dataframe thead th {\n",
       "        text-align: right;\n",
       "    }\n",
       "</style>\n",
       "<table border=\"1\" class=\"dataframe\">\n",
       "  <thead>\n",
       "    <tr style=\"text-align: right;\">\n",
       "      <th></th>\n",
       "      <th>A</th>\n",
       "      <th>B</th>\n",
       "      <th>C</th>\n",
       "    </tr>\n",
       "  </thead>\n",
       "  <tbody>\n",
       "    <tr>\n",
       "      <th>0</th>\n",
       "      <td>9</td>\n",
       "      <td>18</td>\n",
       "      <td>27</td>\n",
       "    </tr>\n",
       "    <tr>\n",
       "      <th>1</th>\n",
       "      <td>36</td>\n",
       "      <td>45</td>\n",
       "      <td>54</td>\n",
       "    </tr>\n",
       "    <tr>\n",
       "      <th>2</th>\n",
       "      <td>63</td>\n",
       "      <td>72</td>\n",
       "      <td>81</td>\n",
       "    </tr>\n",
       "  </tbody>\n",
       "</table>\n",
       "</div>"
      ],
      "text/plain": [
       "    A   B   C\n",
       "0   9  18  27\n",
       "1  36  45  54\n",
       "2  63  72  81"
      ]
     },
     "execution_count": 24,
     "metadata": {},
     "output_type": "execute_result"
    }
   ],
   "source": [
    "df.rsub(df1)  #rsub means reversing here it will be df1-df"
   ]
  },
  {
   "cell_type": "code",
   "execution_count": 25,
   "id": "76888235",
   "metadata": {},
   "outputs": [
    {
     "data": {
      "text/html": [
       "<div>\n",
       "<style scoped>\n",
       "    .dataframe tbody tr th:only-of-type {\n",
       "        vertical-align: middle;\n",
       "    }\n",
       "\n",
       "    .dataframe tbody tr th {\n",
       "        vertical-align: top;\n",
       "    }\n",
       "\n",
       "    .dataframe thead th {\n",
       "        text-align: right;\n",
       "    }\n",
       "</style>\n",
       "<table border=\"1\" class=\"dataframe\">\n",
       "  <thead>\n",
       "    <tr style=\"text-align: right;\">\n",
       "      <th></th>\n",
       "      <th>A</th>\n",
       "      <th>B</th>\n",
       "      <th>C</th>\n",
       "    </tr>\n",
       "  </thead>\n",
       "  <tbody>\n",
       "    <tr>\n",
       "      <th>0</th>\n",
       "      <td>10</td>\n",
       "      <td>40</td>\n",
       "      <td>90</td>\n",
       "    </tr>\n",
       "    <tr>\n",
       "      <th>1</th>\n",
       "      <td>160</td>\n",
       "      <td>250</td>\n",
       "      <td>360</td>\n",
       "    </tr>\n",
       "    <tr>\n",
       "      <th>2</th>\n",
       "      <td>490</td>\n",
       "      <td>640</td>\n",
       "      <td>810</td>\n",
       "    </tr>\n",
       "  </tbody>\n",
       "</table>\n",
       "</div>"
      ],
      "text/plain": [
       "     A    B    C\n",
       "0   10   40   90\n",
       "1  160  250  360\n",
       "2  490  640  810"
      ]
     },
     "execution_count": 25,
     "metadata": {},
     "output_type": "execute_result"
    }
   ],
   "source": [
    "## Multiplication\n",
    "df1*df"
   ]
  },
  {
   "cell_type": "code",
   "execution_count": 26,
   "id": "c79905f6",
   "metadata": {},
   "outputs": [
    {
     "data": {
      "text/html": [
       "<div>\n",
       "<style scoped>\n",
       "    .dataframe tbody tr th:only-of-type {\n",
       "        vertical-align: middle;\n",
       "    }\n",
       "\n",
       "    .dataframe tbody tr th {\n",
       "        vertical-align: top;\n",
       "    }\n",
       "\n",
       "    .dataframe thead th {\n",
       "        text-align: right;\n",
       "    }\n",
       "</style>\n",
       "<table border=\"1\" class=\"dataframe\">\n",
       "  <thead>\n",
       "    <tr style=\"text-align: right;\">\n",
       "      <th></th>\n",
       "      <th>A</th>\n",
       "      <th>B</th>\n",
       "      <th>C</th>\n",
       "    </tr>\n",
       "  </thead>\n",
       "  <tbody>\n",
       "    <tr>\n",
       "      <th>0</th>\n",
       "      <td>1000</td>\n",
       "      <td>4000</td>\n",
       "      <td>9000</td>\n",
       "    </tr>\n",
       "    <tr>\n",
       "      <th>1</th>\n",
       "      <td>16000</td>\n",
       "      <td>25000</td>\n",
       "      <td>36000</td>\n",
       "    </tr>\n",
       "    <tr>\n",
       "      <th>2</th>\n",
       "      <td>49000</td>\n",
       "      <td>64000</td>\n",
       "      <td>81000</td>\n",
       "    </tr>\n",
       "  </tbody>\n",
       "</table>\n",
       "</div>"
      ],
      "text/plain": [
       "       A      B      C\n",
       "0   1000   4000   9000\n",
       "1  16000  25000  36000\n",
       "2  49000  64000  81000"
      ]
     },
     "execution_count": 26,
     "metadata": {},
     "output_type": "execute_result"
    }
   ],
   "source": [
    "df1.mul(df2)"
   ]
  },
  {
   "cell_type": "code",
   "execution_count": 28,
   "id": "1e9061c4",
   "metadata": {},
   "outputs": [
    {
     "data": {
      "text/html": [
       "<div>\n",
       "<style scoped>\n",
       "    .dataframe tbody tr th:only-of-type {\n",
       "        vertical-align: middle;\n",
       "    }\n",
       "\n",
       "    .dataframe tbody tr th {\n",
       "        vertical-align: top;\n",
       "    }\n",
       "\n",
       "    .dataframe thead th {\n",
       "        text-align: right;\n",
       "    }\n",
       "</style>\n",
       "<table border=\"1\" class=\"dataframe\">\n",
       "  <thead>\n",
       "    <tr style=\"text-align: right;\">\n",
       "      <th></th>\n",
       "      <th>A</th>\n",
       "      <th>B</th>\n",
       "      <th>C</th>\n",
       "    </tr>\n",
       "  </thead>\n",
       "  <tbody>\n",
       "    <tr>\n",
       "      <th>0</th>\n",
       "      <td>10</td>\n",
       "      <td>40</td>\n",
       "      <td>90</td>\n",
       "    </tr>\n",
       "    <tr>\n",
       "      <th>1</th>\n",
       "      <td>160</td>\n",
       "      <td>250</td>\n",
       "      <td>360</td>\n",
       "    </tr>\n",
       "    <tr>\n",
       "      <th>2</th>\n",
       "      <td>490</td>\n",
       "      <td>640</td>\n",
       "      <td>810</td>\n",
       "    </tr>\n",
       "  </tbody>\n",
       "</table>\n",
       "</div>"
      ],
      "text/plain": [
       "     A    B    C\n",
       "0   10   40   90\n",
       "1  160  250  360\n",
       "2  490  640  810"
      ]
     },
     "execution_count": 28,
     "metadata": {},
     "output_type": "execute_result"
    }
   ],
   "source": [
    "df1.rmul(df)"
   ]
  },
  {
   "cell_type": "code",
   "execution_count": 29,
   "id": "93cb20f1",
   "metadata": {},
   "outputs": [
    {
     "data": {
      "text/html": [
       "<div>\n",
       "<style scoped>\n",
       "    .dataframe tbody tr th:only-of-type {\n",
       "        vertical-align: middle;\n",
       "    }\n",
       "\n",
       "    .dataframe tbody tr th {\n",
       "        vertical-align: top;\n",
       "    }\n",
       "\n",
       "    .dataframe thead th {\n",
       "        text-align: right;\n",
       "    }\n",
       "</style>\n",
       "<table border=\"1\" class=\"dataframe\">\n",
       "  <thead>\n",
       "    <tr style=\"text-align: right;\">\n",
       "      <th></th>\n",
       "      <th>A</th>\n",
       "      <th>B</th>\n",
       "      <th>C</th>\n",
       "    </tr>\n",
       "  </thead>\n",
       "  <tbody>\n",
       "    <tr>\n",
       "      <th>0</th>\n",
       "      <td>0.1</td>\n",
       "      <td>0.1</td>\n",
       "      <td>0.1</td>\n",
       "    </tr>\n",
       "    <tr>\n",
       "      <th>1</th>\n",
       "      <td>0.1</td>\n",
       "      <td>0.1</td>\n",
       "      <td>0.1</td>\n",
       "    </tr>\n",
       "    <tr>\n",
       "      <th>2</th>\n",
       "      <td>0.1</td>\n",
       "      <td>0.1</td>\n",
       "      <td>0.1</td>\n",
       "    </tr>\n",
       "  </tbody>\n",
       "</table>\n",
       "</div>"
      ],
      "text/plain": [
       "     A    B    C\n",
       "0  0.1  0.1  0.1\n",
       "1  0.1  0.1  0.1\n",
       "2  0.1  0.1  0.1"
      ]
     },
     "execution_count": 29,
     "metadata": {},
     "output_type": "execute_result"
    }
   ],
   "source": [
    "## Substraction\n",
    "df/df1"
   ]
  },
  {
   "cell_type": "code",
   "execution_count": 30,
   "id": "bdadb45a",
   "metadata": {},
   "outputs": [
    {
     "data": {
      "text/html": [
       "<div>\n",
       "<style scoped>\n",
       "    .dataframe tbody tr th:only-of-type {\n",
       "        vertical-align: middle;\n",
       "    }\n",
       "\n",
       "    .dataframe tbody tr th {\n",
       "        vertical-align: top;\n",
       "    }\n",
       "\n",
       "    .dataframe thead th {\n",
       "        text-align: right;\n",
       "    }\n",
       "</style>\n",
       "<table border=\"1\" class=\"dataframe\">\n",
       "  <thead>\n",
       "    <tr style=\"text-align: right;\">\n",
       "      <th></th>\n",
       "      <th>A</th>\n",
       "      <th>B</th>\n",
       "      <th>C</th>\n",
       "    </tr>\n",
       "  </thead>\n",
       "  <tbody>\n",
       "    <tr>\n",
       "      <th>0</th>\n",
       "      <td>0.1</td>\n",
       "      <td>0.1</td>\n",
       "      <td>0.1</td>\n",
       "    </tr>\n",
       "    <tr>\n",
       "      <th>1</th>\n",
       "      <td>0.1</td>\n",
       "      <td>0.1</td>\n",
       "      <td>0.1</td>\n",
       "    </tr>\n",
       "    <tr>\n",
       "      <th>2</th>\n",
       "      <td>0.1</td>\n",
       "      <td>0.1</td>\n",
       "      <td>0.1</td>\n",
       "    </tr>\n",
       "  </tbody>\n",
       "</table>\n",
       "</div>"
      ],
      "text/plain": [
       "     A    B    C\n",
       "0  0.1  0.1  0.1\n",
       "1  0.1  0.1  0.1\n",
       "2  0.1  0.1  0.1"
      ]
     },
     "execution_count": 30,
     "metadata": {},
     "output_type": "execute_result"
    }
   ],
   "source": [
    "df.div(df1)"
   ]
  },
  {
   "cell_type": "code",
   "execution_count": 31,
   "id": "86082611",
   "metadata": {},
   "outputs": [
    {
     "data": {
      "text/html": [
       "<div>\n",
       "<style scoped>\n",
       "    .dataframe tbody tr th:only-of-type {\n",
       "        vertical-align: middle;\n",
       "    }\n",
       "\n",
       "    .dataframe tbody tr th {\n",
       "        vertical-align: top;\n",
       "    }\n",
       "\n",
       "    .dataframe thead th {\n",
       "        text-align: right;\n",
       "    }\n",
       "</style>\n",
       "<table border=\"1\" class=\"dataframe\">\n",
       "  <thead>\n",
       "    <tr style=\"text-align: right;\">\n",
       "      <th></th>\n",
       "      <th>A</th>\n",
       "      <th>B</th>\n",
       "      <th>C</th>\n",
       "    </tr>\n",
       "  </thead>\n",
       "  <tbody>\n",
       "    <tr>\n",
       "      <th>0</th>\n",
       "      <td>10.0</td>\n",
       "      <td>10.0</td>\n",
       "      <td>10.0</td>\n",
       "    </tr>\n",
       "    <tr>\n",
       "      <th>1</th>\n",
       "      <td>10.0</td>\n",
       "      <td>10.0</td>\n",
       "      <td>10.0</td>\n",
       "    </tr>\n",
       "    <tr>\n",
       "      <th>2</th>\n",
       "      <td>10.0</td>\n",
       "      <td>10.0</td>\n",
       "      <td>10.0</td>\n",
       "    </tr>\n",
       "  </tbody>\n",
       "</table>\n",
       "</div>"
      ],
      "text/plain": [
       "      A     B     C\n",
       "0  10.0  10.0  10.0\n",
       "1  10.0  10.0  10.0\n",
       "2  10.0  10.0  10.0"
      ]
     },
     "execution_count": 31,
     "metadata": {},
     "output_type": "execute_result"
    }
   ],
   "source": [
    "df.rdiv(df1)  ## reverse division "
   ]
  },
  {
   "cell_type": "code",
   "execution_count": 32,
   "id": "18e22817",
   "metadata": {},
   "outputs": [],
   "source": [
    "## to use rdiv/radd/rsub/rmul there will be no change in result in addition and multiplication with other method.\n",
    "##division and substraction will have diffrent result"
   ]
  },
  {
   "cell_type": "code",
   "execution_count": 37,
   "id": "76bcae8d",
   "metadata": {},
   "outputs": [
    {
     "data": {
      "text/html": [
       "<div>\n",
       "<style scoped>\n",
       "    .dataframe tbody tr th:only-of-type {\n",
       "        vertical-align: middle;\n",
       "    }\n",
       "\n",
       "    .dataframe tbody tr th {\n",
       "        vertical-align: top;\n",
       "    }\n",
       "\n",
       "    .dataframe thead th {\n",
       "        text-align: right;\n",
       "    }\n",
       "</style>\n",
       "<table border=\"1\" class=\"dataframe\">\n",
       "  <thead>\n",
       "    <tr style=\"text-align: right;\">\n",
       "      <th></th>\n",
       "      <th>A</th>\n",
       "      <th>B</th>\n",
       "      <th>C</th>\n",
       "    </tr>\n",
       "  </thead>\n",
       "  <tbody>\n",
       "    <tr>\n",
       "      <th>0</th>\n",
       "      <td>101.0</td>\n",
       "      <td>202.0</td>\n",
       "      <td>303.0</td>\n",
       "    </tr>\n",
       "    <tr>\n",
       "      <th>1</th>\n",
       "      <td>404.0</td>\n",
       "      <td>505.0</td>\n",
       "      <td>606.0</td>\n",
       "    </tr>\n",
       "    <tr>\n",
       "      <th>2</th>\n",
       "      <td>NaN</td>\n",
       "      <td>NaN</td>\n",
       "      <td>NaN</td>\n",
       "    </tr>\n",
       "  </tbody>\n",
       "</table>\n",
       "</div>"
      ],
      "text/plain": [
       "       A      B      C\n",
       "0  101.0  202.0  303.0\n",
       "1  404.0  505.0  606.0\n",
       "2    NaN    NaN    NaN"
      ]
     },
     "execution_count": 37,
     "metadata": {},
     "output_type": "execute_result"
    }
   ],
   "source": [
    "df+df2  ## NAN is stronger than integer , only float can store NAN thats why all value converted to float"
   ]
  },
  {
   "cell_type": "code",
   "execution_count": 38,
   "id": "73af0530",
   "metadata": {},
   "outputs": [],
   "source": [
    "##if value does not match NAN will store"
   ]
  },
  {
   "cell_type": "markdown",
   "id": "d8feb88e",
   "metadata": {},
   "source": [
    "#### Example: write a program to calculate total points earned by both the team in each round"
   ]
  },
  {
   "cell_type": "code",
   "execution_count": 40,
   "id": "6578dd91",
   "metadata": {},
   "outputs": [],
   "source": [
    "data1 ={\"P1\":{\"1\":700,\"2\":975,\"3\":970,\"4\":900}, \"P2\":{\"1\":490,\"2\":460,\"3\":570,\"4\":590}}"
   ]
  },
  {
   "cell_type": "code",
   "execution_count": 41,
   "id": "7d2e6d96",
   "metadata": {},
   "outputs": [],
   "source": [
    "data2 ={\"P1\":{\"1\":1100,\"2\":1275,\"3\":1270,\"4\":1400}, \"P2\":{\"1\":1400,\"2\":1260,\"3\":1500,\"4\":1190}}"
   ]
  },
  {
   "cell_type": "code",
   "execution_count": 42,
   "id": "6743209c",
   "metadata": {},
   "outputs": [],
   "source": [
    "df1 =pd.DataFrame(data1)"
   ]
  },
  {
   "cell_type": "code",
   "execution_count": 43,
   "id": "a56e32db",
   "metadata": {},
   "outputs": [
    {
     "data": {
      "text/html": [
       "<div>\n",
       "<style scoped>\n",
       "    .dataframe tbody tr th:only-of-type {\n",
       "        vertical-align: middle;\n",
       "    }\n",
       "\n",
       "    .dataframe tbody tr th {\n",
       "        vertical-align: top;\n",
       "    }\n",
       "\n",
       "    .dataframe thead th {\n",
       "        text-align: right;\n",
       "    }\n",
       "</style>\n",
       "<table border=\"1\" class=\"dataframe\">\n",
       "  <thead>\n",
       "    <tr style=\"text-align: right;\">\n",
       "      <th></th>\n",
       "      <th>P1</th>\n",
       "      <th>P2</th>\n",
       "    </tr>\n",
       "  </thead>\n",
       "  <tbody>\n",
       "    <tr>\n",
       "      <th>1</th>\n",
       "      <td>700</td>\n",
       "      <td>490</td>\n",
       "    </tr>\n",
       "    <tr>\n",
       "      <th>2</th>\n",
       "      <td>975</td>\n",
       "      <td>460</td>\n",
       "    </tr>\n",
       "    <tr>\n",
       "      <th>3</th>\n",
       "      <td>970</td>\n",
       "      <td>570</td>\n",
       "    </tr>\n",
       "    <tr>\n",
       "      <th>4</th>\n",
       "      <td>900</td>\n",
       "      <td>590</td>\n",
       "    </tr>\n",
       "  </tbody>\n",
       "</table>\n",
       "</div>"
      ],
      "text/plain": [
       "    P1   P2\n",
       "1  700  490\n",
       "2  975  460\n",
       "3  970  570\n",
       "4  900  590"
      ]
     },
     "execution_count": 43,
     "metadata": {},
     "output_type": "execute_result"
    }
   ],
   "source": [
    "df1"
   ]
  },
  {
   "cell_type": "code",
   "execution_count": 44,
   "id": "47c98594",
   "metadata": {},
   "outputs": [],
   "source": [
    "df2 =pd.DataFrame(data2)"
   ]
  },
  {
   "cell_type": "code",
   "execution_count": 45,
   "id": "77673698",
   "metadata": {},
   "outputs": [
    {
     "data": {
      "text/html": [
       "<div>\n",
       "<style scoped>\n",
       "    .dataframe tbody tr th:only-of-type {\n",
       "        vertical-align: middle;\n",
       "    }\n",
       "\n",
       "    .dataframe tbody tr th {\n",
       "        vertical-align: top;\n",
       "    }\n",
       "\n",
       "    .dataframe thead th {\n",
       "        text-align: right;\n",
       "    }\n",
       "</style>\n",
       "<table border=\"1\" class=\"dataframe\">\n",
       "  <thead>\n",
       "    <tr style=\"text-align: right;\">\n",
       "      <th></th>\n",
       "      <th>P1</th>\n",
       "      <th>P2</th>\n",
       "    </tr>\n",
       "  </thead>\n",
       "  <tbody>\n",
       "    <tr>\n",
       "      <th>1</th>\n",
       "      <td>1100</td>\n",
       "      <td>1400</td>\n",
       "    </tr>\n",
       "    <tr>\n",
       "      <th>2</th>\n",
       "      <td>1275</td>\n",
       "      <td>1260</td>\n",
       "    </tr>\n",
       "    <tr>\n",
       "      <th>3</th>\n",
       "      <td>1270</td>\n",
       "      <td>1500</td>\n",
       "    </tr>\n",
       "    <tr>\n",
       "      <th>4</th>\n",
       "      <td>1400</td>\n",
       "      <td>1190</td>\n",
       "    </tr>\n",
       "  </tbody>\n",
       "</table>\n",
       "</div>"
      ],
      "text/plain": [
       "     P1    P2\n",
       "1  1100  1400\n",
       "2  1275  1260\n",
       "3  1270  1500\n",
       "4  1400  1190"
      ]
     },
     "execution_count": 45,
     "metadata": {},
     "output_type": "execute_result"
    }
   ],
   "source": [
    "df2"
   ]
  },
  {
   "cell_type": "code",
   "execution_count": 49,
   "id": "19d6c7f0",
   "metadata": {},
   "outputs": [
    {
     "name": "stdout",
     "output_type": "stream",
     "text": [
      "Team 1's perfomance\n",
      "    P1   P2\n",
      "1  700  490\n",
      "2  975  460\n",
      "3  970  570\n",
      "4  900  590\n",
      "Team 2's perfomance\n",
      "     P1    P2\n",
      "1  1100  1400\n",
      "2  1275  1260\n",
      "3  1270  1500\n",
      "4  1400  1190\n",
      "Join perfomance\n",
      "     P1    P2\n",
      "1  1800  1890\n",
      "2  2250  1720\n",
      "3  2240  2070\n",
      "4  2300  1780\n"
     ]
    }
   ],
   "source": [
    "print(\"Team 1's perfomance\")\n",
    "print(df1)\n",
    "\n",
    "print(\"Team 2's perfomance\")\n",
    "print(df2)\n",
    "\n",
    "print(\"Join perfomance\")\n",
    "print(df1+df2)\n",
    "\n"
   ]
  },
  {
   "cell_type": "code",
   "execution_count": null,
   "id": "a860a3c0",
   "metadata": {},
   "outputs": [],
   "source": []
  }
 ],
 "metadata": {
  "kernelspec": {
   "display_name": "Python 3 (ipykernel)",
   "language": "python",
   "name": "python3"
  },
  "language_info": {
   "codemirror_mode": {
    "name": "ipython",
    "version": 3
   },
   "file_extension": ".py",
   "mimetype": "text/x-python",
   "name": "python",
   "nbconvert_exporter": "python",
   "pygments_lexer": "ipython3",
   "version": "3.9.13"
  }
 },
 "nbformat": 4,
 "nbformat_minor": 5
}
