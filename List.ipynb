{
 "cells": [
  {
   "cell_type": "code",
   "execution_count": 1,
   "id": "72061c2a",
   "metadata": {},
   "outputs": [
    {
     "name": "stdout",
     "output_type": "stream",
     "text": [
      "sumi\n"
     ]
    }
   ],
   "source": [
    "# index start from 0\n",
    "a = [\"sumi\",1,2,3]\n",
    "print(a[0])"
   ]
  },
  {
   "cell_type": "code",
   "execution_count": 2,
   "id": "9d5043e8",
   "metadata": {},
   "outputs": [
    {
     "name": "stdout",
     "output_type": "stream",
     "text": [
      "3\n"
     ]
    }
   ],
   "source": [
    "print(a[-1])"
   ]
  },
  {
   "cell_type": "code",
   "execution_count": 3,
   "id": "eb7ab362",
   "metadata": {},
   "outputs": [],
   "source": [
    "a[2]=100"
   ]
  },
  {
   "cell_type": "code",
   "execution_count": 4,
   "id": "9b2ae164",
   "metadata": {},
   "outputs": [
    {
     "name": "stdout",
     "output_type": "stream",
     "text": [
      "100\n"
     ]
    }
   ],
   "source": [
    "print(a[2])"
   ]
  },
  {
   "cell_type": "code",
   "execution_count": 5,
   "id": "adf51efb",
   "metadata": {},
   "outputs": [],
   "source": [
    "##List Slicing"
   ]
  },
  {
   "cell_type": "code",
   "execution_count": 8,
   "id": "378d8318",
   "metadata": {},
   "outputs": [
    {
     "data": {
      "text/plain": [
       "['sumi', 1, 100, 3]"
      ]
     },
     "execution_count": 8,
     "metadata": {},
     "output_type": "execute_result"
    }
   ],
   "source": [
    "a[0:]\n"
   ]
  },
  {
   "cell_type": "code",
   "execution_count": 9,
   "id": "33c880e3",
   "metadata": {},
   "outputs": [
    {
     "data": {
      "text/plain": [
       "[1, 100]"
      ]
     },
     "execution_count": 9,
     "metadata": {},
     "output_type": "execute_result"
    }
   ],
   "source": [
    "a[1:3]\n"
   ]
  },
  {
   "cell_type": "code",
   "execution_count": 10,
   "id": "5a7ebb5f",
   "metadata": {},
   "outputs": [
    {
     "data": {
      "text/plain": [
       "['sumi', 1, 100, 3]"
      ]
     },
     "execution_count": 10,
     "metadata": {},
     "output_type": "execute_result"
    }
   ],
   "source": [
    "a[:]\n"
   ]
  },
  {
   "cell_type": "code",
   "execution_count": 11,
   "id": "ef6b1074",
   "metadata": {},
   "outputs": [
    {
     "data": {
      "text/plain": [
       "['sumi', 1, 100]"
      ]
     },
     "execution_count": 11,
     "metadata": {},
     "output_type": "execute_result"
    }
   ],
   "source": [
    "a[:3] # it will go to till index 2"
   ]
  },
  {
   "cell_type": "code",
   "execution_count": 1,
   "id": "bd720bb8",
   "metadata": {},
   "outputs": [],
   "source": [
    "## various list operation in python"
   ]
  },
  {
   "cell_type": "code",
   "execution_count": 2,
   "id": "842e7603",
   "metadata": {},
   "outputs": [],
   "source": [
    "##List Traversal in python : access the elements in a list one by one"
   ]
  },
  {
   "cell_type": "code",
   "execution_count": 3,
   "id": "ff1fed9c",
   "metadata": {},
   "outputs": [],
   "source": [
    "#forward indexing start from 0 and backward indexing start from -1"
   ]
  },
  {
   "cell_type": "code",
   "execution_count": 4,
   "id": "0cea4d08",
   "metadata": {},
   "outputs": [],
   "source": [
    "#first way\n",
    "a =['sumi',10,'marufa',12]\n"
   ]
  },
  {
   "cell_type": "code",
   "execution_count": 6,
   "id": "28041344",
   "metadata": {},
   "outputs": [
    {
     "name": "stdout",
     "output_type": "stream",
     "text": [
      "sumi\n",
      "10\n",
      "marufa\n",
      "12\n"
     ]
    }
   ],
   "source": [
    "for i in a:\n",
    "    print(i)"
   ]
  },
  {
   "cell_type": "code",
   "execution_count": 7,
   "id": "45e18b23",
   "metadata": {},
   "outputs": [
    {
     "data": {
      "text/plain": [
       "['sumi', 10, 'marufa', 12]"
      ]
     },
     "execution_count": 7,
     "metadata": {},
     "output_type": "execute_result"
    }
   ],
   "source": [
    "#second method\n",
    "a"
   ]
  },
  {
   "cell_type": "code",
   "execution_count": 9,
   "id": "28051bac",
   "metadata": {},
   "outputs": [
    {
     "name": "stdout",
     "output_type": "stream",
     "text": [
      "4\n"
     ]
    }
   ],
   "source": [
    "print(len(a))\n",
    "    "
   ]
  },
  {
   "cell_type": "code",
   "execution_count": 11,
   "id": "d5803cf5",
   "metadata": {},
   "outputs": [
    {
     "name": "stdout",
     "output_type": "stream",
     "text": [
      "sumi\n",
      "10\n",
      "marufa\n",
      "12\n"
     ]
    }
   ],
   "source": [
    "for i in range(len(a)):\n",
    "    print(a[i])"
   ]
  },
  {
   "cell_type": "raw",
   "id": "81f0998a",
   "metadata": {},
   "source": [
    "##LIST FUNCTION-Built in Function\n",
    "len(): determine the length of the list\n",
    "max(): find maximum value\n",
    "Min():\n"
   ]
  },
  {
   "cell_type": "raw",
   "id": "d2899691",
   "metadata": {},
   "source": [
    "case1:\n",
    "what if we have a list of string and integer values and we want to use max function.In this case this will produce an error message stating that string and integer value comparison is not possible\n",
    "\n",
    "case 2:\n",
    "what if string value comparison is there. In such case it will compared as to a to z an ascending order"
   ]
  },
  {
   "cell_type": "code",
   "execution_count": 12,
   "id": "37f8c774",
   "metadata": {},
   "outputs": [],
   "source": [
    "#cmp(list1,list2): does not work p3"
   ]
  },
  {
   "cell_type": "code",
   "execution_count": 13,
   "id": "bd344fc1",
   "metadata": {},
   "outputs": [],
   "source": [
    "##append():add object at the end of the list"
   ]
  },
  {
   "cell_type": "code",
   "execution_count": 17,
   "id": "464daae3",
   "metadata": {},
   "outputs": [
    {
     "name": "stdout",
     "output_type": "stream",
     "text": [
      "2\n"
     ]
    }
   ],
   "source": [
    "##list.count():This method is used to count the frequency of a given object\n",
    "\n",
    "a= ['sumi',12,'marufa',14,'sumi']\n",
    "x = a.count('sumi')\n",
    "print(x)"
   ]
  },
  {
   "cell_type": "code",
   "execution_count": 19,
   "id": "7a0c445d",
   "metadata": {},
   "outputs": [
    {
     "data": {
      "text/plain": [
       "0"
      ]
     },
     "execution_count": 19,
     "metadata": {},
     "output_type": "execute_result"
    }
   ],
   "source": [
    "#index() : list.index()\n",
    "a.index('sumi')"
   ]
  },
  {
   "cell_type": "code",
   "execution_count": 20,
   "id": "8909e4eb",
   "metadata": {},
   "outputs": [],
   "source": [
    "##list.insert(index,obj)\n",
    "a.insert(2,'ayman')"
   ]
  },
  {
   "cell_type": "code",
   "execution_count": 21,
   "id": "3fcf89eb",
   "metadata": {},
   "outputs": [
    {
     "data": {
      "text/plain": [
       "['sumi', 12, 'ayman', 'marufa', 14, 'sumi']"
      ]
     },
     "execution_count": 21,
     "metadata": {},
     "output_type": "execute_result"
    }
   ],
   "source": [
    "a"
   ]
  },
  {
   "cell_type": "code",
   "execution_count": 23,
   "id": "dabf4585",
   "metadata": {},
   "outputs": [],
   "source": [
    "##list.remove(obj) -remove object from its first index \n",
    "a.remove('sumi')"
   ]
  },
  {
   "cell_type": "code",
   "execution_count": 24,
   "id": "ded621b1",
   "metadata": {},
   "outputs": [
    {
     "data": {
      "text/plain": [
       "[12, 'ayman', 'marufa', 14, 'sumi']"
      ]
     },
     "execution_count": 24,
     "metadata": {},
     "output_type": "execute_result"
    }
   ],
   "source": [
    "a"
   ]
  },
  {
   "cell_type": "code",
   "execution_count": 25,
   "id": "111d51eb",
   "metadata": {},
   "outputs": [],
   "source": [
    "##list.reverse()"
   ]
  },
  {
   "cell_type": "code",
   "execution_count": 26,
   "id": "b8793f65",
   "metadata": {},
   "outputs": [],
   "source": [
    "a.reverse()"
   ]
  },
  {
   "cell_type": "code",
   "execution_count": 27,
   "id": "71d19b69",
   "metadata": {},
   "outputs": [
    {
     "data": {
      "text/plain": [
       "['sumi', 14, 'marufa', 'ayman', 12]"
      ]
     },
     "execution_count": 27,
     "metadata": {},
     "output_type": "execute_result"
    }
   ],
   "source": [
    "a"
   ]
  },
  {
   "cell_type": "code",
   "execution_count": 28,
   "id": "3d255cb4",
   "metadata": {},
   "outputs": [],
   "source": [
    "#sort() :sort the element in ascending order or descending order\n",
    "#list.sort(reverse=True)\n",
    "#list.sort(reverse = False)"
   ]
  },
  {
   "cell_type": "code",
   "execution_count": 30,
   "id": "354b9218",
   "metadata": {},
   "outputs": [],
   "source": [
    "b =[3,2,6,7,4,9]"
   ]
  },
  {
   "cell_type": "code",
   "execution_count": 31,
   "id": "8260c488",
   "metadata": {},
   "outputs": [],
   "source": [
    "b.sort()"
   ]
  },
  {
   "cell_type": "code",
   "execution_count": 35,
   "id": "ee943646",
   "metadata": {},
   "outputs": [
    {
     "data": {
      "text/plain": [
       "[2, 3, 4, 6, 7, 9]"
      ]
     },
     "execution_count": 35,
     "metadata": {},
     "output_type": "execute_result"
    }
   ],
   "source": [
    "b"
   ]
  },
  {
   "cell_type": "code",
   "execution_count": 37,
   "id": "3d405371",
   "metadata": {},
   "outputs": [],
   "source": [
    "b.sort(reverse=True)"
   ]
  },
  {
   "cell_type": "code",
   "execution_count": 38,
   "id": "7bebde2d",
   "metadata": {},
   "outputs": [
    {
     "data": {
      "text/plain": [
       "[9, 7, 6, 4, 3, 2]"
      ]
     },
     "execution_count": 38,
     "metadata": {},
     "output_type": "execute_result"
    }
   ],
   "source": [
    "b"
   ]
  },
  {
   "cell_type": "code",
   "execution_count": 39,
   "id": "60efab8b",
   "metadata": {},
   "outputs": [
    {
     "data": {
      "text/plain": [
       "2"
      ]
     },
     "execution_count": 39,
     "metadata": {},
     "output_type": "execute_result"
    }
   ],
   "source": [
    "##pop(): remove last element from the list\n",
    "#list.pop()\n",
    "b.pop()"
   ]
  },
  {
   "cell_type": "code",
   "execution_count": 40,
   "id": "341e6765",
   "metadata": {},
   "outputs": [
    {
     "data": {
      "text/plain": [
       "[9, 7, 6, 4, 3]"
      ]
     },
     "execution_count": 40,
     "metadata": {},
     "output_type": "execute_result"
    }
   ],
   "source": [
    "b"
   ]
  },
  {
   "cell_type": "markdown",
   "id": "a026ffd3",
   "metadata": {},
   "source": [
    "## Basic list program"
   ]
  },
  {
   "cell_type": "raw",
   "id": "09e873bc",
   "metadata": {},
   "source": [
    "1. Python program to find sum of List elements\n",
    "2.program to count the total number of odd and even number in the list\n",
    "3.program to find sum of even numbers and product of odd numbers in the list\n",
    "4.product to count frequency of a given number\n",
    "5.program to search a number of the list\n",
    "6.program to find maximum number of the list\n",
    "7.program to find minimum number of the list\n",
    "8.program to reverse the list itself\n",
    "9.program to insert a number at given index in a list\n",
    "10.program to remove a given number from alist"
   ]
  },
  {
   "cell_type": "markdown",
   "id": "122185d6",
   "metadata": {},
   "source": [
    "1. Python program to find sum of List elements"
   ]
  },
  {
   "cell_type": "code",
   "execution_count": 41,
   "id": "eb7016ee",
   "metadata": {},
   "outputs": [],
   "source": [
    "def add_(lst):\n",
    "    sum_ =0\n",
    "    for i in range(len(lst)):\n",
    "        sum_ = sum_ + lst[i]\n",
    "    return sum_\n",
    "        \n",
    "    "
   ]
  },
  {
   "cell_type": "code",
   "execution_count": 42,
   "id": "faa9fa48",
   "metadata": {},
   "outputs": [
    {
     "data": {
      "text/plain": [
       "15"
      ]
     },
     "execution_count": 42,
     "metadata": {},
     "output_type": "execute_result"
    }
   ],
   "source": [
    "add_([1,2,3,4,5])"
   ]
  },
  {
   "cell_type": "code",
   "execution_count": null,
   "id": "a3d62c5a",
   "metadata": {},
   "outputs": [],
   "source": [
    "## write a program to determine the sum of list elements which are greater than 5 and less than 10"
   ]
  },
  {
   "cell_type": "code",
   "execution_count": 45,
   "id": "0168c1c7",
   "metadata": {},
   "outputs": [],
   "source": [
    "def addition(lst):\n",
    "    s =0\n",
    "    for i in range(len(lst)):\n",
    "        if lst[i]>=5 and lst[i]<=10:\n",
    "            s =s+lst[i]\n",
    "    return s"
   ]
  },
  {
   "cell_type": "code",
   "execution_count": 46,
   "id": "73bbff3e",
   "metadata": {},
   "outputs": [
    {
     "data": {
      "text/plain": [
       "15"
      ]
     },
     "execution_count": 46,
     "metadata": {},
     "output_type": "execute_result"
    }
   ],
   "source": [
    "addition([4,5,10,12])"
   ]
  },
  {
   "cell_type": "markdown",
   "id": "34f31950",
   "metadata": {},
   "source": [
    "program to find the sum of  the  odd and even number in the list"
   ]
  },
  {
   "cell_type": "code",
   "execution_count": 49,
   "id": "d6516a40",
   "metadata": {},
   "outputs": [],
   "source": [
    "##Fisrt approach\n",
    "def odd_even_sum(lst):\n",
    "    odd_sum =0\n",
    "    even_sum=0\n",
    "    for i in range(len(lst)):\n",
    "        if lst[i]%2==0:\n",
    "            even_sum+=lst[i]\n",
    "        else:\n",
    "            odd_sum+=lst[i]\n",
    "    print('sum of odd number = ',odd_sum)\n",
    "    print('sum of even number = ', even_sum)"
   ]
  },
  {
   "cell_type": "code",
   "execution_count": 50,
   "id": "85555678",
   "metadata": {},
   "outputs": [
    {
     "name": "stdout",
     "output_type": "stream",
     "text": [
      "sum of odd number =  25\n",
      "sum of even number =  30\n"
     ]
    }
   ],
   "source": [
    "odd_even_sum([1,2,3,4,5,6,7,8,9,10])"
   ]
  },
  {
   "cell_type": "code",
   "execution_count": 51,
   "id": "3c798a1c",
   "metadata": {},
   "outputs": [],
   "source": [
    "##second approach\n",
    "def o_e_sum(lst):\n",
    "    odd=0\n",
    "    even =0\n",
    "    for i in lst:\n",
    "        if i%2==0:\n",
    "            even +=i\n",
    "        else:\n",
    "            odd+=i\n",
    "    print('even =',even)\n",
    "    print('odd = ',odd)"
   ]
  },
  {
   "cell_type": "code",
   "execution_count": 52,
   "id": "f2f34afe",
   "metadata": {},
   "outputs": [
    {
     "name": "stdout",
     "output_type": "stream",
     "text": [
      "even = 30\n",
      "odd =  25\n"
     ]
    }
   ],
   "source": [
    "o_e_sum([1,2,3,4,5,6,7,8,9,10])"
   ]
  },
  {
   "cell_type": "markdown",
   "id": "35164354",
   "metadata": {},
   "source": [
    "2.program to count the total number of odd and even number in the list"
   ]
  },
  {
   "cell_type": "code",
   "execution_count": 65,
   "id": "c5a27437",
   "metadata": {},
   "outputs": [],
   "source": [
    "## first approach\n",
    "def count_odd_even(lst):\n",
    "    even =0\n",
    "    odd = 0\n",
    "    for i in lst:\n",
    "        if i%2==0:\n",
    "            even+=1\n",
    "        else:\n",
    "            odd+=1\n",
    "    print(\"Total Odd number: \",odd)\n",
    "    print(\"Total even number: \", even)"
   ]
  },
  {
   "cell_type": "code",
   "execution_count": 66,
   "id": "29af859a",
   "metadata": {},
   "outputs": [
    {
     "name": "stdout",
     "output_type": "stream",
     "text": [
      "Total Odd number:  3\n",
      "Total even number:  3\n"
     ]
    }
   ],
   "source": [
    "count_odd_even([1,2,3,4,5,6])"
   ]
  },
  {
   "cell_type": "code",
   "execution_count": 67,
   "id": "4dfc88c7",
   "metadata": {},
   "outputs": [],
   "source": [
    "##Second approach\n",
    "def odd_even_count(lst):\n",
    "    odd =0\n",
    "    even =0\n",
    "    for i in range(len(lst)):\n",
    "        if lst[i]%2==0:\n",
    "            even +=1\n",
    "        else:\n",
    "            odd+=1\n",
    "    print(\"Odd = \",odd)\n",
    "    print(\"even = \",even)"
   ]
  },
  {
   "cell_type": "code",
   "execution_count": 69,
   "id": "32d1209b",
   "metadata": {},
   "outputs": [
    {
     "name": "stdout",
     "output_type": "stream",
     "text": [
      "Odd =  3\n",
      "even =  3\n"
     ]
    }
   ],
   "source": [
    "odd_even_count([1,2,3,4,5,6])"
   ]
  },
  {
   "cell_type": "markdown",
   "id": "c2b8c21d",
   "metadata": {},
   "source": [
    "3.program to find sum of even numbers and product of odd numbers in the list"
   ]
  },
  {
   "cell_type": "code",
   "execution_count": 68,
   "id": "bbe32824",
   "metadata": {},
   "outputs": [],
   "source": [
    "##First approach'\n",
    "\n",
    "def odd_even(lst):\n",
    "    o=1\n",
    "    e = 0\n",
    "    for i in range(len(lst)):\n",
    "        if lst[i]%2==0:\n",
    "            e += lst[i]\n",
    "        else:\n",
    "            o *= lst[i]\n",
    "            \n",
    "    print(\" Even sum = \", e)\n",
    "    print('odd product = ', o)"
   ]
  },
  {
   "cell_type": "code",
   "execution_count": null,
   "id": "e3243c78",
   "metadata": {},
   "outputs": [],
   "source": []
  },
  {
   "cell_type": "code",
   "execution_count": 62,
   "id": "4a246983",
   "metadata": {},
   "outputs": [
    {
     "name": "stdout",
     "output_type": "stream",
     "text": [
      " Even sum =  30\n",
      "odd product =  945\n"
     ]
    }
   ],
   "source": [
    "odd_even([1,2,3,4,5,6,7,8,9,10])"
   ]
  },
  {
   "cell_type": "code",
   "execution_count": 58,
   "id": "c39de7fc",
   "metadata": {},
   "outputs": [],
   "source": [
    "def o_e(lst):\n",
    "    odd=1\n",
    "    even =0\n",
    "    for i in lst:\n",
    "        if i%2==0:\n",
    "            even +=i\n",
    "        else:\n",
    "            odd*=i\n",
    "    print('even =',even)\n",
    "    print('odd = ',odd)"
   ]
  },
  {
   "cell_type": "code",
   "execution_count": 59,
   "id": "53ce3eba",
   "metadata": {},
   "outputs": [
    {
     "name": "stdout",
     "output_type": "stream",
     "text": [
      "even = 30\n",
      "odd =  945\n"
     ]
    }
   ],
   "source": [
    "o_e([1,2,3,4,5,6,7,8,9,10])"
   ]
  },
  {
   "cell_type": "markdown",
   "id": "cb1e024b",
   "metadata": {},
   "source": [
    "4.program to count frequency of a given number"
   ]
  },
  {
   "cell_type": "code",
   "execution_count": 78,
   "id": "410c83cb",
   "metadata": {},
   "outputs": [
    {
     "data": {
      "text/plain": [
       "4"
      ]
     },
     "execution_count": 78,
     "metadata": {},
     "output_type": "execute_result"
    }
   ],
   "source": [
    "##approach 1\n",
    "lst = [1,2,3,3,3,3,4,5,6]\n",
    "lst.count(3)"
   ]
  },
  {
   "cell_type": "code",
   "execution_count": 80,
   "id": "12f4cc0f",
   "metadata": {},
   "outputs": [
    {
     "name": "stdout",
     "output_type": "stream",
     "text": [
      "1\n"
     ]
    }
   ],
   "source": [
    "##approach 2\n",
    "lst = [1,2,3,4,5,6,7]\n",
    "\n",
    "count = 0\n",
    "key = 7\n",
    "for i in range(len(lst)):\n",
    "    if lst[i]==key:\n",
    "        count=count+1\n",
    "print(count)"
   ]
  },
  {
   "cell_type": "code",
   "execution_count": null,
   "id": "9785dd86",
   "metadata": {},
   "outputs": [],
   "source": []
  },
  {
   "cell_type": "markdown",
   "id": "ae30e54e",
   "metadata": {},
   "source": [
    "5.program to search a number in the list"
   ]
  },
  {
   "cell_type": "code",
   "execution_count": 77,
   "id": "df06d926",
   "metadata": {},
   "outputs": [
    {
     "name": "stdout",
     "output_type": "stream",
     "text": [
      "Found position at 3\n"
     ]
    }
   ],
   "source": [
    "##sequential/linear search -normal search we do\n",
    "\n",
    "lst = [1,2,3,4,5,6]\n",
    "flag =0\n",
    "position = 0\n",
    "for i in range(len(lst)):\n",
    "    if lst[i]==3:\n",
    "        flag +=1\n",
    "        position = i+1\n",
    "        break\n",
    "        \n",
    "if flag==1:\n",
    "    print('Found '+ 'position at',position)\n",
    "else:\n",
    "    print('Not found')\n",
    "\n",
    "        \n",
    "    "
   ]
  },
  {
   "cell_type": "markdown",
   "id": "c46cd81a",
   "metadata": {},
   "source": [
    "Find Max anfd Minimum number in a python list"
   ]
  },
  {
   "cell_type": "code",
   "execution_count": 83,
   "id": "4b29b8e4",
   "metadata": {},
   "outputs": [],
   "source": [
    "def find_max(lst):\n",
    "    max_ = lst[0]\n",
    "    for i in range(len(lst)):\n",
    "        if max_ <= lst[i]:\n",
    "            max_ = lst[i]\n",
    "    return max_\n",
    "\n",
    "            \n"
   ]
  },
  {
   "cell_type": "code",
   "execution_count": 84,
   "id": "c4098e9d",
   "metadata": {},
   "outputs": [
    {
     "data": {
      "text/plain": [
       "4"
      ]
     },
     "execution_count": 84,
     "metadata": {},
     "output_type": "execute_result"
    }
   ],
   "source": [
    "find_max([1,2,3,4])"
   ]
  },
  {
   "cell_type": "code",
   "execution_count": 85,
   "id": "a411d2be",
   "metadata": {},
   "outputs": [],
   "source": [
    "def find_min(lst):\n",
    "    min_= 0 # This is the problem if we dont use indexing\n",
    "    for i in lst:\n",
    "        if min_>i:\n",
    "            min_= i\n",
    "    return min_"
   ]
  },
  {
   "cell_type": "code",
   "execution_count": 86,
   "id": "14b9c802",
   "metadata": {},
   "outputs": [
    {
     "data": {
      "text/plain": [
       "0"
      ]
     },
     "execution_count": 86,
     "metadata": {},
     "output_type": "execute_result"
    }
   ],
   "source": [
    "find_min([1,2,3,4,5])"
   ]
  },
  {
   "cell_type": "code",
   "execution_count": 87,
   "id": "c39fcd81",
   "metadata": {},
   "outputs": [],
   "source": [
    "def find_min(lst):\n",
    "    min_= lst[0]\n",
    "    for i in range(len(lst)):\n",
    "        if min_>lst[i]:\n",
    "            min_= lst[i]\n",
    "    return min_"
   ]
  },
  {
   "cell_type": "code",
   "execution_count": 88,
   "id": "1760ee56",
   "metadata": {},
   "outputs": [
    {
     "data": {
      "text/plain": [
       "1"
      ]
     },
     "execution_count": 88,
     "metadata": {},
     "output_type": "execute_result"
    }
   ],
   "source": [
    "find_min([1,2,3,4,5])"
   ]
  },
  {
   "cell_type": "markdown",
   "id": "c7f46bc9",
   "metadata": {},
   "source": [
    "## program to find lowest and second lowest number from a list"
   ]
  },
  {
   "cell_type": "code",
   "execution_count": 92,
   "id": "dd77cc54",
   "metadata": {},
   "outputs": [
    {
     "name": "stdout",
     "output_type": "stream",
     "text": [
      "min =  1\n",
      "second min =  2\n",
      "max =  6\n"
     ]
    }
   ],
   "source": [
    "lst = [1,2,3,4,5,6]\n",
    "mi = lst[0]\n",
    "for i in range(len(lst)):\n",
    "    lst.sort()\n",
    "print(\"min = \", lst[0])\n",
    "print(\"second min = \" ,lst[1])\n",
    "print(\"max = \",lst[-1])\n",
    "    \n",
    "    \n",
    "   \n",
    "    "
   ]
  },
  {
   "cell_type": "markdown",
   "id": "411e508f",
   "metadata": {},
   "source": [
    "### Q. write a program to shift all the element of a list one step left\n",
    "input: 5,10,15,20,25\n",
    "\n",
    "output:10,15,20,25,5"
   ]
  },
  {
   "cell_type": "code",
   "execution_count": 97,
   "id": "a76dafdf",
   "metadata": {},
   "outputs": [
    {
     "name": "stdout",
     "output_type": "stream",
     "text": [
      "Enter the size of your list : 5\n",
      "Enter element : 1\n",
      "Enter element : 2\n",
      "Enter element : 3\n",
      "Enter element : 4\n",
      "Enter element : 5\n",
      "[1, 2, 3, 4, 5]\n",
      "[2, 3, 4, 5, 1]\n"
     ]
    }
   ],
   "source": [
    "##dynamic list\n",
    "a =[]\n",
    "size = int(input(\"Enter the size of your list : \"))\n",
    "for i in range(size):\n",
    "    val = int(input(\"Enter element : \"))\n",
    "    a.append(val)\n",
    "print (a)\n",
    "\n",
    "key = a[0]\n",
    "for i in range(1,size):\n",
    "    a[i-1]=a[i]\n",
    "a[size-1]=key\n",
    "print(a)"
   ]
  },
  {
   "cell_type": "code",
   "execution_count": 100,
   "id": "e3a18484",
   "metadata": {},
   "outputs": [
    {
     "name": "stdout",
     "output_type": "stream",
     "text": [
      "Enter the size of your list : 5\n",
      "Enter element : 1\n",
      "Enter element : 2\n",
      "Enter element : 3\n",
      "Enter element : 4\n",
      "Enter element : 5\n",
      "[1, 2, 3, 4, 5]\n",
      "[5, 1, 2, 3, 4]\n"
     ]
    }
   ],
   "source": [
    "##dynamic list-right shift\n",
    "a =[]\n",
    "size = int(input(\"Enter the size of your list : \"))\n",
    "for i in range(size):\n",
    "    val = int(input(\"Enter element : \"))\n",
    "    a.append(val)\n",
    "print (a)\n",
    "\n",
    "last_element = a[size-1]\n",
    "for i in range(size-2,-1,-1):\n",
    "    a[i+1]=a[i]\n",
    "a[0]=last_element\n",
    "print(a)"
   ]
  },
  {
   "cell_type": "code",
   "execution_count": 1,
   "id": "19d166ce",
   "metadata": {},
   "outputs": [],
   "source": [
    "##Inserting an element at a given position in a list\n"
   ]
  },
  {
   "cell_type": "code",
   "execution_count": null,
   "id": "36c0e701",
   "metadata": {},
   "outputs": [],
   "source": [
    "##COFFE _ SHOP_ORDER"
   ]
  },
  {
   "cell_type": "code",
   "execution_count": 2,
   "id": "a8a7002e",
   "metadata": {},
   "outputs": [],
   "source": [
    "def coffee_order(lst):\n",
    "    flag =0\n",
    "    for i in range(0,len(lst)):\n",
    "        if lst[i] in lst:\n",
    "            flag+=1\n",
    "    if flag>=2:\n",
    "        return True\n",
    "    else:\n",
    "        return False"
   ]
  },
  {
   "cell_type": "code",
   "execution_count": 3,
   "id": "0f7e6778",
   "metadata": {},
   "outputs": [
    {
     "data": {
      "text/plain": [
       "True"
      ]
     },
     "execution_count": 3,
     "metadata": {},
     "output_type": "execute_result"
    }
   ],
   "source": [
    "coffee_order(['americano','latte','latte','americano','expresso'])"
   ]
  },
  {
   "cell_type": "code",
   "execution_count": null,
   "id": "95b062d8",
   "metadata": {},
   "outputs": [],
   "source": []
  }
 ],
 "metadata": {
  "kernelspec": {
   "display_name": "Python 3 (ipykernel)",
   "language": "python",
   "name": "python3"
  },
  "language_info": {
   "codemirror_mode": {
    "name": "ipython",
    "version": 3
   },
   "file_extension": ".py",
   "mimetype": "text/x-python",
   "name": "python",
   "nbconvert_exporter": "python",
   "pygments_lexer": "ipython3",
   "version": "3.9.13"
  }
 },
 "nbformat": 4,
 "nbformat_minor": 5
}
