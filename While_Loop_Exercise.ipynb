{
 "cells": [
  {
   "cell_type": "raw",
   "id": "6909b317",
   "metadata": {},
   "source": [
    "## Write a program to print from 1 to 10\n",
    "step of looping\n",
    "Initialization - starting point\n",
    "condition - compare the strating value with the last value\n",
    "increment/decrement"
   ]
  },
  {
   "cell_type": "code",
   "execution_count": 2,
   "id": "4ad3904b",
   "metadata": {},
   "outputs": [
    {
     "name": "stdout",
     "output_type": "stream",
     "text": [
      "1\n",
      "2\n",
      "3\n",
      "4\n",
      "5\n",
      "6\n",
      "7\n",
      "8\n",
      "9\n",
      "10\n"
     ]
    }
   ],
   "source": [
    "\n",
    "i = 1\n",
    "while i<=10:\n",
    "    print(i)\n",
    "    i+=1\n",
    "    "
   ]
  },
  {
   "cell_type": "code",
   "execution_count": 3,
   "id": "cb527937",
   "metadata": {},
   "outputs": [],
   "source": [
    "##Write a python program to print from 1 to n"
   ]
  },
  {
   "cell_type": "code",
   "execution_count": 5,
   "id": "c50cebb2",
   "metadata": {},
   "outputs": [
    {
     "name": "stdout",
     "output_type": "stream",
     "text": [
      "Enter your number12\n",
      "1\n",
      "2\n",
      "3\n",
      "4\n",
      "5\n",
      "6\n",
      "7\n",
      "8\n",
      "9\n",
      "10\n",
      "11\n",
      "12\n"
     ]
    }
   ],
   "source": [
    "n = int(input(\"Enter your number\"))\n",
    "i =1\n",
    "while i<=n:\n",
    "    print(i)\n",
    "    i+=1"
   ]
  },
  {
   "cell_type": "code",
   "execution_count": 6,
   "id": "47337d2b",
   "metadata": {},
   "outputs": [],
   "source": [
    "## Write a python program to print from 10 to 1"
   ]
  },
  {
   "cell_type": "code",
   "execution_count": 7,
   "id": "eeddfe40",
   "metadata": {},
   "outputs": [
    {
     "name": "stdout",
     "output_type": "stream",
     "text": [
      "10\n",
      "9\n",
      "8\n",
      "7\n",
      "6\n",
      "5\n",
      "4\n",
      "3\n",
      "2\n",
      "1\n"
     ]
    }
   ],
   "source": [
    "i = 10\n",
    "while i>=1:\n",
    "    print(i)\n",
    "    i -= 1"
   ]
  },
  {
   "cell_type": "code",
   "execution_count": 8,
   "id": "8917ad71",
   "metadata": {},
   "outputs": [],
   "source": [
    "##Write a python program to print n to 1"
   ]
  },
  {
   "cell_type": "code",
   "execution_count": 10,
   "id": "11449794",
   "metadata": {},
   "outputs": [
    {
     "name": "stdout",
     "output_type": "stream",
     "text": [
      "Enter your number: 5\n",
      "5\n",
      "4\n",
      "3\n",
      "2\n",
      "1\n"
     ]
    }
   ],
   "source": [
    "n = int(input(\"Enter your number: \"))\n",
    "i = n\n",
    "while i >=1:\n",
    "    print(i)\n",
    "    i -=1"
   ]
  },
  {
   "cell_type": "code",
   "execution_count": 11,
   "id": "c052cdf0",
   "metadata": {},
   "outputs": [],
   "source": [
    "## Write a python program to find sum from 1 to n\n",
    "#starting point =1\n",
    "#end point =n\n"
   ]
  },
  {
   "cell_type": "code",
   "execution_count": 15,
   "id": "df41c64b",
   "metadata": {},
   "outputs": [
    {
     "name": "stdout",
     "output_type": "stream",
     "text": [
      "Enter your number: 5\n",
      "sum = 15\n"
     ]
    }
   ],
   "source": [
    "n =int(input(\"Enter your number: \"))\n",
    "i = 1\n",
    "sum_ =0\n",
    "while i<=n:\n",
    "    sum_ = sum_ + i\n",
    "    i +=1\n",
    "print(\"sum =\" ,sum_)"
   ]
  },
  {
   "cell_type": "code",
   "execution_count": 16,
   "id": "cc0e88ee",
   "metadata": {},
   "outputs": [],
   "source": [
    "##Write a python program to print sum of square from 1 to n\n",
    "# start =1\n",
    "#end = n"
   ]
  },
  {
   "cell_type": "code",
   "execution_count": 17,
   "id": "e9dd1aa3",
   "metadata": {},
   "outputs": [
    {
     "name": "stdout",
     "output_type": "stream",
     "text": [
      "Enter your number5\n",
      "55\n"
     ]
    }
   ],
   "source": [
    "n = int(input(\"Enter your number\"))\n",
    "i = 1\n",
    "sum_square = 0\n",
    "while i<=n:\n",
    "    sum_square = sum_square +(i*i)\n",
    "    i+=1\n",
    "print(sum_square)"
   ]
  },
  {
   "cell_type": "code",
   "execution_count": 18,
   "id": "7e9a4103",
   "metadata": {},
   "outputs": [],
   "source": [
    "##Write a python program to print sum of cube from 1 to n\n",
    "# start =1\n",
    "#end = n"
   ]
  },
  {
   "cell_type": "code",
   "execution_count": 19,
   "id": "f2bc1fb3",
   "metadata": {},
   "outputs": [
    {
     "name": "stdout",
     "output_type": "stream",
     "text": [
      "Enter your number5\n",
      "225\n"
     ]
    }
   ],
   "source": [
    "n = int(input(\"Enter your number\"))\n",
    "i = 1\n",
    "sum_cube = 0\n",
    "while i<=n:\n",
    "    sum_cube = sum_cube +(i*i*i)\n",
    "    i+=1\n",
    "print(sum_cube)"
   ]
  },
  {
   "cell_type": "code",
   "execution_count": 20,
   "id": "a9666fb0",
   "metadata": {},
   "outputs": [],
   "source": [
    "## Write a python program to print only even numbers between 1 to n\n",
    "# start point = 1\n",
    "# end point = n"
   ]
  },
  {
   "cell_type": "code",
   "execution_count": 23,
   "id": "155015da",
   "metadata": {},
   "outputs": [
    {
     "name": "stdout",
     "output_type": "stream",
     "text": [
      "Enter your number: 10\n",
      "2\n",
      "4\n",
      "6\n",
      "8\n",
      "10\n"
     ]
    }
   ],
   "source": [
    "n = int(input(\"Enter your number: \"))\n",
    "i = 2\n",
    "while i <=n:\n",
    "    print(i)\n",
    "    i+=2"
   ]
  },
  {
   "cell_type": "code",
   "execution_count": 25,
   "id": "c99d8e0d",
   "metadata": {},
   "outputs": [
    {
     "name": "stdout",
     "output_type": "stream",
     "text": [
      "Enter your number: 10\n",
      "2\n",
      "4\n",
      "6\n",
      "8\n",
      "10\n"
     ]
    }
   ],
   "source": [
    "##Another approach\n",
    "n = int(input(\"Enter your number: \"))\n",
    "i = 1\n",
    "while i <=n:\n",
    "    if i%2==0:\n",
    "        print(i)\n",
    "    i+=1"
   ]
  },
  {
   "cell_type": "code",
   "execution_count": 26,
   "id": "ab5d0b0b",
   "metadata": {},
   "outputs": [],
   "source": [
    "## Write a python program to print sum of even numbers from 1 to n"
   ]
  },
  {
   "cell_type": "code",
   "execution_count": 1,
   "id": "4cb1d2fe",
   "metadata": {},
   "outputs": [
    {
     "name": "stdout",
     "output_type": "stream",
     "text": [
      "Enter your number: 10\n",
      "30\n"
     ]
    }
   ],
   "source": [
    "n = int(input(\"Enter your number: \"))\n",
    "i = 2\n",
    "s =0\n",
    "while i<=n:\n",
    "    s = s+i\n",
    "    i +=2\n",
    "print(s)\n",
    "    "
   ]
  },
  {
   "cell_type": "code",
   "execution_count": 3,
   "id": "40be37bf",
   "metadata": {},
   "outputs": [
    {
     "name": "stdout",
     "output_type": "stream",
     "text": [
      "Enter your number: 10\n",
      "30\n"
     ]
    }
   ],
   "source": [
    "#Another approach\n",
    "n = int(input(\"Enter your number: \"))\n",
    "i = 1\n",
    "s =0\n",
    "while i<=n:\n",
    "    if i%2 ==0:\n",
    "        s = s+i\n",
    "    i +=1\n",
    "print(s)"
   ]
  },
  {
   "cell_type": "code",
   "execution_count": 4,
   "id": "e55d73bf",
   "metadata": {},
   "outputs": [],
   "source": [
    "##Q.10 Write a python program to find sum of first n even numbers"
   ]
  },
  {
   "cell_type": "code",
   "execution_count": 7,
   "id": "64536155",
   "metadata": {},
   "outputs": [
    {
     "name": "stdout",
     "output_type": "stream",
     "text": [
      "How many even numbers you want to add: 5\n",
      " sum of first  5  even numbers =  30\n"
     ]
    }
   ],
   "source": [
    "n = int(input(\"How many even numbers you want to add: \"))\n",
    "i = 1\n",
    "s = 0\n",
    "count = 0\n",
    "while count<n:# it will start from 0 if 3  0 1 2 thats why = is not use\n",
    "    if i%2 == 0:\n",
    "        s = s+i\n",
    "        count = count+1\n",
    "    i = i+1\n",
    "print (\" sum of first \", count ,  \" even numbers = \",s)\n",
    "    "
   ]
  },
  {
   "cell_type": "code",
   "execution_count": null,
   "id": "072121a7",
   "metadata": {},
   "outputs": [],
   "source": []
  }
 ],
 "metadata": {
  "kernelspec": {
   "display_name": "Python 3 (ipykernel)",
   "language": "python",
   "name": "python3"
  },
  "language_info": {
   "codemirror_mode": {
    "name": "ipython",
    "version": 3
   },
   "file_extension": ".py",
   "mimetype": "text/x-python",
   "name": "python",
   "nbconvert_exporter": "python",
   "pygments_lexer": "ipython3",
   "version": "3.9.13"
  }
 },
 "nbformat": 4,
 "nbformat_minor": 5
}
