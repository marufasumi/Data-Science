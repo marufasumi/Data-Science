{
 "cells": [
  {
   "cell_type": "code",
   "execution_count": 1,
   "id": "e0b78b25",
   "metadata": {},
   "outputs": [],
   "source": [
    "##print 1 to 10 using for loop"
   ]
  },
  {
   "cell_type": "code",
   "execution_count": 2,
   "id": "05c29776",
   "metadata": {},
   "outputs": [
    {
     "name": "stdout",
     "output_type": "stream",
     "text": [
      "1\n",
      "2\n",
      "3\n",
      "4\n",
      "5\n",
      "6\n",
      "7\n",
      "8\n",
      "9\n",
      "10\n"
     ]
    }
   ],
   "source": [
    "for i in range(1,11): # by default it increase 1\n",
    "    print(i)"
   ]
  },
  {
   "cell_type": "code",
   "execution_count": 3,
   "id": "f187bb97",
   "metadata": {},
   "outputs": [],
   "source": [
    "## print 10 to 1 using for loop"
   ]
  },
  {
   "cell_type": "code",
   "execution_count": 6,
   "id": "89fad8cc",
   "metadata": {},
   "outputs": [
    {
     "name": "stdout",
     "output_type": "stream",
     "text": [
      "10\n",
      "9\n",
      "8\n",
      "7\n",
      "6\n",
      "5\n",
      "4\n",
      "3\n",
      "2\n",
      "1\n",
      "program terminated\n"
     ]
    }
   ],
   "source": [
    "#for i in range(start value, end value, step)\n",
    "for i in range(10,0,-1):\n",
    "    print(i)\n",
    "    \n",
    "else:\n",
    "    print(\"program terminated\")"
   ]
  },
  {
   "cell_type": "raw",
   "id": "509f386f",
   "metadata": {},
   "source": [
    "##write a program to print of a given table\n",
    "5*1 =1\n",
    "5 *2 =2\n",
    ".....\n",
    "5*1=50\n",
    "\n",
    "logic:\n",
    "x = fixed value 5\n",
    "loop y =1 to 10\n",
    "print x*y\n"
   ]
  },
  {
   "cell_type": "code",
   "execution_count": 7,
   "id": "b78f08e3",
   "metadata": {},
   "outputs": [
    {
     "name": "stdout",
     "output_type": "stream",
     "text": [
      "Enter your number : 5\n",
      "5\n",
      "10\n",
      "15\n",
      "20\n",
      "25\n",
      "30\n",
      "35\n",
      "40\n",
      "45\n",
      "50\n"
     ]
    }
   ],
   "source": [
    "x = int(input(\"Enter your number : \"))\n",
    "for y in range(1,11):\n",
    "    print(x*y)"
   ]
  },
  {
   "cell_type": "code",
   "execution_count": 8,
   "id": "6dc294e4",
   "metadata": {},
   "outputs": [],
   "source": [
    "##using while loop"
   ]
  },
  {
   "cell_type": "code",
   "execution_count": 10,
   "id": "f7cb5036",
   "metadata": {},
   "outputs": [
    {
     "name": "stdout",
     "output_type": "stream",
     "text": [
      "Enter No: 5\n",
      "5\n",
      "10\n",
      "15\n",
      "20\n",
      "25\n",
      "30\n",
      "35\n",
      "40\n",
      "45\n",
      "50\n"
     ]
    }
   ],
   "source": [
    "x = int(input (\"Enter No: \"))\n",
    "y =1\n",
    "while y<=10:\n",
    "    print(x*y)\n",
    "    y=y+1\n"
   ]
  },
  {
   "cell_type": "code",
   "execution_count": null,
   "id": "ab8faf1e",
   "metadata": {},
   "outputs": [],
   "source": []
  }
 ],
 "metadata": {
  "kernelspec": {
   "display_name": "Python 3 (ipykernel)",
   "language": "python",
   "name": "python3"
  },
  "language_info": {
   "codemirror_mode": {
    "name": "ipython",
    "version": 3
   },
   "file_extension": ".py",
   "mimetype": "text/x-python",
   "name": "python",
   "nbconvert_exporter": "python",
   "pygments_lexer": "ipython3",
   "version": "3.9.13"
  }
 },
 "nbformat": 4,
 "nbformat_minor": 5
}
