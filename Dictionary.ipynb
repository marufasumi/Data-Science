{
 "cells": [
  {
   "cell_type": "raw",
   "id": "79911988",
   "metadata": {},
   "source": [
    "A dictionary is a collection which is unordered , changable and indexed. In python dictionaries are written within curly braces and they have keys and values. This means the dictionary contains two things, the first is the key and the second is the value."
   ]
  },
  {
   "cell_type": "code",
   "execution_count": 1,
   "id": "9519fef9",
   "metadata": {},
   "outputs": [],
   "source": [
    "dict1 = {'brand':'suzuki', 'model':'Dzire', 'year': '2020'}"
   ]
  },
  {
   "cell_type": "code",
   "execution_count": 2,
   "id": "69e2fb2a",
   "metadata": {},
   "outputs": [
    {
     "data": {
      "text/plain": [
       "{'brand': 'suzuki', 'model': 'Dzire', 'year': '2020'}"
      ]
     },
     "execution_count": 2,
     "metadata": {},
     "output_type": "execute_result"
    }
   ],
   "source": [
    "dict1"
   ]
  },
  {
   "cell_type": "markdown",
   "id": "affc88e0",
   "metadata": {},
   "source": [
    "### Accessing items"
   ]
  },
  {
   "cell_type": "markdown",
   "id": "09d5afbb",
   "metadata": {},
   "source": [
    "you can access the items of a dictionary by reffering to its key name,inside square bracket."
   ]
  },
  {
   "cell_type": "code",
   "execution_count": 3,
   "id": "6807fa10",
   "metadata": {},
   "outputs": [
    {
     "data": {
      "text/plain": [
       "{'brand': 'suzuki', 'model': 'Dzire', 'year': '2020'}"
      ]
     },
     "execution_count": 3,
     "metadata": {},
     "output_type": "execute_result"
    }
   ],
   "source": [
    "dict1"
   ]
  },
  {
   "cell_type": "code",
   "execution_count": 5,
   "id": "16848f20",
   "metadata": {},
   "outputs": [],
   "source": [
    "x = dict1['model']"
   ]
  },
  {
   "cell_type": "code",
   "execution_count": 6,
   "id": "6fcb99ae",
   "metadata": {},
   "outputs": [
    {
     "data": {
      "text/plain": [
       "'Dzire'"
      ]
     },
     "execution_count": 6,
     "metadata": {},
     "output_type": "execute_result"
    }
   ],
   "source": [
    "x"
   ]
  },
  {
   "cell_type": "code",
   "execution_count": 7,
   "id": "700c9b49",
   "metadata": {},
   "outputs": [],
   "source": [
    "# there is also a method called get() for the same task."
   ]
  },
  {
   "cell_type": "code",
   "execution_count": 8,
   "id": "942d6866",
   "metadata": {},
   "outputs": [
    {
     "data": {
      "text/plain": [
       "{'brand': 'suzuki', 'model': 'Dzire', 'year': '2020'}"
      ]
     },
     "execution_count": 8,
     "metadata": {},
     "output_type": "execute_result"
    }
   ],
   "source": [
    "dict1"
   ]
  },
  {
   "cell_type": "code",
   "execution_count": 9,
   "id": "2cf63d2b",
   "metadata": {},
   "outputs": [
    {
     "data": {
      "text/plain": [
       "'Dzire'"
      ]
     },
     "execution_count": 9,
     "metadata": {},
     "output_type": "execute_result"
    }
   ],
   "source": [
    "dict1.get('model')"
   ]
  },
  {
   "cell_type": "markdown",
   "id": "1a27ca18",
   "metadata": {},
   "source": [
    "### Loop through a dictionary"
   ]
  },
  {
   "cell_type": "code",
   "execution_count": 12,
   "id": "022a1cb4",
   "metadata": {},
   "outputs": [
    {
     "data": {
      "text/plain": [
       "{'brand': 'suzuki', 'model': 'Dzire', 'year': '2020'}"
      ]
     },
     "execution_count": 12,
     "metadata": {},
     "output_type": "execute_result"
    }
   ],
   "source": [
    "dict1"
   ]
  },
  {
   "cell_type": "code",
   "execution_count": 13,
   "id": "e1273a23",
   "metadata": {},
   "outputs": [
    {
     "name": "stdout",
     "output_type": "stream",
     "text": [
      "brand\n",
      "model\n",
      "year\n"
     ]
    }
   ],
   "source": [
    "##This will print the index value(key )\n",
    "for i in dict1:\n",
    "    print(i)     "
   ]
  },
  {
   "cell_type": "code",
   "execution_count": 14,
   "id": "869ff36a",
   "metadata": {},
   "outputs": [
    {
     "name": "stdout",
     "output_type": "stream",
     "text": [
      "suzuki\n",
      "Dzire\n",
      "2020\n"
     ]
    }
   ],
   "source": [
    "## To print the value\n",
    "for i in dict1:\n",
    "    print(dict1[i])"
   ]
  },
  {
   "cell_type": "code",
   "execution_count": 15,
   "id": "8a603a93",
   "metadata": {},
   "outputs": [
    {
     "data": {
      "text/plain": [
       "{'brand': 'suzuki', 'model': 'Dzire', 'year': '2020'}"
      ]
     },
     "execution_count": 15,
     "metadata": {},
     "output_type": "execute_result"
    }
   ],
   "source": [
    "## We can also use values function to return the values of dictionary\n",
    "dict1"
   ]
  },
  {
   "cell_type": "code",
   "execution_count": 16,
   "id": "c659e3dd",
   "metadata": {},
   "outputs": [
    {
     "name": "stdout",
     "output_type": "stream",
     "text": [
      "suzuki\n",
      "Dzire\n",
      "2020\n"
     ]
    }
   ],
   "source": [
    "for i in dict1.values():\n",
    "    print(i)"
   ]
  },
  {
   "cell_type": "code",
   "execution_count": 17,
   "id": "1abb03ae",
   "metadata": {},
   "outputs": [
    {
     "name": "stdout",
     "output_type": "stream",
     "text": [
      "brand suzuki\n",
      "model Dzire\n",
      "year 2020\n"
     ]
    }
   ],
   "source": [
    "## we can also use item function to return values of dictioanry\n",
    "for i,j in dict1.items():\n",
    "    print(i,j)"
   ]
  },
  {
   "cell_type": "code",
   "execution_count": 27,
   "id": "f9fe53d0",
   "metadata": {},
   "outputs": [
    {
     "data": {
      "text/plain": [
       "{'brand': 'suzuki', 'model': 'suzuki', 'year': '2020'}"
      ]
     },
     "execution_count": 27,
     "metadata": {},
     "output_type": "execute_result"
    }
   ],
   "source": [
    "## Change values-you can change the value of a specific item by referring to its key name\n",
    "dict1\n"
   ]
  },
  {
   "cell_type": "code",
   "execution_count": 28,
   "id": "4107051c",
   "metadata": {},
   "outputs": [],
   "source": [
    "dict1['year']='2022'"
   ]
  },
  {
   "cell_type": "code",
   "execution_count": 29,
   "id": "e3cf465a",
   "metadata": {},
   "outputs": [
    {
     "data": {
      "text/plain": [
       "{'brand': 'suzuki', 'model': 'suzuki', 'year': '2022'}"
      ]
     },
     "execution_count": 29,
     "metadata": {},
     "output_type": "execute_result"
    }
   ],
   "source": [
    "dict1"
   ]
  },
  {
   "cell_type": "markdown",
   "id": "e7147034",
   "metadata": {},
   "source": [
    "### Add update delete elements in dictionary"
   ]
  },
  {
   "cell_type": "code",
   "execution_count": 22,
   "id": "b370815d",
   "metadata": {},
   "outputs": [],
   "source": [
    "## key in dictionary is same as indexing in list"
   ]
  },
  {
   "cell_type": "code",
   "execution_count": 32,
   "id": "5b6a6901",
   "metadata": {},
   "outputs": [
    {
     "name": "stdout",
     "output_type": "stream",
     "text": [
      "Yes\n"
     ]
    }
   ],
   "source": [
    "## check weather a key exists in the dictionary\n",
    "if 'model' in dict1:\n",
    "    print('Yes')\n",
    "else:\n",
    "    print('No')"
   ]
  },
  {
   "cell_type": "code",
   "execution_count": 33,
   "id": "5b947fc9",
   "metadata": {},
   "outputs": [
    {
     "name": "stdout",
     "output_type": "stream",
     "text": [
      "No\n"
     ]
    }
   ],
   "source": [
    "if 'xyz' in dict1:\n",
    "    print('Yes')\n",
    "else:\n",
    "    print('No')"
   ]
  },
  {
   "cell_type": "code",
   "execution_count": 34,
   "id": "5faa0e22",
   "metadata": {},
   "outputs": [
    {
     "data": {
      "text/plain": [
       "{'brand': 'suzuki', 'model': 'suzuki', 'year': '2022'}"
      ]
     },
     "execution_count": 34,
     "metadata": {},
     "output_type": "execute_result"
    }
   ],
   "source": [
    "## How to add element\n",
    "dict1"
   ]
  },
  {
   "cell_type": "code",
   "execution_count": 35,
   "id": "4a26382f",
   "metadata": {},
   "outputs": [],
   "source": [
    "dict1['color'] ='white'"
   ]
  },
  {
   "cell_type": "code",
   "execution_count": 36,
   "id": "79761bca",
   "metadata": {},
   "outputs": [
    {
     "data": {
      "text/plain": [
       "{'brand': 'suzuki', 'model': 'suzuki', 'year': '2022', 'color': 'white'}"
      ]
     },
     "execution_count": 36,
     "metadata": {},
     "output_type": "execute_result"
    }
   ],
   "source": [
    "dict1"
   ]
  },
  {
   "cell_type": "markdown",
   "id": "46359e76",
   "metadata": {},
   "source": [
    "### Dictonary Functions"
   ]
  },
  {
   "cell_type": "markdown",
   "id": "1b90e182",
   "metadata": {},
   "source": [
    "#### 1.len() : used to find length of the dictionary"
   ]
  },
  {
   "cell_type": "code",
   "execution_count": 37,
   "id": "d9414551",
   "metadata": {},
   "outputs": [
    {
     "data": {
      "text/plain": [
       "{'brand': 'suzuki', 'model': 'suzuki', 'year': '2022', 'color': 'white'}"
      ]
     },
     "execution_count": 37,
     "metadata": {},
     "output_type": "execute_result"
    }
   ],
   "source": [
    "dict1"
   ]
  },
  {
   "cell_type": "code",
   "execution_count": 40,
   "id": "29d04d98",
   "metadata": {},
   "outputs": [
    {
     "name": "stdout",
     "output_type": "stream",
     "text": [
      "length of dictonary one is :  4\n"
     ]
    }
   ],
   "source": [
    "print('length of dictonary one is : ',len(dict1))"
   ]
  },
  {
   "cell_type": "markdown",
   "id": "11518183",
   "metadata": {},
   "source": [
    "### Removing items for dictionary\n",
    "There are several methods to remove item from a dictionary.\n",
    "\n",
    "2. pop() : This method removes the element with specified key names"
   ]
  },
  {
   "cell_type": "code",
   "execution_count": 41,
   "id": "a82f5971",
   "metadata": {},
   "outputs": [
    {
     "data": {
      "text/plain": [
       "{'brand': 'suzuki', 'model': 'suzuki', 'year': '2022', 'color': 'white'}"
      ]
     },
     "execution_count": 41,
     "metadata": {},
     "output_type": "execute_result"
    }
   ],
   "source": [
    "dict1"
   ]
  },
  {
   "cell_type": "code",
   "execution_count": 42,
   "id": "dbbc2baa",
   "metadata": {},
   "outputs": [
    {
     "data": {
      "text/plain": [
       "'white'"
      ]
     },
     "execution_count": 42,
     "metadata": {},
     "output_type": "execute_result"
    }
   ],
   "source": [
    "dict1.pop('color')"
   ]
  },
  {
   "cell_type": "code",
   "execution_count": 43,
   "id": "e72a0589",
   "metadata": {},
   "outputs": [
    {
     "data": {
      "text/plain": [
       "{'brand': 'suzuki', 'model': 'suzuki', 'year': '2022'}"
      ]
     },
     "execution_count": 43,
     "metadata": {},
     "output_type": "execute_result"
    }
   ],
   "source": [
    "dict1"
   ]
  },
  {
   "cell_type": "markdown",
   "id": "ac354858",
   "metadata": {},
   "source": [
    "#### popitem() : This method removes the last element of the dictionary "
   ]
  },
  {
   "cell_type": "code",
   "execution_count": 45,
   "id": "6968bffa",
   "metadata": {},
   "outputs": [
    {
     "data": {
      "text/plain": [
       "('year', '2022')"
      ]
     },
     "execution_count": 45,
     "metadata": {},
     "output_type": "execute_result"
    }
   ],
   "source": [
    "dict1.popitem()"
   ]
  },
  {
   "cell_type": "code",
   "execution_count": 46,
   "id": "5a3f4e1e",
   "metadata": {},
   "outputs": [
    {
     "data": {
      "text/plain": [
       "{'brand': 'suzuki', 'model': 'suzuki'}"
      ]
     },
     "execution_count": 46,
     "metadata": {},
     "output_type": "execute_result"
    }
   ],
   "source": [
    "dict1"
   ]
  },
  {
   "cell_type": "markdown",
   "id": "5520a103",
   "metadata": {},
   "source": [
    "#### 4. del keyword: This method remove the item with specified key name"
   ]
  },
  {
   "cell_type": "code",
   "execution_count": 48,
   "id": "c01bb1d2",
   "metadata": {},
   "outputs": [
    {
     "data": {
      "text/plain": [
       "{'brand': 'suzuki', 'model': 'suzuki'}"
      ]
     },
     "execution_count": 48,
     "metadata": {},
     "output_type": "execute_result"
    }
   ],
   "source": [
    "dict1"
   ]
  },
  {
   "cell_type": "code",
   "execution_count": 49,
   "id": "4c67206f",
   "metadata": {},
   "outputs": [],
   "source": [
    "del dict1['model']"
   ]
  },
  {
   "cell_type": "code",
   "execution_count": 51,
   "id": "02c64162",
   "metadata": {},
   "outputs": [],
   "source": [
    "del dict1"
   ]
  },
  {
   "cell_type": "code",
   "execution_count": 52,
   "id": "000b63d9",
   "metadata": {},
   "outputs": [
    {
     "ename": "NameError",
     "evalue": "name 'dict1' is not defined",
     "output_type": "error",
     "traceback": [
      "\u001b[1;31m---------------------------------------------------------------------------\u001b[0m",
      "\u001b[1;31mNameError\u001b[0m                                 Traceback (most recent call last)",
      "\u001b[1;32m~\\AppData\\Local\\Temp\\ipykernel_2272\\1911420973.py\u001b[0m in \u001b[0;36m<module>\u001b[1;34m\u001b[0m\n\u001b[1;32m----> 1\u001b[1;33m \u001b[0mdict1\u001b[0m\u001b[1;33m\u001b[0m\u001b[1;33m\u001b[0m\u001b[0m\n\u001b[0m",
      "\u001b[1;31mNameError\u001b[0m: name 'dict1' is not defined"
     ]
    }
   ],
   "source": [
    "dict1"
   ]
  },
  {
   "cell_type": "markdown",
   "id": "c79b00dc",
   "metadata": {},
   "source": [
    "#### 5.clear (): This method is use to delete all the elements in the dictonary\n",
    "Note that it just deletes the content of the dictionary so the dictionary is there but without an element"
   ]
  },
  {
   "cell_type": "code",
   "execution_count": 56,
   "id": "9a702813",
   "metadata": {},
   "outputs": [],
   "source": [
    "dict2 ={'brand': 'suzuki', 'model': 'suzuki', 'year': '2022', 'color': 'white'}"
   ]
  },
  {
   "cell_type": "code",
   "execution_count": 57,
   "id": "8c534a94",
   "metadata": {},
   "outputs": [
    {
     "data": {
      "text/plain": [
       "{'brand': 'suzuki', 'model': 'suzuki', 'year': '2022', 'color': 'white'}"
      ]
     },
     "execution_count": 57,
     "metadata": {},
     "output_type": "execute_result"
    }
   ],
   "source": [
    "dict2"
   ]
  },
  {
   "cell_type": "code",
   "execution_count": 58,
   "id": "8de76152",
   "metadata": {},
   "outputs": [],
   "source": [
    "dict2.clear()"
   ]
  },
  {
   "cell_type": "code",
   "execution_count": 59,
   "id": "ef0fa866",
   "metadata": {},
   "outputs": [
    {
     "data": {
      "text/plain": [
       "{}"
      ]
     },
     "execution_count": 59,
     "metadata": {},
     "output_type": "execute_result"
    }
   ],
   "source": [
    "dict2"
   ]
  },
  {
   "cell_type": "code",
   "execution_count": 60,
   "id": "41c163f9",
   "metadata": {},
   "outputs": [],
   "source": [
    "#### 6. copy(): it will copy the dictionary"
   ]
  },
  {
   "cell_type": "code",
   "execution_count": 62,
   "id": "e0206b0d",
   "metadata": {},
   "outputs": [],
   "source": [
    "dict1 ={'brand': 'suzuki', 'model': 'suzuki', 'year': '2022', 'color': 'white'}"
   ]
  },
  {
   "cell_type": "code",
   "execution_count": 63,
   "id": "828ebd33",
   "metadata": {},
   "outputs": [
    {
     "data": {
      "text/plain": [
       "{'brand': 'suzuki', 'model': 'suzuki', 'year': '2022', 'color': 'white'}"
      ]
     },
     "execution_count": 63,
     "metadata": {},
     "output_type": "execute_result"
    }
   ],
   "source": [
    "dict1"
   ]
  },
  {
   "cell_type": "code",
   "execution_count": 64,
   "id": "55f1e617",
   "metadata": {},
   "outputs": [],
   "source": [
    "dict2 = dict1.copy()"
   ]
  },
  {
   "cell_type": "code",
   "execution_count": 65,
   "id": "bf9bd561",
   "metadata": {},
   "outputs": [
    {
     "data": {
      "text/plain": [
       "{'brand': 'suzuki', 'model': 'suzuki', 'year': '2022', 'color': 'white'}"
      ]
     },
     "execution_count": 65,
     "metadata": {},
     "output_type": "execute_result"
    }
   ],
   "source": [
    "dict2"
   ]
  },
  {
   "cell_type": "code",
   "execution_count": 66,
   "id": "9f0ea3e4",
   "metadata": {},
   "outputs": [],
   "source": [
    "#### 9.fromkeys() : returns a dictionary with the specified key and the specific value"
   ]
  },
  {
   "cell_type": "code",
   "execution_count": 67,
   "id": "fec6cd63",
   "metadata": {},
   "outputs": [],
   "source": [
    "x = ('key1','key2','key3')\n",
    "y =0"
   ]
  },
  {
   "cell_type": "code",
   "execution_count": 68,
   "id": "91f81652",
   "metadata": {},
   "outputs": [],
   "source": [
    "dict1 = dict.fromkeys(x,y)"
   ]
  },
  {
   "cell_type": "code",
   "execution_count": 69,
   "id": "92e9cfd5",
   "metadata": {},
   "outputs": [
    {
     "data": {
      "text/plain": [
       "{'key1': 0, 'key2': 0, 'key3': 0}"
      ]
     },
     "execution_count": 69,
     "metadata": {},
     "output_type": "execute_result"
    }
   ],
   "source": [
    "dict1"
   ]
  },
  {
   "cell_type": "markdown",
   "id": "5ca2d86f",
   "metadata": {},
   "source": [
    "#### 10. setdefault(): return the values of the item with the soecified key\n",
    "if the key does not exist it insert the key with the specified value"
   ]
  },
  {
   "cell_type": "code",
   "execution_count": 89,
   "id": "fce105d6",
   "metadata": {},
   "outputs": [
    {
     "data": {
      "text/plain": [
       "{'brand': 'suzuki',\n",
       " 'model': 'suzuki',\n",
       " 'year': '2022',\n",
       " 'color': 'white',\n",
       " 'size': None}"
      ]
     },
     "execution_count": 89,
     "metadata": {},
     "output_type": "execute_result"
    }
   ],
   "source": [
    "dict2"
   ]
  },
  {
   "cell_type": "code",
   "execution_count": 90,
   "id": "b49b6f9e",
   "metadata": {},
   "outputs": [],
   "source": [
    "x = dict2.setdefault('brand')"
   ]
  },
  {
   "cell_type": "code",
   "execution_count": 91,
   "id": "56fc76c1",
   "metadata": {},
   "outputs": [
    {
     "data": {
      "text/plain": [
       "'suzuki'"
      ]
     },
     "execution_count": 91,
     "metadata": {},
     "output_type": "execute_result"
    }
   ],
   "source": [
    "x"
   ]
  },
  {
   "cell_type": "code",
   "execution_count": 104,
   "id": "33a3e7f0",
   "metadata": {},
   "outputs": [],
   "source": [
    "y = dict2.setdefault('size','medium')"
   ]
  },
  {
   "cell_type": "code",
   "execution_count": 105,
   "id": "e0fed312",
   "metadata": {},
   "outputs": [
    {
     "data": {
      "text/plain": [
       "{'brand': 'suzuki',\n",
       " 'model': 'suzuki',\n",
       " 'year': '2022',\n",
       " 'color': 'black',\n",
       " 'size': None}"
      ]
     },
     "execution_count": 105,
     "metadata": {},
     "output_type": "execute_result"
    }
   ],
   "source": [
    "dict2"
   ]
  },
  {
   "cell_type": "code",
   "execution_count": 95,
   "id": "829e695b",
   "metadata": {},
   "outputs": [
    {
     "name": "stdout",
     "output_type": "stream",
     "text": [
      "None\n"
     ]
    }
   ],
   "source": [
    "print(y)"
   ]
  },
  {
   "cell_type": "code",
   "execution_count": 96,
   "id": "b75b4e81",
   "metadata": {},
   "outputs": [],
   "source": [
    "#### update() : inserts the specified item to the dictionary"
   ]
  },
  {
   "cell_type": "code",
   "execution_count": 98,
   "id": "81236ecc",
   "metadata": {},
   "outputs": [
    {
     "data": {
      "text/plain": [
       "{'brand': 'suzuki',\n",
       " 'model': 'suzuki',\n",
       " 'year': '2022',\n",
       " 'color': 'white',\n",
       " 'size': None}"
      ]
     },
     "execution_count": 98,
     "metadata": {},
     "output_type": "execute_result"
    }
   ],
   "source": [
    "dict2"
   ]
  },
  {
   "cell_type": "code",
   "execution_count": 101,
   "id": "79c78367",
   "metadata": {},
   "outputs": [],
   "source": [
    "dict2.update({'color':'black'})"
   ]
  },
  {
   "cell_type": "code",
   "execution_count": 106,
   "id": "efd338bd",
   "metadata": {},
   "outputs": [
    {
     "data": {
      "text/plain": [
       "{'brand': 'suzuki',\n",
       " 'model': 'suzuki',\n",
       " 'year': '2022',\n",
       " 'color': 'black',\n",
       " 'size': None}"
      ]
     },
     "execution_count": 106,
     "metadata": {},
     "output_type": "execute_result"
    }
   ],
   "source": [
    "dict2"
   ]
  },
  {
   "cell_type": "markdown",
   "id": "387eb83c",
   "metadata": {},
   "source": [
    "#### searching program in Dictionary"
   ]
  },
  {
   "cell_type": "code",
   "execution_count": 107,
   "id": "a8e1390b",
   "metadata": {},
   "outputs": [],
   "source": [
    "## write a program to store student information like admission number, roll number,name, marks in a dictionary and \n",
    "#dispaly information on the basis of admission number"
   ]
  },
  {
   "cell_type": "code",
   "execution_count": 109,
   "id": "aac64fec",
   "metadata": {},
   "outputs": [
    {
     "name": "stdout",
     "output_type": "stream",
     "text": [
      " please input the id and name separated by comma or q to exit101,sumi\n",
      " please input the id and name separated by comma or q to exit102,marufa\n",
      " please input the id and name separated by comma or q to exitq\n",
      "101 sumi\n",
      "102 marufa\n",
      "enter id to search: 101\n",
      "key =  101 value =  sumi\n"
     ]
    }
   ],
   "source": [
    "student_db ={}\n",
    "# ask input from user or 'q' to exit\n",
    "while True:\n",
    "    line = input(\" please input the id and name separated by comma or q to exit\")\n",
    "    if line == 'q':\n",
    "        break\n",
    "    id_,name = line.split(',')\n",
    "    student_db.update({id_:name})\n",
    "for x,y in student_db.items():\n",
    "    print(x,y)\n",
    "    \n",
    "    \n",
    "##searching the key\n",
    "key = input('enter id to search: ')\n",
    "if key in student_db:\n",
    "    print(\"key = \",key, 'value = ', student_db[key])\n",
    "else:\n",
    "    print(\"key not found\")"
   ]
  },
  {
   "cell_type": "code",
   "execution_count": null,
   "id": "fac0f2eb",
   "metadata": {},
   "outputs": [],
   "source": []
  }
 ],
 "metadata": {
  "kernelspec": {
   "display_name": "Python 3 (ipykernel)",
   "language": "python",
   "name": "python3"
  },
  "language_info": {
   "codemirror_mode": {
    "name": "ipython",
    "version": 3
   },
   "file_extension": ".py",
   "mimetype": "text/x-python",
   "name": "python",
   "nbconvert_exporter": "python",
   "pygments_lexer": "ipython3",
   "version": "3.9.13"
  }
 },
 "nbformat": 4,
 "nbformat_minor": 5
}
